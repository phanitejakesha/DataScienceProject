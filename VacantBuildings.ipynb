{
 "cells": [
  {
   "cell_type": "markdown",
   "metadata": {},
   "source": [
    "# Deserted neighborhood: Reason for crime?"
   ]
  },
  {
   "cell_type": "code",
   "execution_count": 25,
   "metadata": {},
   "outputs": [],
   "source": [
    "#All the imports for the notebook can be found here \n",
    "import pandas as pd\n",
    "import os\n",
    "import numpy as np\n",
    "import matplotlib.pyplot as plt\n",
    "# import folium as folium\n",
    "# import gmaps\n",
    "# import gmaps.datasets"
   ]
  },
  {
   "cell_type": "code",
   "execution_count": 56,
   "metadata": {},
   "outputs": [],
   "source": [
    "df_vacant = pd.read_csv('Vacant_Buildings.csv') # Reading the data into the dataframe df"
   ]
  },
  {
   "cell_type": "code",
   "execution_count": 57,
   "metadata": {},
   "outputs": [
    {
     "data": {
      "text/html": [
       "<div>\n",
       "<style scoped>\n",
       "    .dataframe tbody tr th:only-of-type {\n",
       "        vertical-align: middle;\n",
       "    }\n",
       "\n",
       "    .dataframe tbody tr th {\n",
       "        vertical-align: top;\n",
       "    }\n",
       "\n",
       "    .dataframe thead th {\n",
       "        text-align: right;\n",
       "    }\n",
       "</style>\n",
       "<table border=\"1\" class=\"dataframe\">\n",
       "  <thead>\n",
       "    <tr style=\"text-align: right;\">\n",
       "      <th></th>\n",
       "      <th>ReferenceID</th>\n",
       "      <th>Block</th>\n",
       "      <th>Lot</th>\n",
       "      <th>BuildingAddress</th>\n",
       "      <th>NoticeDate</th>\n",
       "      <th>Neighborhood</th>\n",
       "      <th>PoliceDistrict</th>\n",
       "      <th>CouncilDistrict</th>\n",
       "      <th>Location</th>\n",
       "    </tr>\n",
       "  </thead>\n",
       "  <tbody>\n",
       "    <tr>\n",
       "      <th>0</th>\n",
       "      <td>0002 019 031016</td>\n",
       "      <td>0002</td>\n",
       "      <td>019</td>\n",
       "      <td>1909 W NORTH AVE</td>\n",
       "      <td>03/10/2016</td>\n",
       "      <td>EASTERWOOD</td>\n",
       "      <td>WESTERN</td>\n",
       "      <td>7</td>\n",
       "      <td>(39.30952601, -76.64848892)</td>\n",
       "    </tr>\n",
       "    <tr>\n",
       "      <th>1</th>\n",
       "      <td>0007 057 031116</td>\n",
       "      <td>0007</td>\n",
       "      <td>057</td>\n",
       "      <td>1734 APPLETON ST</td>\n",
       "      <td>03/11/2016</td>\n",
       "      <td>EASTERWOOD</td>\n",
       "      <td>WESTERN</td>\n",
       "      <td>7</td>\n",
       "      <td>(39.30856758, -76.64921157)</td>\n",
       "    </tr>\n",
       "    <tr>\n",
       "      <th>2</th>\n",
       "      <td>0125 012 030816</td>\n",
       "      <td>0125</td>\n",
       "      <td>012</td>\n",
       "      <td>522 N CAREY ST</td>\n",
       "      <td>03/08/2016</td>\n",
       "      <td>HARLEM PARK</td>\n",
       "      <td>WESTERN</td>\n",
       "      <td>9</td>\n",
       "      <td>(39.29482152, -76.63877572)</td>\n",
       "    </tr>\n",
       "    <tr>\n",
       "      <th>3</th>\n",
       "      <td>0151 009 030716</td>\n",
       "      <td>0151</td>\n",
       "      <td>009</td>\n",
       "      <td>317 N GILMOR ST</td>\n",
       "      <td>03/07/2016</td>\n",
       "      <td>FRANKLIN SQUARE</td>\n",
       "      <td>WESTERN</td>\n",
       "      <td>9</td>\n",
       "      <td>(39.29261888, -76.64231678)</td>\n",
       "    </tr>\n",
       "    <tr>\n",
       "      <th>4</th>\n",
       "      <td>0074 010 030918</td>\n",
       "      <td>0074</td>\n",
       "      <td>010</td>\n",
       "      <td>945 N MOUNT ST</td>\n",
       "      <td>03/09/2018</td>\n",
       "      <td>Sandtown-Winchester</td>\n",
       "      <td>Western</td>\n",
       "      <td>9</td>\n",
       "      <td>(39.29975212, -76.64415784)</td>\n",
       "    </tr>\n",
       "  </tbody>\n",
       "</table>\n",
       "</div>"
      ],
      "text/plain": [
       "       ReferenceID Block  Lot   BuildingAddress  NoticeDate  \\\n",
       "0  0002 019 031016  0002  019  1909 W NORTH AVE  03/10/2016   \n",
       "1  0007 057 031116  0007  057  1734 APPLETON ST  03/11/2016   \n",
       "2  0125 012 030816  0125  012    522 N CAREY ST  03/08/2016   \n",
       "3  0151 009 030716  0151  009   317 N GILMOR ST  03/07/2016   \n",
       "4  0074 010 030918  0074  010    945 N MOUNT ST  03/09/2018   \n",
       "\n",
       "          Neighborhood PoliceDistrict  CouncilDistrict  \\\n",
       "0           EASTERWOOD        WESTERN                7   \n",
       "1           EASTERWOOD        WESTERN                7   \n",
       "2          HARLEM PARK        WESTERN                9   \n",
       "3      FRANKLIN SQUARE        WESTERN                9   \n",
       "4  Sandtown-Winchester        Western                9   \n",
       "\n",
       "                      Location  \n",
       "0  (39.30952601, -76.64848892)  \n",
       "1  (39.30856758, -76.64921157)  \n",
       "2  (39.29482152, -76.63877572)  \n",
       "3  (39.29261888, -76.64231678)  \n",
       "4  (39.29975212, -76.64415784)  "
      ]
     },
     "execution_count": 57,
     "metadata": {},
     "output_type": "execute_result"
    }
   ],
   "source": [
    "df_vacant.head()        #checking the first 5 rows in the dataset"
   ]
  },
  {
   "cell_type": "code",
   "execution_count": 58,
   "metadata": {},
   "outputs": [
    {
     "data": {
      "text/plain": [
       "16692"
      ]
     },
     "execution_count": 58,
     "metadata": {},
     "output_type": "execute_result"
    }
   ],
   "source": [
    "len(df_vacant) #Total 16.6k rows in the dataset "
   ]
  },
  {
   "cell_type": "markdown",
   "metadata": {},
   "source": [
    "# Each column description with null values"
   ]
  },
  {
   "cell_type": "code",
   "execution_count": 59,
   "metadata": {},
   "outputs": [
    {
     "data": {
      "text/plain": [
       "ReferenceID        0\n",
       "Block              0\n",
       "Lot                0\n",
       "BuildingAddress    1\n",
       "NoticeDate         0\n",
       "Neighborhood       0\n",
       "PoliceDistrict     0\n",
       "CouncilDistrict    0\n",
       "Location           0\n",
       "dtype: int64"
      ]
     },
     "execution_count": 59,
     "metadata": {},
     "output_type": "execute_result"
    }
   ],
   "source": [
    "df_vacant.isnull().sum(axis=0)"
   ]
  },
  {
   "cell_type": "markdown",
   "metadata": {},
   "source": [
    "There are not many null values in the dataset only one row in which there is not building address, so lets go ahead and delete the row which has a null value. To make the dataset clean."
   ]
  },
  {
   "cell_type": "code",
   "execution_count": 60,
   "metadata": {},
   "outputs": [
    {
     "data": {
      "text/html": [
       "<div>\n",
       "<style scoped>\n",
       "    .dataframe tbody tr th:only-of-type {\n",
       "        vertical-align: middle;\n",
       "    }\n",
       "\n",
       "    .dataframe tbody tr th {\n",
       "        vertical-align: top;\n",
       "    }\n",
       "\n",
       "    .dataframe thead th {\n",
       "        text-align: right;\n",
       "    }\n",
       "</style>\n",
       "<table border=\"1\" class=\"dataframe\">\n",
       "  <thead>\n",
       "    <tr style=\"text-align: right;\">\n",
       "      <th></th>\n",
       "      <th>CouncilDistrict</th>\n",
       "    </tr>\n",
       "  </thead>\n",
       "  <tbody>\n",
       "    <tr>\n",
       "      <th>count</th>\n",
       "      <td>16692.000000</td>\n",
       "    </tr>\n",
       "    <tr>\n",
       "      <th>mean</th>\n",
       "      <td>9.364186</td>\n",
       "    </tr>\n",
       "    <tr>\n",
       "      <th>std</th>\n",
       "      <td>2.775971</td>\n",
       "    </tr>\n",
       "    <tr>\n",
       "      <th>min</th>\n",
       "      <td>1.000000</td>\n",
       "    </tr>\n",
       "    <tr>\n",
       "      <th>25%</th>\n",
       "      <td>7.000000</td>\n",
       "    </tr>\n",
       "    <tr>\n",
       "      <th>50%</th>\n",
       "      <td>9.000000</td>\n",
       "    </tr>\n",
       "    <tr>\n",
       "      <th>75%</th>\n",
       "      <td>12.000000</td>\n",
       "    </tr>\n",
       "    <tr>\n",
       "      <th>max</th>\n",
       "      <td>14.000000</td>\n",
       "    </tr>\n",
       "  </tbody>\n",
       "</table>\n",
       "</div>"
      ],
      "text/plain": [
       "       CouncilDistrict\n",
       "count     16692.000000\n",
       "mean          9.364186\n",
       "std           2.775971\n",
       "min           1.000000\n",
       "25%           7.000000\n",
       "50%           9.000000\n",
       "75%          12.000000\n",
       "max          14.000000"
      ]
     },
     "execution_count": 60,
     "metadata": {},
     "output_type": "execute_result"
    }
   ],
   "source": [
    "df_vacant.describe()"
   ]
  },
  {
   "cell_type": "code",
   "execution_count": 61,
   "metadata": {},
   "outputs": [
    {
     "data": {
      "text/html": [
       "<div>\n",
       "<style scoped>\n",
       "    .dataframe tbody tr th:only-of-type {\n",
       "        vertical-align: middle;\n",
       "    }\n",
       "\n",
       "    .dataframe tbody tr th {\n",
       "        vertical-align: top;\n",
       "    }\n",
       "\n",
       "    .dataframe thead th {\n",
       "        text-align: right;\n",
       "    }\n",
       "</style>\n",
       "<table border=\"1\" class=\"dataframe\">\n",
       "  <thead>\n",
       "    <tr style=\"text-align: right;\">\n",
       "      <th></th>\n",
       "      <th>ReferenceID</th>\n",
       "      <th>Block</th>\n",
       "      <th>Lot</th>\n",
       "      <th>BuildingAddress</th>\n",
       "      <th>NoticeDate</th>\n",
       "      <th>Neighborhood</th>\n",
       "      <th>PoliceDistrict</th>\n",
       "      <th>CouncilDistrict</th>\n",
       "      <th>Location</th>\n",
       "    </tr>\n",
       "  </thead>\n",
       "  <tbody>\n",
       "    <tr>\n",
       "      <th>5193</th>\n",
       "      <td>0626 026 080217</td>\n",
       "      <td>0626</td>\n",
       "      <td>026</td>\n",
       "      <td>NaN</td>\n",
       "      <td>08/02/2017</td>\n",
       "      <td>Poppleton</td>\n",
       "      <td>Western</td>\n",
       "      <td>11</td>\n",
       "      <td>(39.28929887, -76.62864465)</td>\n",
       "    </tr>\n",
       "  </tbody>\n",
       "</table>\n",
       "</div>"
      ],
      "text/plain": [
       "          ReferenceID Block  Lot BuildingAddress  NoticeDate Neighborhood  \\\n",
       "5193  0626 026 080217  0626  026             NaN  08/02/2017    Poppleton   \n",
       "\n",
       "     PoliceDistrict  CouncilDistrict                     Location  \n",
       "5193        Western               11  (39.28929887, -76.62864465)  "
      ]
     },
     "execution_count": 61,
     "metadata": {},
     "output_type": "execute_result"
    }
   ],
   "source": [
    "df_vacant[df_vacant['BuildingAddress'].isnull()] "
   ]
  },
  {
   "cell_type": "code",
   "execution_count": 62,
   "metadata": {},
   "outputs": [],
   "source": [
    "df_vacant = df_vacant[df_vacant['BuildingAddress'].notnull()]"
   ]
  },
  {
   "cell_type": "code",
   "execution_count": 63,
   "metadata": {},
   "outputs": [
    {
     "data": {
      "text/plain": [
       "ReferenceID        0\n",
       "Block              0\n",
       "Lot                0\n",
       "BuildingAddress    0\n",
       "NoticeDate         0\n",
       "Neighborhood       0\n",
       "PoliceDistrict     0\n",
       "CouncilDistrict    0\n",
       "Location           0\n",
       "dtype: int64"
      ]
     },
     "execution_count": 63,
     "metadata": {},
     "output_type": "execute_result"
    }
   ],
   "source": [
    "df_vacant.isnull().sum(axis=0)"
   ]
  },
  {
   "cell_type": "code",
   "execution_count": 64,
   "metadata": {},
   "outputs": [
    {
     "data": {
      "text/plain": [
       "array([ 7,  9, 11, 10, 12, 13,  8,  6,  5,  4, 14,  2,  1,  3],\n",
       "      dtype=int64)"
      ]
     },
     "execution_count": 64,
     "metadata": {},
     "output_type": "execute_result"
    }
   ],
   "source": [
    "df_vacant['CouncilDistrict'].unique()"
   ]
  },
  {
   "cell_type": "code",
   "execution_count": 65,
   "metadata": {},
   "outputs": [
    {
     "data": {
      "text/plain": [
       "array(['WESTERN', 'Western', 'SOUTHERN', 'Southwestern', 'CENTRAL',\n",
       "       'Southern', 'EASTERN', 'SOUTHEASTERN', 'SOUTHWESTERN', 'Eastern',\n",
       "       'Southeastern', 'Northwestern', 'NORTHWESTERN', 'NORTHERN',\n",
       "       'Notheastern', 'Central', 'Northern', 'NORTHEASTERN'], dtype=object)"
      ]
     },
     "execution_count": 65,
     "metadata": {},
     "output_type": "execute_result"
    }
   ],
   "source": [
    "df_vacant['PoliceDistrict'].unique()   #its considering the coloumn as type sensitive,convert into a single case for no confusion "
   ]
  },
  {
   "cell_type": "code",
   "execution_count": 66,
   "metadata": {},
   "outputs": [],
   "source": [
    "df_vacant['PoliceDistrict']=df_vacant['PoliceDistrict'].str.lower()"
   ]
  },
  {
   "cell_type": "code",
   "execution_count": 67,
   "metadata": {},
   "outputs": [
    {
     "data": {
      "text/plain": [
       "array(['EASTERWOOD', 'HARLEM PARK', 'FRANKLIN SQUARE',\n",
       "       'Sandtown-Winchester', 'CARROLLTON RIDGE', 'Boyd-Booth',\n",
       "       'DOWNTOWN', 'WASHINGTON VILLAGE/PIGTOWN', 'Union Square',\n",
       "       'Hollins Market', 'OLIVER', 'BROADWAY EAST',\n",
       "       'New Southwest/Mount Clare', 'MCELDERRY PARK',\n",
       "       'ELLWOOD PARK/MONUMENT', 'Easterwood',\n",
       "       'COPPIN HEIGHTS/ASH-CO-EAST', 'Franklin Square',\n",
       "       'NORTHWEST COMMUNITY ACTION', 'Poppleton', 'ROSEMONT',\n",
       "       'FRANKLINTOWN ROAD', 'EDGEWOOD', 'Penrose/Fayette Street Outreach',\n",
       "       'Broadway East', 'Madison-Eastend', 'McElderry Park',\n",
       "       'Ellwood Park/Monument', 'Franklintown Road', 'Rosemont',\n",
       "       'East Baltimore Midway', 'Central Park Heights', 'Brooklyn',\n",
       "       'IRVINGTON', 'CONCERNED CITIZENS OF FOREST PARK', 'FOREST PARK',\n",
       "       'HANLON-LONGWOOD', 'PARK CIRCLE', 'WOODBERRY', 'BARCLAY',\n",
       "       'PIMLICO GOOD NEIGHBORS', 'MID-GOVANS',\n",
       "       'Coldstream Homestead Montebello', 'Oliver', 'BROOKLYN', 'Berea',\n",
       "       'CARE', 'Belair-Edison', 'SANDTOWN-WINCHESTER',\n",
       "       'MIDTOWN-EDMONDSON', 'UNION SQUARE', 'NEW SOUTHWEST/MOUNT CLARE',\n",
       "       'PENN NORTH', 'Biddle Street', 'DRUID HEIGHTS', 'Dolfield',\n",
       "       'Westfield', 'Glenham-Belhar', 'West Arlington', 'BEREA',\n",
       "       'Carrollton Ridge', 'Upton', 'Milton-Montford',\n",
       "       'Patterson Park Neighborhood', 'Canton',\n",
       "       'Coppin Heights/Ash-Co-East', 'Park Circle', 'Towanda-Grantley',\n",
       "       'Mondawmin', 'Reservoir Hill', 'Hampden', 'Druid Heights',\n",
       "       'Madison Park', 'MILTON-MONTFORD', 'MADISON-EASTEND', 'Oldtown',\n",
       "       'Irvington', 'Pen Lucy', 'MILLHILL', 'SAINT JOSEPHS',\n",
       "       'ROSEMONT HOMEOWNERS/TENANTS', 'Better Waverly', 'ALLENDALE',\n",
       "       'Arlington', 'WINCHESTER', 'Downtown', 'CENTRAL FOREST PARK',\n",
       "       'PANWAY/BRADDISH AVENUE', 'MONDAWMIN', 'Johnston Square',\n",
       "       'Gay Street', 'Middle East', 'Shipley Hill',\n",
       "       'Carroll-South Hilton', 'PARKVIEW/WOODBROOK',\n",
       "       'CENTRAL PARK HEIGHTS', 'Millhill', 'RESERVOIR HILL',\n",
       "       'EAST BALTIMORE MIDWAY', 'Bayview', 'Brewers Hill', 'Greektown',\n",
       "       'Curtis Bay', 'Four By Four', 'ARLINGTON', 'Dorchester',\n",
       "       'Garwyn Oaks', 'Fairmont', 'Darley Park', 'Cedarcroft', 'WESTPORT',\n",
       "       'SAINT PAUL', 'Baltimore Highlands', 'Parklane',\n",
       "       'Reisterstown Station', 'Glen', 'Pimlico Good Neighbors',\n",
       "       'POPPLETON', 'Saint Helena', 'BOYD-BOOTH', 'Richnor Springs',\n",
       "       'Violetville', 'Morrell Park', 'MOUNT HOLLY', 'WINDSOR HILLS',\n",
       "       'FAIRMONT', 'WALBROOK', 'UPTON', 'GREENMOUNT WEST',\n",
       "       'BRIDGEVIEW/GREENLAWN', 'JOHNSTON SQUARE', 'Parkside',\n",
       "       'MIDDLE EAST', 'Midtown-Edmondson', 'BIDDLE STREET',\n",
       "       'Washington Village/Pigtown', 'East Arlington', 'SHIPLEY HILL',\n",
       "       'CARROLL-SOUTH HILTON', 'Greenspring', 'GAY STREET', 'JONESTOWN',\n",
       "       'Harlem Park', 'WASHINGTON HILL', 'FELLS POINT',\n",
       "       'Rosemont Homeowners/Tenants', 'Saint Josephs', 'Mosher',\n",
       "       'Winchester', 'ASHBURTON', 'TOWANDA-GRANTLEY', 'LIBERTY SQUARE',\n",
       "       'OLD GOUCHER', 'MOUNT WASHINGTON', 'Edgewood', 'WINSTON-GOVANS',\n",
       "       'Remington', 'Waverly', 'Overlea', 'Penn North', 'Moravia-Walther',\n",
       "       'Waltherson', 'Westport', 'BETTER WAVERLY', 'Parkview/Woodbrook',\n",
       "       'Cherry Hill', 'Northwest Community Action', 'Highlandtown',\n",
       "       'Lakeland', 'Woodmere', 'PATTERSON PARK NEIGHBORHOOD',\n",
       "       'MOUNT WINANS', 'MORRELL PARK', 'GROVE PARK', 'WEST ARLINGTON',\n",
       "       'Pulaski Industrial Area', 'HOWARD PARK',\n",
       "       'Concerned Citizens Of Forest Park', 'Barclay',\n",
       "       'Woodbourne-McCabe', 'Forest Park', 'BALTIMORE HIGHLANDS',\n",
       "       'Hillen', 'West Hills', 'Winston-Govans', 'Riverside', 'Idlewood',\n",
       "       'PENROSE/FAYETTE STREET OUTREACH', 'Mid-Town Belvedere',\n",
       "       'Greenmount West', 'Kernewood', 'DORCHESTER', 'CALLAWAY-GARRISON',\n",
       "       'REMINGTON', 'Lauraville', 'Abell', 'WILHELM PARK', 'BEECHFIELD',\n",
       "       'Cameron Village', 'Loch Raven', 'Cedmont', 'Allendale',\n",
       "       'Evergreen Lawn', 'Charles Village', 'DARLEY PARK',\n",
       "       'Callaway-Garrison', 'Walbrook', 'Hanlon-Longwood', 'MOSHER',\n",
       "       'HAMPDEN', 'Central Forest Park', 'CURTIS BAY', 'GWYNNS FALLS',\n",
       "       'Glen Oaks', 'Lower Edmondson Village', 'Edmondson Village',\n",
       "       'WEST HILLS', 'Bridgeview/Greenlawn', 'CHARLES NORTH',\n",
       "       'EDMONDSON VILLAGE', 'CYLBURN', 'Wrenlane', 'BROENING MANOR',\n",
       "       'SHARP-LEADENHALL', 'WOODMERE', 'Hamilton Hills', 'DOLFIELD',\n",
       "       'SOUTH CLIFTON PARK', 'Sharp-Leadenhall', 'LAKELAND',\n",
       "       'LAKE WALKER', 'WOODBOURNE-MCCABE', 'Cylburn', 'CHARLES VILLAGE',\n",
       "       'Lucille Park', 'Jonestown', 'Upper Fells Point', 'HOLLINS MARKET',\n",
       "       'West Forest Park', 'Mount Holly', 'Windsor Hills',\n",
       "       \"BUTCHER'S HILL\", 'Yale Heights', 'Burleith-Leighton', 'WAVERLY',\n",
       "       'Ednor Gardens-Lakeside', 'Medford', 'Tremont', 'GREENSPRING',\n",
       "       'FALLSTAFF', 'GLEN', 'LEVINDALE', 'Rosemont East', 'Kresson',\n",
       "       'TEN HILLS', 'Frankford', 'Harwood', 'Arcadia',\n",
       "       'South Clifton Park', 'Fallstaff', 'PEN LUCY', 'Evergreen',\n",
       "       'Belvedere', 'Howard Park', 'LANGSTON HUGHES', 'PARKLANE',\n",
       "       'HOMELAND', 'Rognel Heights', 'MID-TOWN BELVEDERE',\n",
       "       'SOUTH BALTIMORE', 'OAKLEE', 'Seton Hill',\n",
       "       'LOWER EDMONDSON VILLAGE', 'Patterson Place', \"Butcher's Hill\",\n",
       "       'SETON HILL', 'Gwynns Falls', 'UPPER FELLS POINT', 'OLDTOWN',\n",
       "       'Broening Manor', 'Graceland Park', 'Wakefield', 'CANTON',\n",
       "       'GARWYN OAKS', 'REISTERSTOWN STATION', 'HIGHLANDTOWN',\n",
       "       'ROGNEL HEIGHTS', 'Washington Hill', 'University Of Maryland',\n",
       "       'Mount Washington', 'WEST FOREST PARK', 'New Northwood',\n",
       "       'Langston Hughes', 'Beechfield', 'Orangeville', 'Wilson Park',\n",
       "       'Bolton Hill', 'Guilford', 'Mid-Govans', 'Kenilworth Park',\n",
       "       'North Harford Road', 'Stonewood-Pentwood-Winston',\n",
       "       'Panway/Braddish Avenue', 'Mount Vernon', 'Woodbourne Heights',\n",
       "       'Mount Winans', 'Forest Park Golf Course', 'Roland Park',\n",
       "       'South Baltimore', 'Ashburton', 'Fells Point',\n",
       "       'Pleasant View Gardens', 'Federal Hill', 'Fairfield Area',\n",
       "       'Charles North', 'Cross Country', 'Cedonia', 'Little Italy',\n",
       "       'EVERGREEN LAWN', 'Belair-Parkside', 'Wilhelm Park', 'Grove Park',\n",
       "       'Levindale', 'Chinquapin Park', 'Woodberry', 'Westgate',\n",
       "       'Ramblewood', 'Liberty Square', 'Homeland', 'Oakenshawe',\n",
       "       'Wyman Park', 'Penn-Fallsway', 'Taylor Heights', 'Rosebank',\n",
       "       'Lake Walker', 'LUCILLE PARK', 'Mayfield', 'BURLEITH-LEIGHTON',\n",
       "       'Medfield', 'Saint Paul', 'Original Northwood', 'Franklintown',\n",
       "       'Heritage Crossing', 'HARWOOD', 'Uplands', 'Hopkins Bayview',\n",
       "       'COLDSTREAM HOMESTEAD MONTEBELLO', 'WESTFIELD', 'FOUR BY FOUR',\n",
       "       'ROLAND PARK', 'Hunting Ridge', \"Ridgely's Delight\", 'GLEN OAKS',\n",
       "       'LAURAVILLE', 'WALTHERSON', 'NORTH HARFORD ROAD', 'BELAIR-EDISON',\n",
       "       'UPLANDS', 'HUNTING RIDGE', 'FRANKLINTOWN', 'MADISON PARK',\n",
       "       'BOLTON HILL', 'HERITAGE CROSSING', 'MOUNT VERNON',\n",
       "       'UNIVERSITY OF MARYLAND', \"RIDGELY'S DELIGHT\", 'FEDERAL HILL',\n",
       "       'CARROLL - CAMDEN INDUSTRIAL AREA', 'LITTLE ITALY',\n",
       "       'PLEASANT VIEW GARDENS', 'RIVERSIDE', 'LOCUST POINT',\n",
       "       'CAMERON VILLAGE', 'GUILFORD', 'OAKENSHAWE', 'ABELL',\n",
       "       'Clifton Park', 'KERNEWOOD', 'RADNOR-WINSTON', 'EVESHAM PARK',\n",
       "       'KENILWORTH PARK', 'WILSON PARK', 'RICHNOR SPRINGS', 'WRENLANE',\n",
       "       'Perring Loch', 'KRESSON', 'ORANGEVILLE INDUSTRIAL AREA',\n",
       "       'ORANGEVILLE', 'PULASKI INDUSTRIAL AREA', 'BREWERS HILL',\n",
       "       'GREEKTOWN', 'BAYVIEW', 'CHERRY HILL'], dtype=object)"
      ]
     },
     "execution_count": 67,
     "metadata": {},
     "output_type": "execute_result"
    }
   ],
   "source": [
    "df_vacant['Neighborhood'].unique()"
   ]
  },
  {
   "cell_type": "code",
   "execution_count": 68,
   "metadata": {},
   "outputs": [
    {
     "data": {
      "text/plain": [
       "array(['western', 'southern', 'southwestern', 'central', 'eastern',\n",
       "       'southeastern', 'northwestern', 'northern', 'notheastern',\n",
       "       'northeastern'], dtype=object)"
      ]
     },
     "execution_count": 68,
     "metadata": {},
     "output_type": "execute_result"
    }
   ],
   "source": [
    "df_vacant['PoliceDistrict'].unique()"
   ]
  },
  {
   "cell_type": "code",
   "execution_count": 69,
   "metadata": {},
   "outputs": [
    {
     "data": {
      "text/plain": [
       "505"
      ]
     },
     "execution_count": 69,
     "metadata": {},
     "output_type": "execute_result"
    }
   ],
   "source": [
    "len(df_vacant['Lot'].unique())"
   ]
  },
  {
   "cell_type": "code",
   "execution_count": 70,
   "metadata": {},
   "outputs": [
    {
     "data": {
      "text/plain": [
       "array(['0002', '0007', '0125', ..., '8358', '8422', '8434F'], dtype=object)"
      ]
     },
     "execution_count": 70,
     "metadata": {},
     "output_type": "execute_result"
    }
   ],
   "source": [
    "df_vacant['Block'].unique()"
   ]
  },
  {
   "cell_type": "code",
   "execution_count": 71,
   "metadata": {},
   "outputs": [
    {
     "data": {
      "text/plain": [
       "pandas.core.series.Series"
      ]
     },
     "execution_count": 71,
     "metadata": {},
     "output_type": "execute_result"
    }
   ],
   "source": [
    "type(df_vacant.groupby(['PoliceDistrict']).count()['Lot'])"
   ]
  },
  {
   "cell_type": "markdown",
   "metadata": {},
   "source": [
    "Western Police Dstrict has lot of vacant builings. Now lets see if we can find reason for it."
   ]
  },
  {
   "cell_type": "code",
   "execution_count": 72,
   "metadata": {},
   "outputs": [
    {
     "data": {
      "text/plain": [
       "<matplotlib.axes._subplots.AxesSubplot at 0x1a646bf33c8>"
      ]
     },
     "execution_count": 72,
     "metadata": {},
     "output_type": "execute_result"
    },
    {
     "data": {
      "image/png": "[encoded data removed]",
      "text/plain": [
       "<Figure size 432x288 with 1 Axes>"
      ]
     },
     "metadata": {},
     "output_type": "display_data"
    }
   ],
   "source": [
    "df_vacant.groupby(['PoliceDistrict']).count()['Lot'].plot(kind='bar')"
   ]
  },
  {
   "cell_type": "markdown",
   "metadata": {},
   "source": [
    "<b>Western and Eastern </b> police district has lot of vacant buildings."
   ]
  },
  {
   "cell_type": "code",
   "execution_count": 74,
   "metadata": {},
   "outputs": [
    {
     "data": {
      "text/plain": [
       "<matplotlib.axes._subplots.AxesSubplot at 0x1a661c7c9e8>"
      ]
     },
     "execution_count": 74,
     "metadata": {},
     "output_type": "execute_result"
    },
    {
     "data": {
      "image/png": "[encoded data removed]",
      "text/plain": [
       "<Figure size 432x288 with 1 Axes>"
      ]
     },
     "metadata": {},
     "output_type": "display_data"
    }
   ],
   "source": [
    "df_vacant.groupby(['CouncilDistrict']).count()['Lot'].plot(kind='bar')"
   ]
  },
  {
   "cell_type": "markdown",
   "metadata": {},
   "source": [
    "Checking if \"Western\" maps with council District 9"
   ]
  },
  {
   "cell_type": "code",
   "execution_count": 75,
   "metadata": {},
   "outputs": [
    {
     "data": {
      "text/plain": [
       "<matplotlib.axes._subplots.AxesSubplot at 0x1a661d017f0>"
      ]
     },
     "execution_count": 75,
     "metadata": {},
     "output_type": "execute_result"
    },
    {
     "data": {
      "image/png": "[encoded data removed]",
      "text/plain": [
       "<Figure size 432x288 with 1 Axes>"
      ]
     },
     "metadata": {},
     "output_type": "display_data"
    }
   ],
   "source": [
    "df[df['CouncilDistrict'] == 9].groupby('PoliceDistrict').count()['Lot'].plot(kind = 'bar')"
   ]
  },
  {
   "cell_type": "code",
   "execution_count": 76,
   "metadata": {},
   "outputs": [],
   "source": [
    "df_crime = pd.read_csv('BPD_Part_1_Victim_Based_Crime_Data.csv')"
   ]
  },
  {
   "cell_type": "code",
   "execution_count": 77,
   "metadata": {},
   "outputs": [
    {
     "data": {
      "text/html": [
       "<div>\n",
       "<style scoped>\n",
       "    .dataframe tbody tr th:only-of-type {\n",
       "        vertical-align: middle;\n",
       "    }\n",
       "\n",
       "    .dataframe tbody tr th {\n",
       "        vertical-align: top;\n",
       "    }\n",
       "\n",
       "    .dataframe thead th {\n",
       "        text-align: right;\n",
       "    }\n",
       "</style>\n",
       "<table border=\"1\" class=\"dataframe\">\n",
       "  <thead>\n",
       "    <tr style=\"text-align: right;\">\n",
       "      <th></th>\n",
       "      <th>CrimeDate</th>\n",
       "      <th>CrimeTime</th>\n",
       "      <th>CrimeCode</th>\n",
       "      <th>Location</th>\n",
       "      <th>Description</th>\n",
       "      <th>Inside/Outside</th>\n",
       "      <th>Weapon</th>\n",
       "      <th>Post</th>\n",
       "      <th>District</th>\n",
       "      <th>Neighborhood</th>\n",
       "      <th>Longitude</th>\n",
       "      <th>Latitude</th>\n",
       "      <th>Location 1</th>\n",
       "      <th>Premise</th>\n",
       "      <th>crimeCaseNumber</th>\n",
       "      <th>Total Incidents</th>\n",
       "    </tr>\n",
       "  </thead>\n",
       "  <tbody>\n",
       "    <tr>\n",
       "      <th>0</th>\n",
       "      <td>07/07/2018</td>\n",
       "      <td>23:53:00</td>\n",
       "      <td>1F</td>\n",
       "      <td>1600 PENTWOOD RD</td>\n",
       "      <td>HOMICIDE</td>\n",
       "      <td>NaN</td>\n",
       "      <td>FIREARM</td>\n",
       "      <td>413.0</td>\n",
       "      <td>NORTHEASTERN</td>\n",
       "      <td>Stonewood-Pentwood-Winsto</td>\n",
       "      <td>-76.58727</td>\n",
       "      <td>39.34782</td>\n",
       "      <td>(39.34782, -76.58727)</td>\n",
       "      <td>Alley</td>\n",
       "      <td>NaN</td>\n",
       "      <td>1.0</td>\n",
       "    </tr>\n",
       "    <tr>\n",
       "      <th>1</th>\n",
       "      <td>07/07/2018</td>\n",
       "      <td>23:50:00</td>\n",
       "      <td>4E</td>\n",
       "      <td>ST &amp; DIVISION ST</td>\n",
       "      <td>COMMON ASSAULT</td>\n",
       "      <td>O</td>\n",
       "      <td>NaN</td>\n",
       "      <td>131.0</td>\n",
       "      <td>CENTRAL</td>\n",
       "      <td>Druid Heights</td>\n",
       "      <td>-76.63936</td>\n",
       "      <td>39.30903</td>\n",
       "      <td>(39.30903, -76.63936)</td>\n",
       "      <td>STREET</td>\n",
       "      <td>NaN</td>\n",
       "      <td>1.0</td>\n",
       "    </tr>\n",
       "    <tr>\n",
       "      <th>2</th>\n",
       "      <td>07/07/2018</td>\n",
       "      <td>23:18:00</td>\n",
       "      <td>4C</td>\n",
       "      <td>2500 PERRING MANOR RD</td>\n",
       "      <td>AGG. ASSAULT</td>\n",
       "      <td>I</td>\n",
       "      <td>OTHER</td>\n",
       "      <td>423.0</td>\n",
       "      <td>NORTHEASTERN</td>\n",
       "      <td>Hamilton Hills</td>\n",
       "      <td>-76.56094</td>\n",
       "      <td>39.37189</td>\n",
       "      <td>(39.37189, -76.56094)</td>\n",
       "      <td>ROW/TOWNHO</td>\n",
       "      <td>NaN</td>\n",
       "      <td>1.0</td>\n",
       "    </tr>\n",
       "    <tr>\n",
       "      <th>3</th>\n",
       "      <td>07/07/2018</td>\n",
       "      <td>22:41:00</td>\n",
       "      <td>9S</td>\n",
       "      <td>3700 S HANOVER ST</td>\n",
       "      <td>SHOOTING</td>\n",
       "      <td>NaN</td>\n",
       "      <td>FIREARM</td>\n",
       "      <td>913.0</td>\n",
       "      <td>SOUTHERN</td>\n",
       "      <td>Brooklyn</td>\n",
       "      <td>-76.61033</td>\n",
       "      <td>39.23703</td>\n",
       "      <td>(39.23703, -76.61033)</td>\n",
       "      <td>Common Bus</td>\n",
       "      <td>NaN</td>\n",
       "      <td>1.0</td>\n",
       "    </tr>\n",
       "    <tr>\n",
       "      <th>4</th>\n",
       "      <td>07/07/2018</td>\n",
       "      <td>22:55:00</td>\n",
       "      <td>4E</td>\n",
       "      <td>LOMBARD ST &amp; LIGHT ST</td>\n",
       "      <td>COMMON ASSAULT</td>\n",
       "      <td>I</td>\n",
       "      <td>NaN</td>\n",
       "      <td>111.0</td>\n",
       "      <td>CENTRAL</td>\n",
       "      <td>Inner Harbor</td>\n",
       "      <td>-76.61362</td>\n",
       "      <td>39.28775</td>\n",
       "      <td>(39.28775, -76.61362)</td>\n",
       "      <td>CONVENIENC</td>\n",
       "      <td>NaN</td>\n",
       "      <td>1.0</td>\n",
       "    </tr>\n",
       "    <tr>\n",
       "      <th>5</th>\n",
       "      <td>07/07/2018</td>\n",
       "      <td>22:18:00</td>\n",
       "      <td>4C</td>\n",
       "      <td>1800 W FRANKLIN ST</td>\n",
       "      <td>AGG. ASSAULT</td>\n",
       "      <td>I</td>\n",
       "      <td>OTHER</td>\n",
       "      <td>722.0</td>\n",
       "      <td>WESTERN</td>\n",
       "      <td>Harlem Park</td>\n",
       "      <td>-76.64652</td>\n",
       "      <td>39.29388</td>\n",
       "      <td>(39.29388, -76.64652)</td>\n",
       "      <td>ROW/TOWNHO</td>\n",
       "      <td>NaN</td>\n",
       "      <td>1.0</td>\n",
       "    </tr>\n",
       "    <tr>\n",
       "      <th>6</th>\n",
       "      <td>07/07/2018</td>\n",
       "      <td>21:40:00</td>\n",
       "      <td>3B</td>\n",
       "      <td>1000 SAINT PAUL ST</td>\n",
       "      <td>ROBBERY - STREET</td>\n",
       "      <td>NaN</td>\n",
       "      <td>NaN</td>\n",
       "      <td>141.0</td>\n",
       "      <td>CENTRAL</td>\n",
       "      <td>Mid-Town Belvedere</td>\n",
       "      <td>-76.61436</td>\n",
       "      <td>39.30165</td>\n",
       "      <td>(39.30165, -76.61436)</td>\n",
       "      <td>NaN</td>\n",
       "      <td>NaN</td>\n",
       "      <td>1.0</td>\n",
       "    </tr>\n",
       "    <tr>\n",
       "      <th>7</th>\n",
       "      <td>07/07/2018</td>\n",
       "      <td>21:16:00</td>\n",
       "      <td>4E</td>\n",
       "      <td>2000 E BALTIMORE ST</td>\n",
       "      <td>COMMON ASSAULT</td>\n",
       "      <td>I</td>\n",
       "      <td>NaN</td>\n",
       "      <td>212.0</td>\n",
       "      <td>SOUTHEASTERN</td>\n",
       "      <td>Butcher's Hill</td>\n",
       "      <td>-76.58809</td>\n",
       "      <td>39.29172</td>\n",
       "      <td>(39.29172, -76.58809)</td>\n",
       "      <td>ROW/TOWNHO</td>\n",
       "      <td>NaN</td>\n",
       "      <td>1.0</td>\n",
       "    </tr>\n",
       "    <tr>\n",
       "      <th>8</th>\n",
       "      <td>07/07/2018</td>\n",
       "      <td>21:08:00</td>\n",
       "      <td>6D</td>\n",
       "      <td>400 E 20TH ST</td>\n",
       "      <td>LARCENY FROM AUTO</td>\n",
       "      <td>I</td>\n",
       "      <td>NaN</td>\n",
       "      <td>341.0</td>\n",
       "      <td>EASTERN</td>\n",
       "      <td>Barclay</td>\n",
       "      <td>-76.61049</td>\n",
       "      <td>39.31244</td>\n",
       "      <td>(39.31244, -76.61049)</td>\n",
       "      <td>APT/CONDO</td>\n",
       "      <td>NaN</td>\n",
       "      <td>1.0</td>\n",
       "    </tr>\n",
       "    <tr>\n",
       "      <th>9</th>\n",
       "      <td>07/07/2018</td>\n",
       "      <td>20:19:00</td>\n",
       "      <td>9S</td>\n",
       "      <td>4900 SINCLAIR LA</td>\n",
       "      <td>SHOOTING</td>\n",
       "      <td>NaN</td>\n",
       "      <td>FIREARM</td>\n",
       "      <td>443.0</td>\n",
       "      <td>NORTHEASTERN</td>\n",
       "      <td>Frankford</td>\n",
       "      <td>-76.55088</td>\n",
       "      <td>39.32101</td>\n",
       "      <td>(39.32101, -76.55088)</td>\n",
       "      <td>Street</td>\n",
       "      <td>NaN</td>\n",
       "      <td>1.0</td>\n",
       "    </tr>\n",
       "  </tbody>\n",
       "</table>\n",
       "</div>"
      ],
      "text/plain": [
       "    CrimeDate CrimeTime CrimeCode               Location        Description  \\\n",
       "0  07/07/2018  23:53:00        1F       1600 PENTWOOD RD           HOMICIDE   \n",
       "1  07/07/2018  23:50:00        4E       ST & DIVISION ST     COMMON ASSAULT   \n",
       "2  07/07/2018  23:18:00        4C  2500 PERRING MANOR RD       AGG. ASSAULT   \n",
       "3  07/07/2018  22:41:00        9S      3700 S HANOVER ST           SHOOTING   \n",
       "4  07/07/2018  22:55:00        4E  LOMBARD ST & LIGHT ST     COMMON ASSAULT   \n",
       "5  07/07/2018  22:18:00        4C     1800 W FRANKLIN ST       AGG. ASSAULT   \n",
       "6  07/07/2018  21:40:00        3B     1000 SAINT PAUL ST   ROBBERY - STREET   \n",
       "7  07/07/2018  21:16:00        4E    2000 E BALTIMORE ST     COMMON ASSAULT   \n",
       "8  07/07/2018  21:08:00        6D          400 E 20TH ST  LARCENY FROM AUTO   \n",
       "9  07/07/2018  20:19:00        9S       4900 SINCLAIR LA           SHOOTING   \n",
       "\n",
       "  Inside/Outside   Weapon   Post      District               Neighborhood  \\\n",
       "0            NaN  FIREARM  413.0  NORTHEASTERN  Stonewood-Pentwood-Winsto   \n",
       "1              O      NaN  131.0       CENTRAL              Druid Heights   \n",
       "2              I    OTHER  423.0  NORTHEASTERN             Hamilton Hills   \n",
       "3            NaN  FIREARM  913.0      SOUTHERN                   Brooklyn   \n",
       "4              I      NaN  111.0       CENTRAL               Inner Harbor   \n",
       "5              I    OTHER  722.0       WESTERN                Harlem Park   \n",
       "6            NaN      NaN  141.0       CENTRAL         Mid-Town Belvedere   \n",
       "7              I      NaN  212.0  SOUTHEASTERN             Butcher's Hill   \n",
       "8              I      NaN  341.0       EASTERN                    Barclay   \n",
       "9            NaN  FIREARM  443.0  NORTHEASTERN                  Frankford   \n",
       "\n",
       "   Longitude  Latitude             Location 1     Premise  crimeCaseNumber  \\\n",
       "0  -76.58727  39.34782  (39.34782, -76.58727)       Alley              NaN   \n",
       "1  -76.63936  39.30903  (39.30903, -76.63936)      STREET              NaN   \n",
       "2  -76.56094  39.37189  (39.37189, -76.56094)  ROW/TOWNHO              NaN   \n",
       "3  -76.61033  39.23703  (39.23703, -76.61033)  Common Bus              NaN   \n",
       "4  -76.61362  39.28775  (39.28775, -76.61362)  CONVENIENC              NaN   \n",
       "5  -76.64652  39.29388  (39.29388, -76.64652)  ROW/TOWNHO              NaN   \n",
       "6  -76.61436  39.30165  (39.30165, -76.61436)         NaN              NaN   \n",
       "7  -76.58809  39.29172  (39.29172, -76.58809)  ROW/TOWNHO              NaN   \n",
       "8  -76.61049  39.31244  (39.31244, -76.61049)   APT/CONDO              NaN   \n",
       "9  -76.55088  39.32101  (39.32101, -76.55088)      Street              NaN   \n",
       "\n",
       "   Total Incidents  \n",
       "0              1.0  \n",
       "1              1.0  \n",
       "2              1.0  \n",
       "3              1.0  \n",
       "4              1.0  \n",
       "5              1.0  \n",
       "6              1.0  \n",
       "7              1.0  \n",
       "8              1.0  \n",
       "9              1.0  "
      ]
     },
     "execution_count": 77,
     "metadata": {},
     "output_type": "execute_result"
    }
   ],
   "source": [
    "df_crime.head(10)"
   ]
  },
  {
   "cell_type": "code",
   "execution_count": 83,
   "metadata": {},
   "outputs": [
    {
     "data": {
      "text/plain": [
       "CrimeDate              0\n",
       "CrimeTime              0\n",
       "CrimeCode              0\n",
       "Location            3971\n",
       "Description          248\n",
       "Inside/Outside     25566\n",
       "Weapon            261423\n",
       "Post                 295\n",
       "District             112\n",
       "Neighborhood        4213\n",
       "Longitude           3969\n",
       "Latitude            3969\n",
       "Location 1          4755\n",
       "Premise            21012\n",
       "dtype: int64"
      ]
     },
     "execution_count": 83,
     "metadata": {},
     "output_type": "execute_result"
    }
   ],
   "source": [
    "df_crime.isnull().sum(axis=0)"
   ]
  },
  {
   "cell_type": "code",
   "execution_count": 80,
   "metadata": {},
   "outputs": [
    {
     "data": {
      "text/plain": [
       "335571"
      ]
     },
     "execution_count": 80,
     "metadata": {},
     "output_type": "execute_result"
    }
   ],
   "source": [
    "len(df_crime)"
   ]
  },
  {
   "cell_type": "code",
   "execution_count": 81,
   "metadata": {},
   "outputs": [
    {
     "data": {
      "text/plain": [
       "array([ 1., nan])"
      ]
     },
     "execution_count": 81,
     "metadata": {},
     "output_type": "execute_result"
    }
   ],
   "source": [
    "df_crime['Total Incidents'].unique()"
   ]
  },
  {
   "cell_type": "code",
   "execution_count": 82,
   "metadata": {},
   "outputs": [],
   "source": [
    "df_crime =  df_crime.drop(columns=['crimeCaseNumber', 'Total Incidents'])"
   ]
  },
  {
   "cell_type": "code",
   "execution_count": 92,
   "metadata": {},
   "outputs": [],
   "source": [
    "df_crime['District'] = df_crime['District'].fillna(0)"
   ]
  },
  {
   "cell_type": "code",
   "execution_count": 93,
   "metadata": {},
   "outputs": [
    {
     "data": {
      "text/plain": [
       "array(['NORTHEASTERN', 'CENTRAL', 'SOUTHERN', 'WESTERN', 'SOUTHEASTERN',\n",
       "       'EASTERN', 'NORTHWESTERN', 'SOUTHWESTERN', 'NORTHERN', 0],\n",
       "      dtype=object)"
      ]
     },
     "execution_count": 93,
     "metadata": {},
     "output_type": "execute_result"
    }
   ],
   "source": [
    "df_crime['District'].unique()"
   ]
  },
  {
   "cell_type": "markdown",
   "metadata": {},
   "source": [
    "Even though Western district has highest number of vacant buildings, it has least crime rate. This goes completely opposite to our intuition. Reason for this has something to do be western district has more number of buildings automatically leading to more number of vacant buildings. To find the truth we must find percentage of vacant buildings in District rather than number of vacant buildings. Since vacant buildings dataset does not contain any information about non vacant buildings, we will use propery tax dataset to these details which contains buildings information. We consider these buildings as non-vacant and calculate percentage of vacant buildings."
   ]
  },
  {
   "cell_type": "code",
   "execution_count": 101,
   "metadata": {
    "scrolled": true
   },
   "outputs": [
    {
     "data": {
      "text/plain": [
       "<matplotlib.axes._subplots.AxesSubplot at 0x1a666ea5eb8>"
      ]
     },
     "execution_count": 101,
     "metadata": {},
     "output_type": "execute_result"
    },
    {
     "data": {
      "image/png": "[encoded data removed]",
      "text/plain": [
       "<Figure size 432x288 with 1 Axes>"
      ]
     },
     "metadata": {},
     "output_type": "display_data"
    }
   ],
   "source": [
    "df_crime[df_crime['District'] != 0].groupby(['District']).count()['Location'].plot(kind='bar')"
   ]
  },
  {
   "cell_type": "code",
   "execution_count": 131,
   "metadata": {},
   "outputs": [],
   "source": [
    "df_property = pd.read_csv(\"Real_Property_Taxes.csv\")"
   ]
  },
  {
   "cell_type": "code",
   "execution_count": 132,
   "metadata": {},
   "outputs": [
    {
     "data": {
      "text/html": [
       "<div>\n",
       "<style scoped>\n",
       "    .dataframe tbody tr th:only-of-type {\n",
       "        vertical-align: middle;\n",
       "    }\n",
       "\n",
       "    .dataframe tbody tr th {\n",
       "        vertical-align: top;\n",
       "    }\n",
       "\n",
       "    .dataframe thead th {\n",
       "        text-align: right;\n",
       "    }\n",
       "</style>\n",
       "<table border=\"1\" class=\"dataframe\">\n",
       "  <thead>\n",
       "    <tr style=\"text-align: right;\">\n",
       "      <th></th>\n",
       "      <th>PropertyID</th>\n",
       "      <th>Block</th>\n",
       "      <th>Lot</th>\n",
       "      <th>Ward</th>\n",
       "      <th>Sect</th>\n",
       "      <th>PropertyAddress</th>\n",
       "      <th>LotSize</th>\n",
       "      <th>CityTax</th>\n",
       "      <th>StateTax</th>\n",
       "      <th>ResCode</th>\n",
       "      <th>AmountDue</th>\n",
       "      <th>AsOfDate</th>\n",
       "      <th>Neighborhood</th>\n",
       "      <th>PoliceDistrict</th>\n",
       "      <th>CouncilDistrict</th>\n",
       "      <th>Location</th>\n",
       "    </tr>\n",
       "  </thead>\n",
       "  <tbody>\n",
       "    <tr>\n",
       "      <th>0</th>\n",
       "      <td>0001002</td>\n",
       "      <td>0001</td>\n",
       "      <td>002</td>\n",
       "      <td>15</td>\n",
       "      <td>370</td>\n",
       "      <td>2043 W NORTH AVE</td>\n",
       "      <td>14X83-10</td>\n",
       "      <td>1112.76</td>\n",
       "      <td>55.44</td>\n",
       "      <td>NOT A PRINCIPAL RESIDENCE</td>\n",
       "      <td>NaN</td>\n",
       "      <td>06/04/2018</td>\n",
       "      <td>Easterwood</td>\n",
       "      <td>Western</td>\n",
       "      <td>7.0</td>\n",
       "      <td>(39.30941619, -76.65109034)</td>\n",
       "    </tr>\n",
       "    <tr>\n",
       "      <th>1</th>\n",
       "      <td>5918064</td>\n",
       "      <td>5918</td>\n",
       "      <td>064</td>\n",
       "      <td>26</td>\n",
       "      <td>380</td>\n",
       "      <td>3429 SHANNON DR</td>\n",
       "      <td>18X91-9</td>\n",
       "      <td>2801.01</td>\n",
       "      <td>139.55</td>\n",
       "      <td>PRINCIPAL RESIDENCE</td>\n",
       "      <td>1356.50</td>\n",
       "      <td>09/29/2018</td>\n",
       "      <td>Belair-Edison</td>\n",
       "      <td>Notheastern</td>\n",
       "      <td>13.0</td>\n",
       "      <td>(39.3229146, -76.56235554)</td>\n",
       "    </tr>\n",
       "    <tr>\n",
       "      <th>2</th>\n",
       "      <td>0001004</td>\n",
       "      <td>0001</td>\n",
       "      <td>004</td>\n",
       "      <td>15</td>\n",
       "      <td>370</td>\n",
       "      <td>2039 W NORTH AVE</td>\n",
       "      <td>14X83-10</td>\n",
       "      <td>472.08</td>\n",
       "      <td>23.52</td>\n",
       "      <td>NOT A PRINCIPAL RESIDENCE</td>\n",
       "      <td>NaN</td>\n",
       "      <td>06/04/2018</td>\n",
       "      <td>Easterwood</td>\n",
       "      <td>Western</td>\n",
       "      <td>7.0</td>\n",
       "      <td>(39.30941951, -76.65099026)</td>\n",
       "    </tr>\n",
       "    <tr>\n",
       "      <th>3</th>\n",
       "      <td>0001005</td>\n",
       "      <td>0001</td>\n",
       "      <td>005</td>\n",
       "      <td>15</td>\n",
       "      <td>370</td>\n",
       "      <td>2037 W NORTH AVE</td>\n",
       "      <td>14X83-10</td>\n",
       "      <td>472.08</td>\n",
       "      <td>23.52</td>\n",
       "      <td>NOT A PRINCIPAL RESIDENCE</td>\n",
       "      <td>NaN</td>\n",
       "      <td>06/04/2018</td>\n",
       "      <td>Easterwood</td>\n",
       "      <td>Western</td>\n",
       "      <td>7.0</td>\n",
       "      <td>(39.30942111, -76.65094166)</td>\n",
       "    </tr>\n",
       "    <tr>\n",
       "      <th>4</th>\n",
       "      <td>0001006</td>\n",
       "      <td>0001</td>\n",
       "      <td>006</td>\n",
       "      <td>15</td>\n",
       "      <td>370</td>\n",
       "      <td>2035 W NORTH AVE</td>\n",
       "      <td>14X83-10</td>\n",
       "      <td>247.28</td>\n",
       "      <td>12.32</td>\n",
       "      <td>NOT A PRINCIPAL RESIDENCE</td>\n",
       "      <td>NaN</td>\n",
       "      <td>06/04/2018</td>\n",
       "      <td>Easterwood</td>\n",
       "      <td>Western</td>\n",
       "      <td>7.0</td>\n",
       "      <td>(39.30942277, -76.65089166)</td>\n",
       "    </tr>\n",
       "    <tr>\n",
       "      <th>5</th>\n",
       "      <td>4179P033</td>\n",
       "      <td>4179P</td>\n",
       "      <td>033</td>\n",
       "      <td>26</td>\n",
       "      <td>340</td>\n",
       "      <td>3811 LYNDALE AVE</td>\n",
       "      <td>14X100</td>\n",
       "      <td>2032.19</td>\n",
       "      <td>101.25</td>\n",
       "      <td>NOT A PRINCIPAL RESIDENCE</td>\n",
       "      <td>2123.28</td>\n",
       "      <td>07/01/2018</td>\n",
       "      <td>Belair-Edison</td>\n",
       "      <td>Notheastern</td>\n",
       "      <td>13.0</td>\n",
       "      <td>(39.31680208, -76.56505749)</td>\n",
       "    </tr>\n",
       "    <tr>\n",
       "      <th>6</th>\n",
       "      <td>0001009</td>\n",
       "      <td>0001</td>\n",
       "      <td>009</td>\n",
       "      <td>15</td>\n",
       "      <td>370</td>\n",
       "      <td>2029 W NORTH AVE</td>\n",
       "      <td>14X83-10</td>\n",
       "      <td>472.08</td>\n",
       "      <td>23.52</td>\n",
       "      <td>NOT A PRINCIPAL RESIDENCE</td>\n",
       "      <td>NaN</td>\n",
       "      <td>06/04/2018</td>\n",
       "      <td>Easterwood</td>\n",
       "      <td>Western</td>\n",
       "      <td>7.0</td>\n",
       "      <td>(39.30942756, -76.65074605)</td>\n",
       "    </tr>\n",
       "    <tr>\n",
       "      <th>7</th>\n",
       "      <td>0001010</td>\n",
       "      <td>0001</td>\n",
       "      <td>010</td>\n",
       "      <td>15</td>\n",
       "      <td>370</td>\n",
       "      <td>2027 W NORTH AVE</td>\n",
       "      <td>14X83-10</td>\n",
       "      <td>472.08</td>\n",
       "      <td>23.52</td>\n",
       "      <td>NOT A PRINCIPAL RESIDENCE</td>\n",
       "      <td>NaN</td>\n",
       "      <td>06/04/2018</td>\n",
       "      <td>Easterwood</td>\n",
       "      <td>Western</td>\n",
       "      <td>7.0</td>\n",
       "      <td>(39.30942925, -76.65069531)</td>\n",
       "    </tr>\n",
       "    <tr>\n",
       "      <th>8</th>\n",
       "      <td>0001011</td>\n",
       "      <td>0001</td>\n",
       "      <td>011</td>\n",
       "      <td>15</td>\n",
       "      <td>370</td>\n",
       "      <td>2025 W NORTH AVE</td>\n",
       "      <td>14X83-10</td>\n",
       "      <td>472.08</td>\n",
       "      <td>23.52</td>\n",
       "      <td>NOT A PRINCIPAL RESIDENCE</td>\n",
       "      <td>NaN</td>\n",
       "      <td>06/04/2018</td>\n",
       "      <td>Easterwood</td>\n",
       "      <td>Western</td>\n",
       "      <td>7.0</td>\n",
       "      <td>(39.30943089, -76.65064581)</td>\n",
       "    </tr>\n",
       "    <tr>\n",
       "      <th>9</th>\n",
       "      <td>0001012</td>\n",
       "      <td>0001</td>\n",
       "      <td>012</td>\n",
       "      <td>15</td>\n",
       "      <td>370</td>\n",
       "      <td>2023 W NORTH AVE</td>\n",
       "      <td>14X83-10</td>\n",
       "      <td>472.08</td>\n",
       "      <td>23.52</td>\n",
       "      <td>NOT A PRINCIPAL RESIDENCE</td>\n",
       "      <td>NaN</td>\n",
       "      <td>06/04/2018</td>\n",
       "      <td>Easterwood</td>\n",
       "      <td>Western</td>\n",
       "      <td>7.0</td>\n",
       "      <td>(39.30943253, -76.65059631)</td>\n",
       "    </tr>\n",
       "  </tbody>\n",
       "</table>\n",
       "</div>"
      ],
      "text/plain": [
       "  PropertyID  Block  Lot  Ward  Sect   PropertyAddress            LotSize  \\\n",
       "0    0001002   0001  002    15   370  2043 W NORTH AVE  14X83-10            \n",
       "1    5918064   5918  064    26   380   3429 SHANNON DR  18X91-9             \n",
       "2    0001004   0001  004    15   370  2039 W NORTH AVE  14X83-10            \n",
       "3    0001005   0001  005    15   370  2037 W NORTH AVE  14X83-10            \n",
       "4    0001006   0001  006    15   370  2035 W NORTH AVE  14X83-10            \n",
       "5   4179P033  4179P  033    26   340  3811 LYNDALE AVE  14X100              \n",
       "6    0001009   0001  009    15   370  2029 W NORTH AVE  14X83-10            \n",
       "7    0001010   0001  010    15   370  2027 W NORTH AVE  14X83-10            \n",
       "8    0001011   0001  011    15   370  2025 W NORTH AVE  14X83-10            \n",
       "9    0001012   0001  012    15   370  2023 W NORTH AVE  14X83-10            \n",
       "\n",
       "   CityTax  StateTax                    ResCode  AmountDue    AsOfDate  \\\n",
       "0  1112.76     55.44  NOT A PRINCIPAL RESIDENCE        NaN  06/04/2018   \n",
       "1  2801.01    139.55  PRINCIPAL RESIDENCE          1356.50  09/29/2018   \n",
       "2   472.08     23.52  NOT A PRINCIPAL RESIDENCE        NaN  06/04/2018   \n",
       "3   472.08     23.52  NOT A PRINCIPAL RESIDENCE        NaN  06/04/2018   \n",
       "4   247.28     12.32  NOT A PRINCIPAL RESIDENCE        NaN  06/04/2018   \n",
       "5  2032.19    101.25  NOT A PRINCIPAL RESIDENCE    2123.28  07/01/2018   \n",
       "6   472.08     23.52  NOT A PRINCIPAL RESIDENCE        NaN  06/04/2018   \n",
       "7   472.08     23.52  NOT A PRINCIPAL RESIDENCE        NaN  06/04/2018   \n",
       "8   472.08     23.52  NOT A PRINCIPAL RESIDENCE        NaN  06/04/2018   \n",
       "9   472.08     23.52  NOT A PRINCIPAL RESIDENCE        NaN  06/04/2018   \n",
       "\n",
       "    Neighborhood PoliceDistrict  CouncilDistrict                     Location  \n",
       "0     Easterwood        Western              7.0  (39.30941619, -76.65109034)  \n",
       "1  Belair-Edison    Notheastern             13.0   (39.3229146, -76.56235554)  \n",
       "2     Easterwood        Western              7.0  (39.30941951, -76.65099026)  \n",
       "3     Easterwood        Western              7.0  (39.30942111, -76.65094166)  \n",
       "4     Easterwood        Western              7.0  (39.30942277, -76.65089166)  \n",
       "5  Belair-Edison    Notheastern             13.0  (39.31680208, -76.56505749)  \n",
       "6     Easterwood        Western              7.0  (39.30942756, -76.65074605)  \n",
       "7     Easterwood        Western              7.0  (39.30942925, -76.65069531)  \n",
       "8     Easterwood        Western              7.0  (39.30943089, -76.65064581)  \n",
       "9     Easterwood        Western              7.0  (39.30943253, -76.65059631)  "
      ]
     },
     "execution_count": 132,
     "metadata": {},
     "output_type": "execute_result"
    }
   ],
   "source": [
    "df_property.head(10)"
   ]
  },
  {
   "cell_type": "code",
   "execution_count": 133,
   "metadata": {},
   "outputs": [
    {
     "data": {
      "text/plain": [
       "PropertyID             0\n",
       "Block                  0\n",
       "Lot                    0\n",
       "Ward                   0\n",
       "Sect                   0\n",
       "PropertyAddress        5\n",
       "LotSize                0\n",
       "CityTax            18976\n",
       "StateTax           18778\n",
       "ResCode                0\n",
       "AmountDue          98686\n",
       "AsOfDate               0\n",
       "Neighborhood       16122\n",
       "PoliceDistrict     16122\n",
       "CouncilDistrict    16094\n",
       "Location           16082\n",
       "dtype: int64"
      ]
     },
     "execution_count": 133,
     "metadata": {},
     "output_type": "execute_result"
    }
   ],
   "source": [
    "df_property.isnull().sum(axis=0)"
   ]
  },
  {
   "cell_type": "code",
   "execution_count": 134,
   "metadata": {},
   "outputs": [
    {
     "data": {
      "text/plain": [
       "PropertyID          object\n",
       "Block               object\n",
       "Lot                 object\n",
       "Ward                 int64\n",
       "Sect                 int64\n",
       "PropertyAddress     object\n",
       "LotSize             object\n",
       "CityTax            float64\n",
       "StateTax           float64\n",
       "ResCode             object\n",
       "AmountDue          float64\n",
       "AsOfDate            object\n",
       "Neighborhood        object\n",
       "PoliceDistrict      object\n",
       "CouncilDistrict    float64\n",
       "Location            object\n",
       "dtype: object"
      ]
     },
     "execution_count": 134,
     "metadata": {},
     "output_type": "execute_result"
    }
   ],
   "source": [
    "df_property.dtypes"
   ]
  },
  {
   "cell_type": "code",
   "execution_count": 135,
   "metadata": {},
   "outputs": [
    {
     "data": {
      "text/html": [
       "<div>\n",
       "<style scoped>\n",
       "    .dataframe tbody tr th:only-of-type {\n",
       "        vertical-align: middle;\n",
       "    }\n",
       "\n",
       "    .dataframe tbody tr th {\n",
       "        vertical-align: top;\n",
       "    }\n",
       "\n",
       "    .dataframe thead th {\n",
       "        text-align: right;\n",
       "    }\n",
       "</style>\n",
       "<table border=\"1\" class=\"dataframe\">\n",
       "  <thead>\n",
       "    <tr style=\"text-align: right;\">\n",
       "      <th></th>\n",
       "      <th>Ward</th>\n",
       "      <th>Sect</th>\n",
       "      <th>CityTax</th>\n",
       "      <th>StateTax</th>\n",
       "      <th>AmountDue</th>\n",
       "      <th>CouncilDistrict</th>\n",
       "    </tr>\n",
       "  </thead>\n",
       "  <tbody>\n",
       "    <tr>\n",
       "      <th>count</th>\n",
       "      <td>238509.000000</td>\n",
       "      <td>238509.000000</td>\n",
       "      <td>2.195330e+05</td>\n",
       "      <td>219731.000000</td>\n",
       "      <td>1.398230e+05</td>\n",
       "      <td>222415.000000</td>\n",
       "    </tr>\n",
       "    <tr>\n",
       "      <th>mean</th>\n",
       "      <td>18.661505</td>\n",
       "      <td>145.082534</td>\n",
       "      <td>4.056272e+03</td>\n",
       "      <td>205.074626</td>\n",
       "      <td>3.336122e+03</td>\n",
       "      <td>7.594290</td>\n",
       "    </tr>\n",
       "    <tr>\n",
       "      <th>std</th>\n",
       "      <td>8.197253</td>\n",
       "      <td>133.920428</td>\n",
       "      <td>3.532905e+04</td>\n",
       "      <td>1817.644405</td>\n",
       "      <td>2.882668e+04</td>\n",
       "      <td>4.043136</td>\n",
       "    </tr>\n",
       "    <tr>\n",
       "      <th>min</th>\n",
       "      <td>1.000000</td>\n",
       "      <td>0.000000</td>\n",
       "      <td>2.250000e+00</td>\n",
       "      <td>0.110000</td>\n",
       "      <td>1.000000e-02</td>\n",
       "      <td>1.000000</td>\n",
       "    </tr>\n",
       "    <tr>\n",
       "      <th>25%</th>\n",
       "      <td>12.000000</td>\n",
       "      <td>50.000000</td>\n",
       "      <td>8.092800e+02</td>\n",
       "      <td>40.320000</td>\n",
       "      <td>6.894200e+02</td>\n",
       "      <td>4.000000</td>\n",
       "    </tr>\n",
       "    <tr>\n",
       "      <th>50%</th>\n",
       "      <td>20.000000</td>\n",
       "      <td>110.000000</td>\n",
       "      <td>2.367140e+03</td>\n",
       "      <td>118.050000</td>\n",
       "      <td>1.539640e+03</td>\n",
       "      <td>8.000000</td>\n",
       "    </tr>\n",
       "    <tr>\n",
       "      <th>75%</th>\n",
       "      <td>27.000000</td>\n",
       "      <td>200.000000</td>\n",
       "      <td>3.635020e+03</td>\n",
       "      <td>181.100000</td>\n",
       "      <td>2.846385e+03</td>\n",
       "      <td>11.000000</td>\n",
       "    </tr>\n",
       "    <tr>\n",
       "      <th>max</th>\n",
       "      <td>50.000000</td>\n",
       "      <td>690.000000</td>\n",
       "      <td>6.276443e+06</td>\n",
       "      <td>312705.340000</td>\n",
       "      <td>3.983104e+06</td>\n",
       "      <td>14.000000</td>\n",
       "    </tr>\n",
       "  </tbody>\n",
       "</table>\n",
       "</div>"
      ],
      "text/plain": [
       "                Ward           Sect       CityTax       StateTax  \\\n",
       "count  238509.000000  238509.000000  2.195330e+05  219731.000000   \n",
       "mean       18.661505     145.082534  4.056272e+03     205.074626   \n",
       "std         8.197253     133.920428  3.532905e+04    1817.644405   \n",
       "min         1.000000       0.000000  2.250000e+00       0.110000   \n",
       "25%        12.000000      50.000000  8.092800e+02      40.320000   \n",
       "50%        20.000000     110.000000  2.367140e+03     118.050000   \n",
       "75%        27.000000     200.000000  3.635020e+03     181.100000   \n",
       "max        50.000000     690.000000  6.276443e+06  312705.340000   \n",
       "\n",
       "          AmountDue  CouncilDistrict  \n",
       "count  1.398230e+05    222415.000000  \n",
       "mean   3.336122e+03         7.594290  \n",
       "std    2.882668e+04         4.043136  \n",
       "min    1.000000e-02         1.000000  \n",
       "25%    6.894200e+02         4.000000  \n",
       "50%    1.539640e+03         8.000000  \n",
       "75%    2.846385e+03        11.000000  \n",
       "max    3.983104e+06        14.000000  "
      ]
     },
     "execution_count": 135,
     "metadata": {},
     "output_type": "execute_result"
    }
   ],
   "source": [
    "df_property.describe()"
   ]
  },
  {
   "cell_type": "markdown",
   "metadata": {},
   "source": [
    "Since only thing that is important for us is PropertyAddress, check for null values in that column and try to join with address in vacant buildings dataset."
   ]
  },
  {
   "cell_type": "code",
   "execution_count": 136,
   "metadata": {},
   "outputs": [],
   "source": [
    "df_property[df_property['PropertyAddress'].isnull()]\n",
    "df_property['PoliceDistrict'] = df_property['PoliceDistrict'].fillna(0)"
   ]
  },
  {
   "cell_type": "code",
   "execution_count": 137,
   "metadata": {},
   "outputs": [],
   "source": [
    "df_property = df_property[df_property['PropertyAddress'].notnull()]"
   ]
  },
  {
   "cell_type": "code",
   "execution_count": 138,
   "metadata": {},
   "outputs": [],
   "source": [
    "df_join = df_property.join(df_vacant, lsuffix='property', rsuffix='vacant', how='inner')"
   ]
  },
  {
   "cell_type": "code",
   "execution_count": 139,
   "metadata": {},
   "outputs": [
    {
     "data": {
      "text/plain": [
       "238504"
      ]
     },
     "execution_count": 139,
     "metadata": {},
     "output_type": "execute_result"
    }
   ],
   "source": [
    "len(df_property)"
   ]
  },
  {
   "cell_type": "code",
   "execution_count": 140,
   "metadata": {},
   "outputs": [
    {
     "data": {
      "text/plain": [
       "16691"
      ]
     },
     "execution_count": 140,
     "metadata": {},
     "output_type": "execute_result"
    }
   ],
   "source": [
    "len(df_vacant)"
   ]
  },
  {
   "cell_type": "code",
   "execution_count": 141,
   "metadata": {},
   "outputs": [
    {
     "data": {
      "text/plain": [
       "16691"
      ]
     },
     "execution_count": 141,
     "metadata": {},
     "output_type": "execute_result"
    }
   ],
   "source": [
    "len(df_join)"
   ]
  },
  {
   "cell_type": "code",
   "execution_count": 144,
   "metadata": {},
   "outputs": [
    {
     "data": {
      "text/plain": [
       "[16121, 8938, 19539, 30503, 23621, 42261, 27163, 25251, 25706, 19401]"
      ]
     },
     "execution_count": 144,
     "metadata": {},
     "output_type": "execute_result"
    }
   ],
   "source": [
    "list(df_property.groupby(['PoliceDistrict']).count()['Ward'])"
   ]
  },
  {
   "cell_type": "code",
   "execution_count": 145,
   "metadata": {},
   "outputs": [
    {
     "data": {
      "text/plain": [
       "PoliceDistrict\n",
       "0               16121\n",
       "Central          8938\n",
       "Eastern         19539\n",
       "Northern        30503\n",
       "Northwestern    23621\n",
       "Notheastern     42261\n",
       "Southeastern    27163\n",
       "Southern        25251\n",
       "Southwestern    25706\n",
       "Western         19401\n",
       "Name: Ward, dtype: int64"
      ]
     },
     "execution_count": 145,
     "metadata": {},
     "output_type": "execute_result"
    }
   ],
   "source": [
    "df_property.groupby(['PoliceDistrict']).count()['Ward']"
   ]
  },
  {
   "cell_type": "code",
   "execution_count": 146,
   "metadata": {},
   "outputs": [
    {
     "data": {
      "text/plain": [
       "PoliceDistrict\n",
       "central          848\n",
       "eastern         3659\n",
       "northeastern       9\n",
       "northern         718\n",
       "northwestern    1613\n",
       "notheastern      945\n",
       "southeastern     656\n",
       "southern        1665\n",
       "southwestern    2263\n",
       "western         4315\n",
       "Name: Lot, dtype: int64"
      ]
     },
     "execution_count": 146,
     "metadata": {},
     "output_type": "execute_result"
    }
   ],
   "source": [
    "df_vacant.groupby(['PoliceDistrict']).count()['Lot']"
   ]
  },
  {
   "cell_type": "markdown",
   "metadata": {},
   "source": [
    "Again results are surprising. Number of buildings in Western district is low side(least but one). This means not only there few buildings in western district of baltimore, but most of them are vacant. "
   ]
  },
  {
   "cell_type": "code",
   "execution_count": 151,
   "metadata": {},
   "outputs": [],
   "source": [
    "policeDistrict_property = dict(df_property.groupby(['PoliceDistrict']).count()['Ward'])"
   ]
  },
  {
   "cell_type": "code",
   "execution_count": 153,
   "metadata": {},
   "outputs": [],
   "source": [
    "policeDistrict_vacant = dict(df_vacant.groupby(['PoliceDistrict']).count()['Lot'])"
   ]
  },
  {
   "cell_type": "code",
   "execution_count": 154,
   "metadata": {},
   "outputs": [],
   "source": [
    "policeDistrict_vacant['northeastern'] = 954"
   ]
  },
  {
   "cell_type": "markdown",
   "metadata": {},
   "source": [
    "This loop is used to calculate relative vacancies district wise."
   ]
  },
  {
   "cell_type": "code",
   "execution_count": 160,
   "metadata": {},
   "outputs": [],
   "source": [
    "relative_vacancy = {}\n",
    "for key in policeDistrict_property:\n",
    "    if key != 0:\n",
    "        relative_vacancy[key] = (policeDistrict_vacant[key.lower()] / policeDistrict_property[key]) * 100"
   ]
  },
  {
   "cell_type": "code",
   "execution_count": 161,
   "metadata": {},
   "outputs": [
    {
     "name": "stdout",
     "output_type": "stream",
     "text": [
      "{'Central': 9.487581114343254, 'Eastern': 18.72664926557142, 'Northern': 2.353866832770547, 'Northwestern': 6.828669404343593, 'Notheastern': 2.2361042095549086, 'Southeastern': 2.4150498840334276, 'Southern': 6.593798265415231, 'Southwestern': 8.803392204154672, 'Western': 22.24112159167053}\n"
     ]
    }
   ],
   "source": [
    "print(relative_vacancy)"
   ]
  },
  {
   "cell_type": "markdown",
   "metadata": {},
   "source": [
    "Western leads by large margin followed by Eastern just like in first bar graph. At this point big picture is starting to get clear. Western district least number of crimes because there are not many non vacant buildings and more vacant buildings which means less population and less crimes."
   ]
  },
  {
   "cell_type": "markdown",
   "metadata": {},
   "source": [
    "TO DO:</br>\n",
    "Need to reason vacant buildings using 311 and 911 datasets."
   ]
  },
  {
   "cell_type": "markdown",
   "metadata": {},
   "source": [
    "Then try to find which factor is affecting more using decision trees"
   ]
  },
  {
   "cell_type": "code",
   "execution_count": null,
   "metadata": {},
   "outputs": [],
   "source": []
  }
 ],
 "metadata": {
  "kernelspec": {
   "display_name": "Python 3",
   "language": "python",
   "name": "python3"
  },
  "language_info": {
   "codemirror_mode": {
    "name": "ipython",
    "version": 3
   },
   "file_extension": ".py",
   "mimetype": "text/x-python",
   "name": "python",
   "nbconvert_exporter": "python",
   "pygments_lexer": "ipython3",
   "version": "3.6.5"
  }
 },
 "nbformat": 4,
 "nbformat_minor": 2
}
