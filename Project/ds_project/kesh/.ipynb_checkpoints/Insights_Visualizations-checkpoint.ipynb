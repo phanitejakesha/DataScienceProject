{
 "cells": [
  {
   "cell_type": "code",
   "execution_count": 1,
   "metadata": {
    "collapsed": true
   },
   "outputs": [],
   "source": [
    "#All the imports for the notebook can be found here \n",
    "import pandas as pd\n",
    "import os\n",
    "import folium\n",
    "import numpy as np\n",
    "import matplotlib as mplt\n",
    "import matplotlib.pyplot as plt\n",
    "import geopandas\n",
    "import seaborn as sns\n",
    "from shapely.geometry import Point\n",
    "import gmplot"
   ]
  },
  {
   "cell_type": "code",
   "execution_count": 2,
   "metadata": {
    "collapsed": true
   },
   "outputs": [],
   "source": [
    "df_vacant = pd.read_csv('Vacant_Buildings.csv') # Reading the data into the dataframe df\n",
    "df_vacant = df_vacant[df_vacant['BuildingAddress'].notnull()]\n",
    "df_vacant.isnull().sum(axis=0)\n",
    "df_vacant['PoliceDistrict']=df_vacant['PoliceDistrict'].str.lower()"
   ]
  },
  {
   "cell_type": "code",
   "execution_count": 11,
   "metadata": {},
   "outputs": [],
   "source": [
    "df_date = pd.DataFrame(columns=['Month','Day', 'year'])"
   ]
  },
  {
   "cell_type": "code",
   "execution_count": 17,
   "metadata": {},
   "outputs": [],
   "source": [
    "for i in range(0,len(df_vacant)):\n",
    "    date = df_vacant.iloc[i]['NoticeDate'].split('/')\n",
    "    df_date.loc[i] = [int(date[0]),int(date[1]),int(date[2])]"
   ]
  },
  {
   "cell_type": "code",
   "execution_count": 36,
   "metadata": {
    "scrolled": true
   },
   "outputs": [
    {
     "data": {
      "text/plain": [
       "<matplotlib.axes._subplots.AxesSubplot at 0x1082d1be0>"
      ]
     },
     "execution_count": 36,
     "metadata": {},
     "output_type": "execute_result"
    },
    {
     "data": {
      "image/png": "[encoded data removed]",
      "text/plain": [
       "<matplotlib.figure.Figure at 0x1a1b86f6a0>"
      ]
     },
     "metadata": {},
     "output_type": "display_data"
    }
   ],
   "source": [
    "%matplotlib inline\n",
    "df_date.groupby(['year']).count()['Day'].plot(kind='line')"
   ]
  },
  {
   "cell_type": "markdown",
   "metadata": {},
   "source": [
    "The above plot shows us the number of vacant buildings with respect to the notice period, there are some homes which are vacant from 2004. That means there are many buildings which are left vacant from a decade, we probably need to look for the reasons for those homes maybe separately "
   ]
  },
  {
   "cell_type": "code",
   "execution_count": 32,
   "metadata": {},
   "outputs": [
    {
     "name": "stdout",
     "output_type": "stream",
     "text": [
      "6121\n"
     ]
    }
   ],
   "source": [
    "count = 0\n",
    "for i in range(0,len(df_date)):\n",
    "    if df_date.iloc[i]['year']<=2011:\n",
    "        #print(df_date.iloc[i])\n",
    "        count+=1\n",
    "print(count)"
   ]
  },
  {
   "cell_type": "markdown",
   "metadata": {},
   "source": [
    "## If vacant from many years,  its going to be vacant forever!"
   ]
  },
  {
   "cell_type": "code",
   "execution_count": 35,
   "metadata": {},
   "outputs": [
    {
     "name": "stdout",
     "output_type": "stream",
     "text": [
      "Counter({'western': 87, 'central': 43, 'southwestern': 34, 'eastern': 24, 'northwestern': 9, 'southern': 9, 'notheastern': 6, 'northern': 6, 'southeastern': 1})\n"
     ]
    }
   ],
   "source": [
    "from collections import Counter\n",
    "listDist = []\n",
    "count = 0\n",
    "for i in range(0,len(df_date)):\n",
    "    if df_date.iloc[i]['year']<=2004:\n",
    "        count+=1\n",
    "        listDist.append(df_vacant.iloc[i]['PoliceDistrict'])\n",
    "print(Counter(listDist))"
   ]
  },
  {
   "cell_type": "markdown",
   "metadata": {},
   "source": [
    "There are 87 homes vacant from 2004 in western which is almost 50% in the total homes which are vacant from the year of 2014 "
   ]
  }
 ],
 "metadata": {
  "kernelspec": {
   "display_name": "Python 3",
   "language": "python",
   "name": "python3"
  },
  "language_info": {
   "codemirror_mode": {
    "name": "ipython",
    "version": 3
   },
   "file_extension": ".py",
   "mimetype": "text/x-python",
   "name": "python",
   "nbconvert_exporter": "python",
   "pygments_lexer": "ipython3",
   "version": "3.6.5"
  }
 },
 "nbformat": 4,
 "nbformat_minor": 2
}
