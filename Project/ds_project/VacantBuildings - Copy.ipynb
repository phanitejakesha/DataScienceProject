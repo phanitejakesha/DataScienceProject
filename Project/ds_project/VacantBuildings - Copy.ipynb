{
 "cells": [
  {
   "cell_type": "markdown",
   "metadata": {},
   "source": [
    "# Title: Deserted neighborhood: Reason for crime?\n",
    "Team: Bhanu Phanindra, Phani Teja Kesha"
   ]
  },
  {
   "cell_type": "markdown",
   "metadata": {},
   "source": [
    "   <b>Overview:</b>We are working on vacant buildings data set. We planning to derive relation if possible with factors like crime, service requests and tax affecting vacancy of buildings in area. This dataset contains building addresses, police district and NoticeDate of buildings that are vacant. It does not contain any info regarding non-vacant buildings."
   ]
  },
  {
   "cell_type": "markdown",
   "metadata": {},
   "source": [
    "Datasets used are vacant builings, Real_PropertyTaxes, 311_Customer_Service_Requests and BPD_Part_1_Victim_Based_Crime_Data."
   ]
  },
  {
   "cell_type": "markdown",
   "metadata": {},
   "source": [
    "The following are the technical details given in openbaltimore about <b> service requests </b>dataset. Number of rows and columns are 3.25M and 22 respectively where each row is a service request. Despite being huge dataset it has large number of downloads. A table preview containging all columns is given in the same page which gives info about what we can expect from this dataset even before we download. Other than these technical details about dataset nothing else is mentioned about services or what this dataset is actually. "
   ]
  },
  {
   "cell_type": "markdown",
   "metadata": {},
   "source": [
    "Dataset looks almost clean with some missing values in few columns. Looks like particular standard is followed for data entry. So there is not much ambiguity in notation. Although format of StatusDate, DueDate and CloseDate is same, CreatedDate is slightly different. I also spotted one duplicate row in 50 rows, which is mentioned as duplicate in service request itself. I think it only possible to get duplicate entries only when service request method is API. This can be investigated further when processing the data. Also may be not all duplicate requests are identified, there is possibility that different service request methods have been tried for exact same service.\n",
    " "
   ]
  },
  {
   "cell_type": "markdown",
   "metadata": {},
   "source": [
    "One of the redundent information is GeoLocation, since Latitude and Longitude have their own colums. GeoLocation column can be dropped with out any worries. Before looking at output of tail(50) I assumed SRRecordID to be integer. But it looks like some random text is present at end of digits. Not sure whether it is intended or faulty recordID. Since it is just an Id it does not matter much."
   ]
  },
  {
   "cell_type": "markdown",
   "metadata": {},
   "source": [
    "Some technical details about <b> vacant builings </b>dataset given in open baltimore are Number of rows and columns are 16.7k and 9 respectively where each row is contains information about vacant building. It has 5.4K downloads and updated twice a month. There are not many null values in the dataset only one row in which there is not building address, so lets go ahead and delete the row which has a null value. To make the dataset clean."
   ]
  },
  {
   "cell_type": "markdown",
   "metadata": {},
   "source": [
    "Some technical details about <b>property tax</b> dataset given in open baltimore are Number of rows and columns are 239k and 16 respectively where each row is contains tax information for each builing.\n",
    "\n",
    "<br>\n",
    "1)There are some NULL values in the column AmountDue.\n",
    "<br>\n",
    "2) Null values in columns CityTax and StateTax but the NULL values are not seen as frequently as seen in the AmountDue.\n",
    "<br>\n",
    "3) There are only two values in the column ResCode that is either it is a princial residence or not a principal residence.\n",
    "<br>\n",
    "4) The CouncilDistrict column looks like a code for the area but it is given in float value even though all values seems to be integer\n",
    "<br>\n",
    "5) There are some null values in columns Neighbourhood, PoliceDistrict, CouncilDistrict, Location. There is a row in which all these are null, i suspect all these to be null if any one of the value is null."
   ]
  },
  {
   "cell_type": "code",
   "execution_count": 103,
   "metadata": {},
   "outputs": [],
   "source": [
    "#All the imports for the notebook can be found here \n",
    "import pandas as pd\n",
    "import os\n",
    "import numpy as np\n",
    "import matplotlib.pyplot as plt\n",
    "import seaborn as sns"
   ]
  },
  {
   "cell_type": "code",
   "execution_count": 2,
   "metadata": {},
   "outputs": [],
   "source": [
    "df_vacant = pd.read_csv('Vacant_Buildings.csv') # Reading the data into the dataframe df"
   ]
  },
  {
   "cell_type": "code",
   "execution_count": 3,
   "metadata": {},
   "outputs": [
    {
     "data": {
      "text/html": [
       "<div>\n",
       "<style scoped>\n",
       "    .dataframe tbody tr th:only-of-type {\n",
       "        vertical-align: middle;\n",
       "    }\n",
       "\n",
       "    .dataframe tbody tr th {\n",
       "        vertical-align: top;\n",
       "    }\n",
       "\n",
       "    .dataframe thead th {\n",
       "        text-align: right;\n",
       "    }\n",
       "</style>\n",
       "<table border=\"1\" class=\"dataframe\">\n",
       "  <thead>\n",
       "    <tr style=\"text-align: right;\">\n",
       "      <th></th>\n",
       "      <th>ReferenceID</th>\n",
       "      <th>Block</th>\n",
       "      <th>Lot</th>\n",
       "      <th>BuildingAddress</th>\n",
       "      <th>NoticeDate</th>\n",
       "      <th>Neighborhood</th>\n",
       "      <th>PoliceDistrict</th>\n",
       "      <th>CouncilDistrict</th>\n",
       "      <th>Location</th>\n",
       "    </tr>\n",
       "  </thead>\n",
       "  <tbody>\n",
       "    <tr>\n",
       "      <th>0</th>\n",
       "      <td>0002 019 031016</td>\n",
       "      <td>0002</td>\n",
       "      <td>019</td>\n",
       "      <td>1909 W NORTH AVE</td>\n",
       "      <td>03/10/2016</td>\n",
       "      <td>EASTERWOOD</td>\n",
       "      <td>WESTERN</td>\n",
       "      <td>7</td>\n",
       "      <td>(39.30952601, -76.64848892)</td>\n",
       "    </tr>\n",
       "    <tr>\n",
       "      <th>1</th>\n",
       "      <td>0007 057 031116</td>\n",
       "      <td>0007</td>\n",
       "      <td>057</td>\n",
       "      <td>1734 APPLETON ST</td>\n",
       "      <td>03/11/2016</td>\n",
       "      <td>EASTERWOOD</td>\n",
       "      <td>WESTERN</td>\n",
       "      <td>7</td>\n",
       "      <td>(39.30856758, -76.64921157)</td>\n",
       "    </tr>\n",
       "    <tr>\n",
       "      <th>2</th>\n",
       "      <td>0125 012 030816</td>\n",
       "      <td>0125</td>\n",
       "      <td>012</td>\n",
       "      <td>522 N CAREY ST</td>\n",
       "      <td>03/08/2016</td>\n",
       "      <td>HARLEM PARK</td>\n",
       "      <td>WESTERN</td>\n",
       "      <td>9</td>\n",
       "      <td>(39.29482152, -76.63877572)</td>\n",
       "    </tr>\n",
       "    <tr>\n",
       "      <th>3</th>\n",
       "      <td>0151 009 030716</td>\n",
       "      <td>0151</td>\n",
       "      <td>009</td>\n",
       "      <td>317 N GILMOR ST</td>\n",
       "      <td>03/07/2016</td>\n",
       "      <td>FRANKLIN SQUARE</td>\n",
       "      <td>WESTERN</td>\n",
       "      <td>9</td>\n",
       "      <td>(39.29261888, -76.64231678)</td>\n",
       "    </tr>\n",
       "    <tr>\n",
       "      <th>4</th>\n",
       "      <td>0074 010 030918</td>\n",
       "      <td>0074</td>\n",
       "      <td>010</td>\n",
       "      <td>945 N MOUNT ST</td>\n",
       "      <td>03/09/2018</td>\n",
       "      <td>Sandtown-Winchester</td>\n",
       "      <td>Western</td>\n",
       "      <td>9</td>\n",
       "      <td>(39.29975212, -76.64415784)</td>\n",
       "    </tr>\n",
       "  </tbody>\n",
       "</table>\n",
       "</div>"
      ],
      "text/plain": [
       "       ReferenceID Block  Lot   BuildingAddress  NoticeDate  \\\n",
       "0  0002 019 031016  0002  019  1909 W NORTH AVE  03/10/2016   \n",
       "1  0007 057 031116  0007  057  1734 APPLETON ST  03/11/2016   \n",
       "2  0125 012 030816  0125  012    522 N CAREY ST  03/08/2016   \n",
       "3  0151 009 030716  0151  009   317 N GILMOR ST  03/07/2016   \n",
       "4  0074 010 030918  0074  010    945 N MOUNT ST  03/09/2018   \n",
       "\n",
       "          Neighborhood PoliceDistrict  CouncilDistrict  \\\n",
       "0           EASTERWOOD        WESTERN                7   \n",
       "1           EASTERWOOD        WESTERN                7   \n",
       "2          HARLEM PARK        WESTERN                9   \n",
       "3      FRANKLIN SQUARE        WESTERN                9   \n",
       "4  Sandtown-Winchester        Western                9   \n",
       "\n",
       "                      Location  \n",
       "0  (39.30952601, -76.64848892)  \n",
       "1  (39.30856758, -76.64921157)  \n",
       "2  (39.29482152, -76.63877572)  \n",
       "3  (39.29261888, -76.64231678)  \n",
       "4  (39.29975212, -76.64415784)  "
      ]
     },
     "execution_count": 3,
     "metadata": {},
     "output_type": "execute_result"
    }
   ],
   "source": [
    "df_vacant.head()        #checking the first 5 rows in the dataset"
   ]
  },
  {
   "cell_type": "code",
   "execution_count": 4,
   "metadata": {},
   "outputs": [
    {
     "data": {
      "text/plain": [
       "16692"
      ]
     },
     "execution_count": 4,
     "metadata": {},
     "output_type": "execute_result"
    }
   ],
   "source": [
    "len(df_vacant) #Total 16.6k rows in the dataset "
   ]
  },
  {
   "cell_type": "markdown",
   "metadata": {},
   "source": [
    "#### Column names with null values count"
   ]
  },
  {
   "cell_type": "code",
   "execution_count": 5,
   "metadata": {},
   "outputs": [
    {
     "data": {
      "text/plain": [
       "ReferenceID        0\n",
       "Block              0\n",
       "Lot                0\n",
       "BuildingAddress    1\n",
       "NoticeDate         0\n",
       "Neighborhood       0\n",
       "PoliceDistrict     0\n",
       "CouncilDistrict    0\n",
       "Location           0\n",
       "dtype: int64"
      ]
     },
     "execution_count": 5,
     "metadata": {},
     "output_type": "execute_result"
    }
   ],
   "source": [
    "df_vacant.isnull().sum(axis=0)"
   ]
  },
  {
   "cell_type": "markdown",
   "metadata": {},
   "source": [
    "Now let's clean the dataset such that it has no null values and no outliers in the given dataset. To achieve this we can follow some preprocessing techniques like filling with a global value, predicting the value etc."
   ]
  },
  {
   "cell_type": "code",
   "execution_count": 6,
   "metadata": {},
   "outputs": [
    {
     "data": {
      "text/html": [
       "<div>\n",
       "<style scoped>\n",
       "    .dataframe tbody tr th:only-of-type {\n",
       "        vertical-align: middle;\n",
       "    }\n",
       "\n",
       "    .dataframe tbody tr th {\n",
       "        vertical-align: top;\n",
       "    }\n",
       "\n",
       "    .dataframe thead th {\n",
       "        text-align: right;\n",
       "    }\n",
       "</style>\n",
       "<table border=\"1\" class=\"dataframe\">\n",
       "  <thead>\n",
       "    <tr style=\"text-align: right;\">\n",
       "      <th></th>\n",
       "      <th>CouncilDistrict</th>\n",
       "    </tr>\n",
       "  </thead>\n",
       "  <tbody>\n",
       "    <tr>\n",
       "      <th>count</th>\n",
       "      <td>16692.000000</td>\n",
       "    </tr>\n",
       "    <tr>\n",
       "      <th>mean</th>\n",
       "      <td>9.364186</td>\n",
       "    </tr>\n",
       "    <tr>\n",
       "      <th>std</th>\n",
       "      <td>2.775971</td>\n",
       "    </tr>\n",
       "    <tr>\n",
       "      <th>min</th>\n",
       "      <td>1.000000</td>\n",
       "    </tr>\n",
       "    <tr>\n",
       "      <th>25%</th>\n",
       "      <td>7.000000</td>\n",
       "    </tr>\n",
       "    <tr>\n",
       "      <th>50%</th>\n",
       "      <td>9.000000</td>\n",
       "    </tr>\n",
       "    <tr>\n",
       "      <th>75%</th>\n",
       "      <td>12.000000</td>\n",
       "    </tr>\n",
       "    <tr>\n",
       "      <th>max</th>\n",
       "      <td>14.000000</td>\n",
       "    </tr>\n",
       "  </tbody>\n",
       "</table>\n",
       "</div>"
      ],
      "text/plain": [
       "       CouncilDistrict\n",
       "count     16692.000000\n",
       "mean          9.364186\n",
       "std           2.775971\n",
       "min           1.000000\n",
       "25%           7.000000\n",
       "50%           9.000000\n",
       "75%          12.000000\n",
       "max          14.000000"
      ]
     },
     "execution_count": 6,
     "metadata": {},
     "output_type": "execute_result"
    }
   ],
   "source": [
    "df_vacant.describe()"
   ]
  },
  {
   "cell_type": "code",
   "execution_count": 7,
   "metadata": {},
   "outputs": [
    {
     "data": {
      "text/html": [
       "<div>\n",
       "<style scoped>\n",
       "    .dataframe tbody tr th:only-of-type {\n",
       "        vertical-align: middle;\n",
       "    }\n",
       "\n",
       "    .dataframe tbody tr th {\n",
       "        vertical-align: top;\n",
       "    }\n",
       "\n",
       "    .dataframe thead th {\n",
       "        text-align: right;\n",
       "    }\n",
       "</style>\n",
       "<table border=\"1\" class=\"dataframe\">\n",
       "  <thead>\n",
       "    <tr style=\"text-align: right;\">\n",
       "      <th></th>\n",
       "      <th>ReferenceID</th>\n",
       "      <th>Block</th>\n",
       "      <th>Lot</th>\n",
       "      <th>BuildingAddress</th>\n",
       "      <th>NoticeDate</th>\n",
       "      <th>Neighborhood</th>\n",
       "      <th>PoliceDistrict</th>\n",
       "      <th>CouncilDistrict</th>\n",
       "      <th>Location</th>\n",
       "    </tr>\n",
       "  </thead>\n",
       "  <tbody>\n",
       "    <tr>\n",
       "      <th>5193</th>\n",
       "      <td>0626 026 080217</td>\n",
       "      <td>0626</td>\n",
       "      <td>026</td>\n",
       "      <td>NaN</td>\n",
       "      <td>08/02/2017</td>\n",
       "      <td>Poppleton</td>\n",
       "      <td>Western</td>\n",
       "      <td>11</td>\n",
       "      <td>(39.28929887, -76.62864465)</td>\n",
       "    </tr>\n",
       "  </tbody>\n",
       "</table>\n",
       "</div>"
      ],
      "text/plain": [
       "          ReferenceID Block  Lot BuildingAddress  NoticeDate Neighborhood  \\\n",
       "5193  0626 026 080217  0626  026             NaN  08/02/2017    Poppleton   \n",
       "\n",
       "     PoliceDistrict  CouncilDistrict                     Location  \n",
       "5193        Western               11  (39.28929887, -76.62864465)  "
      ]
     },
     "execution_count": 7,
     "metadata": {},
     "output_type": "execute_result"
    }
   ],
   "source": [
    "df_vacant[df_vacant['BuildingAddress'].isnull()]"
   ]
  },
  {
   "cell_type": "code",
   "execution_count": 8,
   "metadata": {},
   "outputs": [],
   "source": [
    "df_vacant = df_vacant[df_vacant['BuildingAddress'].notnull()]"
   ]
  },
  {
   "cell_type": "markdown",
   "metadata": {},
   "source": [
    "There's is only one null value in the dataset so no harm in removing it from the dataset. The row is removed and the dataset is updated!"
   ]
  },
  {
   "cell_type": "code",
   "execution_count": 9,
   "metadata": {},
   "outputs": [
    {
     "data": {
      "text/plain": [
       "ReferenceID        0\n",
       "Block              0\n",
       "Lot                0\n",
       "BuildingAddress    0\n",
       "NoticeDate         0\n",
       "Neighborhood       0\n",
       "PoliceDistrict     0\n",
       "CouncilDistrict    0\n",
       "Location           0\n",
       "dtype: int64"
      ]
     },
     "execution_count": 9,
     "metadata": {},
     "output_type": "execute_result"
    }
   ],
   "source": [
    "df_vacant.isnull().sum(axis=0)"
   ]
  },
  {
   "cell_type": "markdown",
   "metadata": {},
   "source": [
    "Now lets check for unique values in each column so that we can find outliers if there are any in dataset."
   ]
  },
  {
   "cell_type": "code",
   "execution_count": 10,
   "metadata": {},
   "outputs": [
    {
     "data": {
      "text/plain": [
       "array([ 7,  9, 11, 10, 12, 13,  8,  6,  5,  4, 14,  2,  1,  3],\n",
       "      dtype=int64)"
      ]
     },
     "execution_count": 10,
     "metadata": {},
     "output_type": "execute_result"
    }
   ],
   "source": [
    "df_vacant['CouncilDistrict'].unique()"
   ]
  },
  {
   "cell_type": "markdown",
   "metadata": {},
   "source": [
    "Its considering the coloumn as type sensitive,convert into a single case for no confusion and to get clearer results"
   ]
  },
  {
   "cell_type": "code",
   "execution_count": 11,
   "metadata": {},
   "outputs": [
    {
     "data": {
      "text/plain": [
       "array(['WESTERN', 'Western', 'SOUTHERN', 'Southwestern', 'CENTRAL',\n",
       "       'Southern', 'EASTERN', 'SOUTHEASTERN', 'SOUTHWESTERN', 'Eastern',\n",
       "       'Southeastern', 'Northwestern', 'NORTHWESTERN', 'NORTHERN',\n",
       "       'Notheastern', 'Central', 'Northern', 'NORTHEASTERN'], dtype=object)"
      ]
     },
     "execution_count": 11,
     "metadata": {},
     "output_type": "execute_result"
    }
   ],
   "source": [
    "df_vacant['PoliceDistrict'].unique()   "
   ]
  },
  {
   "cell_type": "markdown",
   "metadata": {},
   "source": [
    "Here we see typo, which resulted in duplicate values. This is handled further down in notebook."
   ]
  },
  {
   "cell_type": "code",
   "execution_count": 12,
   "metadata": {},
   "outputs": [],
   "source": [
    "df_vacant['PoliceDistrict']=df_vacant['PoliceDistrict'].str.lower()"
   ]
  },
  {
   "cell_type": "code",
   "execution_count": 13,
   "metadata": {},
   "outputs": [
    {
     "data": {
      "text/plain": [
       "array(['EASTERWOOD', 'HARLEM PARK', 'FRANKLIN SQUARE',\n",
       "       'Sandtown-Winchester', 'CARROLLTON RIDGE', 'Boyd-Booth',\n",
       "       'DOWNTOWN', 'WASHINGTON VILLAGE/PIGTOWN', 'Union Square',\n",
       "       'Hollins Market', 'OLIVER', 'BROADWAY EAST',\n",
       "       'New Southwest/Mount Clare', 'MCELDERRY PARK',\n",
       "       'ELLWOOD PARK/MONUMENT', 'Easterwood',\n",
       "       'COPPIN HEIGHTS/ASH-CO-EAST', 'Franklin Square',\n",
       "       'NORTHWEST COMMUNITY ACTION', 'Poppleton', 'ROSEMONT',\n",
       "       'FRANKLINTOWN ROAD', 'EDGEWOOD', 'Penrose/Fayette Street Outreach',\n",
       "       'Broadway East', 'Madison-Eastend', 'McElderry Park',\n",
       "       'Ellwood Park/Monument', 'Franklintown Road', 'Rosemont',\n",
       "       'East Baltimore Midway', 'Central Park Heights', 'Brooklyn',\n",
       "       'IRVINGTON', 'CONCERNED CITIZENS OF FOREST PARK', 'FOREST PARK',\n",
       "       'HANLON-LONGWOOD', 'PARK CIRCLE', 'WOODBERRY', 'BARCLAY',\n",
       "       'PIMLICO GOOD NEIGHBORS', 'MID-GOVANS',\n",
       "       'Coldstream Homestead Montebello', 'Oliver', 'BROOKLYN', 'Berea',\n",
       "       'CARE', 'Belair-Edison', 'SANDTOWN-WINCHESTER',\n",
       "       'MIDTOWN-EDMONDSON', 'UNION SQUARE', 'NEW SOUTHWEST/MOUNT CLARE',\n",
       "       'PENN NORTH', 'Biddle Street', 'DRUID HEIGHTS', 'Dolfield',\n",
       "       'Westfield', 'Glenham-Belhar', 'West Arlington', 'BEREA',\n",
       "       'Carrollton Ridge', 'Upton', 'Milton-Montford',\n",
       "       'Patterson Park Neighborhood', 'Canton',\n",
       "       'Coppin Heights/Ash-Co-East', 'Park Circle', 'Towanda-Grantley',\n",
       "       'Mondawmin', 'Reservoir Hill', 'Hampden', 'Druid Heights',\n",
       "       'Madison Park', 'MILTON-MONTFORD', 'MADISON-EASTEND', 'Oldtown',\n",
       "       'Irvington', 'Pen Lucy', 'MILLHILL', 'SAINT JOSEPHS',\n",
       "       'ROSEMONT HOMEOWNERS/TENANTS', 'Better Waverly', 'ALLENDALE',\n",
       "       'Arlington', 'WINCHESTER', 'Downtown', 'CENTRAL FOREST PARK',\n",
       "       'PANWAY/BRADDISH AVENUE', 'MONDAWMIN', 'Johnston Square',\n",
       "       'Gay Street', 'Middle East', 'Shipley Hill',\n",
       "       'Carroll-South Hilton', 'PARKVIEW/WOODBROOK',\n",
       "       'CENTRAL PARK HEIGHTS', 'Millhill', 'RESERVOIR HILL',\n",
       "       'EAST BALTIMORE MIDWAY', 'Bayview', 'Brewers Hill', 'Greektown',\n",
       "       'Curtis Bay', 'Four By Four', 'ARLINGTON', 'Dorchester',\n",
       "       'Garwyn Oaks', 'Fairmont', 'Darley Park', 'Cedarcroft', 'WESTPORT',\n",
       "       'SAINT PAUL', 'Baltimore Highlands', 'Parklane',\n",
       "       'Reisterstown Station', 'Glen', 'Pimlico Good Neighbors',\n",
       "       'POPPLETON', 'Saint Helena', 'BOYD-BOOTH', 'Richnor Springs',\n",
       "       'Violetville', 'Morrell Park', 'MOUNT HOLLY', 'WINDSOR HILLS',\n",
       "       'FAIRMONT', 'WALBROOK', 'UPTON', 'GREENMOUNT WEST',\n",
       "       'BRIDGEVIEW/GREENLAWN', 'JOHNSTON SQUARE', 'Parkside',\n",
       "       'MIDDLE EAST', 'Midtown-Edmondson', 'BIDDLE STREET',\n",
       "       'Washington Village/Pigtown', 'East Arlington', 'SHIPLEY HILL',\n",
       "       'CARROLL-SOUTH HILTON', 'Greenspring', 'GAY STREET', 'JONESTOWN',\n",
       "       'Harlem Park', 'WASHINGTON HILL', 'FELLS POINT',\n",
       "       'Rosemont Homeowners/Tenants', 'Saint Josephs', 'Mosher',\n",
       "       'Winchester', 'ASHBURTON', 'TOWANDA-GRANTLEY', 'LIBERTY SQUARE',\n",
       "       'OLD GOUCHER', 'MOUNT WASHINGTON', 'Edgewood', 'WINSTON-GOVANS',\n",
       "       'Remington', 'Waverly', 'Overlea', 'Penn North', 'Moravia-Walther',\n",
       "       'Waltherson', 'Westport', 'BETTER WAVERLY', 'Parkview/Woodbrook',\n",
       "       'Cherry Hill', 'Northwest Community Action', 'Highlandtown',\n",
       "       'Lakeland', 'Woodmere', 'PATTERSON PARK NEIGHBORHOOD',\n",
       "       'MOUNT WINANS', 'MORRELL PARK', 'GROVE PARK', 'WEST ARLINGTON',\n",
       "       'Pulaski Industrial Area', 'HOWARD PARK',\n",
       "       'Concerned Citizens Of Forest Park', 'Barclay',\n",
       "       'Woodbourne-McCabe', 'Forest Park', 'BALTIMORE HIGHLANDS',\n",
       "       'Hillen', 'West Hills', 'Winston-Govans', 'Riverside', 'Idlewood',\n",
       "       'PENROSE/FAYETTE STREET OUTREACH', 'Mid-Town Belvedere',\n",
       "       'Greenmount West', 'Kernewood', 'DORCHESTER', 'CALLAWAY-GARRISON',\n",
       "       'REMINGTON', 'Lauraville', 'Abell', 'WILHELM PARK', 'BEECHFIELD',\n",
       "       'Cameron Village', 'Loch Raven', 'Cedmont', 'Allendale',\n",
       "       'Evergreen Lawn', 'Charles Village', 'DARLEY PARK',\n",
       "       'Callaway-Garrison', 'Walbrook', 'Hanlon-Longwood', 'MOSHER',\n",
       "       'HAMPDEN', 'Central Forest Park', 'CURTIS BAY', 'GWYNNS FALLS',\n",
       "       'Glen Oaks', 'Lower Edmondson Village', 'Edmondson Village',\n",
       "       'WEST HILLS', 'Bridgeview/Greenlawn', 'CHARLES NORTH',\n",
       "       'EDMONDSON VILLAGE', 'CYLBURN', 'Wrenlane', 'BROENING MANOR',\n",
       "       'SHARP-LEADENHALL', 'WOODMERE', 'Hamilton Hills', 'DOLFIELD',\n",
       "       'SOUTH CLIFTON PARK', 'Sharp-Leadenhall', 'LAKELAND',\n",
       "       'LAKE WALKER', 'WOODBOURNE-MCCABE', 'Cylburn', 'CHARLES VILLAGE',\n",
       "       'Lucille Park', 'Jonestown', 'Upper Fells Point', 'HOLLINS MARKET',\n",
       "       'West Forest Park', 'Mount Holly', 'Windsor Hills',\n",
       "       \"BUTCHER'S HILL\", 'Yale Heights', 'Burleith-Leighton', 'WAVERLY',\n",
       "       'Ednor Gardens-Lakeside', 'Medford', 'Tremont', 'GREENSPRING',\n",
       "       'FALLSTAFF', 'GLEN', 'LEVINDALE', 'Rosemont East', 'Kresson',\n",
       "       'TEN HILLS', 'Frankford', 'Harwood', 'Arcadia',\n",
       "       'South Clifton Park', 'Fallstaff', 'PEN LUCY', 'Evergreen',\n",
       "       'Belvedere', 'Howard Park', 'LANGSTON HUGHES', 'PARKLANE',\n",
       "       'HOMELAND', 'Rognel Heights', 'MID-TOWN BELVEDERE',\n",
       "       'SOUTH BALTIMORE', 'OAKLEE', 'Seton Hill',\n",
       "       'LOWER EDMONDSON VILLAGE', 'Patterson Place', \"Butcher's Hill\",\n",
       "       'SETON HILL', 'Gwynns Falls', 'UPPER FELLS POINT', 'OLDTOWN',\n",
       "       'Broening Manor', 'Graceland Park', 'Wakefield', 'CANTON',\n",
       "       'GARWYN OAKS', 'REISTERSTOWN STATION', 'HIGHLANDTOWN',\n",
       "       'ROGNEL HEIGHTS', 'Washington Hill', 'University Of Maryland',\n",
       "       'Mount Washington', 'WEST FOREST PARK', 'New Northwood',\n",
       "       'Langston Hughes', 'Beechfield', 'Orangeville', 'Wilson Park',\n",
       "       'Bolton Hill', 'Guilford', 'Mid-Govans', 'Kenilworth Park',\n",
       "       'North Harford Road', 'Stonewood-Pentwood-Winston',\n",
       "       'Panway/Braddish Avenue', 'Mount Vernon', 'Woodbourne Heights',\n",
       "       'Mount Winans', 'Forest Park Golf Course', 'Roland Park',\n",
       "       'South Baltimore', 'Ashburton', 'Fells Point',\n",
       "       'Pleasant View Gardens', 'Federal Hill', 'Fairfield Area',\n",
       "       'Charles North', 'Cross Country', 'Cedonia', 'Little Italy',\n",
       "       'EVERGREEN LAWN', 'Belair-Parkside', 'Wilhelm Park', 'Grove Park',\n",
       "       'Levindale', 'Chinquapin Park', 'Woodberry', 'Westgate',\n",
       "       'Ramblewood', 'Liberty Square', 'Homeland', 'Oakenshawe',\n",
       "       'Wyman Park', 'Penn-Fallsway', 'Taylor Heights', 'Rosebank',\n",
       "       'Lake Walker', 'LUCILLE PARK', 'Mayfield', 'BURLEITH-LEIGHTON',\n",
       "       'Medfield', 'Saint Paul', 'Original Northwood', 'Franklintown',\n",
       "       'Heritage Crossing', 'HARWOOD', 'Uplands', 'Hopkins Bayview',\n",
       "       'COLDSTREAM HOMESTEAD MONTEBELLO', 'WESTFIELD', 'FOUR BY FOUR',\n",
       "       'ROLAND PARK', 'Hunting Ridge', \"Ridgely's Delight\", 'GLEN OAKS',\n",
       "       'LAURAVILLE', 'WALTHERSON', 'NORTH HARFORD ROAD', 'BELAIR-EDISON',\n",
       "       'UPLANDS', 'HUNTING RIDGE', 'FRANKLINTOWN', 'MADISON PARK',\n",
       "       'BOLTON HILL', 'HERITAGE CROSSING', 'MOUNT VERNON',\n",
       "       'UNIVERSITY OF MARYLAND', \"RIDGELY'S DELIGHT\", 'FEDERAL HILL',\n",
       "       'CARROLL - CAMDEN INDUSTRIAL AREA', 'LITTLE ITALY',\n",
       "       'PLEASANT VIEW GARDENS', 'RIVERSIDE', 'LOCUST POINT',\n",
       "       'CAMERON VILLAGE', 'GUILFORD', 'OAKENSHAWE', 'ABELL',\n",
       "       'Clifton Park', 'KERNEWOOD', 'RADNOR-WINSTON', 'EVESHAM PARK',\n",
       "       'KENILWORTH PARK', 'WILSON PARK', 'RICHNOR SPRINGS', 'WRENLANE',\n",
       "       'Perring Loch', 'KRESSON', 'ORANGEVILLE INDUSTRIAL AREA',\n",
       "       'ORANGEVILLE', 'PULASKI INDUSTRIAL AREA', 'BREWERS HILL',\n",
       "       'GREEKTOWN', 'BAYVIEW', 'CHERRY HILL'], dtype=object)"
      ]
     },
     "execution_count": 13,
     "metadata": {},
     "output_type": "execute_result"
    }
   ],
   "source": [
    "df_vacant['Neighborhood'].unique()"
   ]
  },
  {
   "cell_type": "code",
   "execution_count": 14,
   "metadata": {},
   "outputs": [
    {
     "data": {
      "text/plain": [
       "array(['western', 'southern', 'southwestern', 'central', 'eastern',\n",
       "       'southeastern', 'northwestern', 'northern', 'notheastern',\n",
       "       'northeastern'], dtype=object)"
      ]
     },
     "execution_count": 14,
     "metadata": {},
     "output_type": "execute_result"
    }
   ],
   "source": [
    "df_vacant['PoliceDistrict'].unique()"
   ]
  },
  {
   "cell_type": "code",
   "execution_count": 15,
   "metadata": {},
   "outputs": [
    {
     "data": {
      "text/plain": [
       "505"
      ]
     },
     "execution_count": 15,
     "metadata": {},
     "output_type": "execute_result"
    }
   ],
   "source": [
    "len(df_vacant['Lot'].unique())"
   ]
  },
  {
   "cell_type": "code",
   "execution_count": 16,
   "metadata": {},
   "outputs": [
    {
     "data": {
      "text/plain": [
       "array(['0002', '0007', '0125', ..., '8358', '8422', '8434F'], dtype=object)"
      ]
     },
     "execution_count": 16,
     "metadata": {},
     "output_type": "execute_result"
    }
   ],
   "source": [
    "df_vacant['Block'].unique()"
   ]
  },
  {
   "cell_type": "code",
   "execution_count": 17,
   "metadata": {},
   "outputs": [
    {
     "data": {
      "text/plain": [
       "pandas.core.series.Series"
      ]
     },
     "execution_count": 17,
     "metadata": {},
     "output_type": "execute_result"
    }
   ],
   "source": [
    "type(df_vacant.groupby(['PoliceDistrict']).count()['Lot'])"
   ]
  },
  {
   "cell_type": "markdown",
   "metadata": {},
   "source": [
    "The vacant buildings in each police district is counted and plot for police district vs its count is created.<br>\n",
    "From the below plot we can see following insights.<br>\n",
    "1. SouthEastern and Northern districts haveleast number of vacant buildings.<br>\n",
    "2. Western has highest number of vacant buildings."
   ]
  },
  {
   "cell_type": "code",
   "execution_count": 18,
   "metadata": {},
   "outputs": [
    {
     "data": {
      "text/plain": [
       "<matplotlib.axes._subplots.AxesSubplot at 0x17fd5bf0fd0>"
      ]
     },
     "execution_count": 18,
     "metadata": {},
     "output_type": "execute_result"
    },
    {
     "data": {
      "image/png": "[encoded data removed]",
      "text/plain": [
       "<Figure size 432x288 with 1 Axes>"
      ]
     },
     "metadata": {},
     "output_type": "display_data"
    }
   ],
   "source": [
    "df_vacant.groupby(['PoliceDistrict']).count()['Lot'].plot(kind='bar', title='Vacant Builings grouped by policedistrict')"
   ]
  },
  {
   "cell_type": "markdown",
   "metadata": {},
   "source": [
    "#### Plot when groupby is used on PoliceDistrict."
   ]
  },
  {
   "cell_type": "code",
   "execution_count": 19,
   "metadata": {},
   "outputs": [
    {
     "data": {
      "text/plain": [
       "<matplotlib.axes._subplots.AxesSubplot at 0x17fd5d54e48>"
      ]
     },
     "execution_count": 19,
     "metadata": {},
     "output_type": "execute_result"
    },
    {
     "data": {
      "image/png": "[encoded data removed]",
      "text/plain": [
       "<Figure size 432x288 with 1 Axes>"
      ]
     },
     "metadata": {},
     "output_type": "display_data"
    }
   ],
   "source": [
    "df_vacant.groupby(['CouncilDistrict']).count()['Lot'].plot(kind='bar',title='Vacant Builings grouped by Councildistrict')"
   ]
  },
  {
   "cell_type": "markdown",
   "metadata": {},
   "source": [
    "The vacant buildings in each council district is counted and plot for council district vs its count is created.<br>\n",
    "From the below plot we can see following insights.<br>\n",
    "1. Third council have least number of vacant buildings.<br>\n",
    "2. Nineth council has highest number of vacant buildings.\n",
    "3. Maximum is leading other districts by large amount"
   ]
  },
  {
   "cell_type": "markdown",
   "metadata": {},
   "source": [
    "Checking if most of the Western district vacant buildings fall under council District 9"
   ]
  },
  {
   "cell_type": "code",
   "execution_count": 20,
   "metadata": {
    "scrolled": true
   },
   "outputs": [
    {
     "data": {
      "text/plain": [
       "<matplotlib.axes._subplots.AxesSubplot at 0x17fd5ffe438>"
      ]
     },
     "execution_count": 20,
     "metadata": {},
     "output_type": "execute_result"
    },
    {
     "data": {
      "image/png": "[encoded data removed]",
      "text/plain": [
       "<Figure size 432x288 with 1 Axes>"
      ]
     },
     "metadata": {},
     "output_type": "display_data"
    }
   ],
   "source": [
    "df_vacant[df_vacant['CouncilDistrict'] == 9].groupby('PoliceDistrict').count()['Lot'].plot(kind = 'bar',title='Policedistrict histogram for councildistrict 9')"
   ]
  },
  {
   "cell_type": "markdown",
   "metadata": {},
   "source": [
    "Not only Most of the western district falls under district 9, it has southern and southwestern incuded in it."
   ]
  },
  {
   "cell_type": "code",
   "execution_count": 21,
   "metadata": {},
   "outputs": [],
   "source": [
    "df_vacant = df_vacant[df_vacant['BuildingAddress'].notnull()]\n",
    "df_vacant.isnull().sum(axis=0)\n",
    "df_vacant['PoliceDistrict']=df_vacant['PoliceDistrict'].str.lower()\n",
    "df_date = pd.DataFrame(columns=['Month','Day', 'year'])"
   ]
  },
  {
   "cell_type": "markdown",
   "metadata": {},
   "source": [
    "The notice date in dataset is of string format with mm/date/year. To perform analysis on this column we convert to standard format which has three columns Month, day and year."
   ]
  },
  {
   "cell_type": "code",
   "execution_count": 22,
   "metadata": {},
   "outputs": [],
   "source": [
    "for i in range(0,len(df_vacant)):\n",
    "    date = df_vacant.iloc[i]['NoticeDate'].split('/')\n",
    "    df_date.loc[i] = [int(date[0]),int(date[1]),int(date[2])]"
   ]
  },
  {
   "cell_type": "code",
   "execution_count": 23,
   "metadata": {},
   "outputs": [
    {
     "data": {
      "text/plain": [
       "<matplotlib.axes._subplots.AxesSubplot at 0x17fd5be4f98>"
      ]
     },
     "execution_count": 23,
     "metadata": {},
     "output_type": "execute_result"
    },
    {
     "data": {
      "image/png": "[encoded data removed]",
      "text/plain": [
       "<Figure size 432x288 with 1 Axes>"
      ]
     },
     "metadata": {},
     "output_type": "display_data"
    }
   ],
   "source": [
    "%matplotlib inline\n",
    "df_date.groupby(['year']).count()['Day'].plot(kind='line')"
   ]
  },
  {
   "cell_type": "markdown",
   "metadata": {},
   "source": [
    "#### Above plot is vacant buildings vs year of the notice date.\n",
    "\n",
    "\n",
    "The above plot shows us the number of vacant buildings with respect to the year in notice period. There are some homes which are vacant from 2004. That means there are many buildings which are left vacant from a decade. This may show us that if a builing is vacant from many years probably its going to stay that way for long time."
   ]
  },
  {
   "cell_type": "markdown",
   "metadata": {},
   "source": [
    "Now lets divide the time frame in to two buckets of equal span and see how many vacant buildings fall under each bucket."
   ]
  },
  {
   "cell_type": "code",
   "execution_count": 24,
   "metadata": {},
   "outputs": [
    {
     "name": "stdout",
     "output_type": "stream",
     "text": [
      "6121\n"
     ]
    }
   ],
   "source": [
    "count = 0\n",
    "for i in range(0,len(df_date)):\n",
    "    if df_date.iloc[i]['year']<=2011:\n",
    "        #print(df_date.iloc[i])\n",
    "        count+=1\n",
    "print(count)"
   ]
  },
  {
   "cell_type": "markdown",
   "metadata": {},
   "source": [
    "Out of the total 16.6K vacant buildings, almost 40% (6121) are being vacant from 2011. "
   ]
  },
  {
   "cell_type": "markdown",
   "metadata": {},
   "source": [
    "### Just like Newtons laws of motion if building is vacant it tends to be in vacant state!"
   ]
  },
  {
   "cell_type": "code",
   "execution_count": 25,
   "metadata": {},
   "outputs": [
    {
     "name": "stdout",
     "output_type": "stream",
     "text": [
      "Counter({'western': 87, 'central': 43, 'southwestern': 34, 'eastern': 24, 'northwestern': 9, 'southern': 9, 'notheastern': 6, 'northern': 6, 'southeastern': 1})\n"
     ]
    }
   ],
   "source": [
    "from collections import Counter\n",
    "listDist = []\n",
    "count = 0\n",
    "for i in range(0,len(df_date)):\n",
    "    if df_date.iloc[i]['year']<=2004:\n",
    "        count+=1\n",
    "        listDist.append(df_vacant.iloc[i]['PoliceDistrict'])\n",
    "print(Counter(listDist))"
   ]
  },
  {
   "cell_type": "markdown",
   "metadata": {},
   "source": [
    "We have previosuly seen that western district has the most number of vacant buildings. Looking at the vacant buildings which are vacant from the year 2004. There are 87 buildings which are vacant in western district, which raises our suspicion. Now lets check other datasets to check if there is any correlation with vacant buildings."
   ]
  },
  {
   "cell_type": "markdown",
   "metadata": {},
   "source": [
    "#### Lets dive into Crime dataset "
   ]
  },
  {
   "cell_type": "code",
   "execution_count": 27,
   "metadata": {},
   "outputs": [],
   "source": [
    "df_crime = pd.read_csv('BPD_Part_1_Victim_Based_Crime_Data.csv')"
   ]
  },
  {
   "cell_type": "code",
   "execution_count": 28,
   "metadata": {},
   "outputs": [
    {
     "data": {
      "text/html": [
       "<div>\n",
       "<style scoped>\n",
       "    .dataframe tbody tr th:only-of-type {\n",
       "        vertical-align: middle;\n",
       "    }\n",
       "\n",
       "    .dataframe tbody tr th {\n",
       "        vertical-align: top;\n",
       "    }\n",
       "\n",
       "    .dataframe thead th {\n",
       "        text-align: right;\n",
       "    }\n",
       "</style>\n",
       "<table border=\"1\" class=\"dataframe\">\n",
       "  <thead>\n",
       "    <tr style=\"text-align: right;\">\n",
       "      <th></th>\n",
       "      <th>CrimeDate</th>\n",
       "      <th>CrimeTime</th>\n",
       "      <th>CrimeCode</th>\n",
       "      <th>Location</th>\n",
       "      <th>Description</th>\n",
       "      <th>Inside/Outside</th>\n",
       "      <th>Weapon</th>\n",
       "      <th>Post</th>\n",
       "      <th>District</th>\n",
       "      <th>Neighborhood</th>\n",
       "      <th>Longitude</th>\n",
       "      <th>Latitude</th>\n",
       "      <th>Location 1</th>\n",
       "      <th>Premise</th>\n",
       "      <th>crimeCaseNumber</th>\n",
       "      <th>Total Incidents</th>\n",
       "    </tr>\n",
       "  </thead>\n",
       "  <tbody>\n",
       "    <tr>\n",
       "      <th>0</th>\n",
       "      <td>07/07/2018</td>\n",
       "      <td>23:53:00</td>\n",
       "      <td>1F</td>\n",
       "      <td>1600 PENTWOOD RD</td>\n",
       "      <td>HOMICIDE</td>\n",
       "      <td>NaN</td>\n",
       "      <td>FIREARM</td>\n",
       "      <td>413.0</td>\n",
       "      <td>NORTHEASTERN</td>\n",
       "      <td>Stonewood-Pentwood-Winsto</td>\n",
       "      <td>-76.58727</td>\n",
       "      <td>39.34782</td>\n",
       "      <td>(39.34782, -76.58727)</td>\n",
       "      <td>Alley</td>\n",
       "      <td>NaN</td>\n",
       "      <td>1.0</td>\n",
       "    </tr>\n",
       "    <tr>\n",
       "      <th>1</th>\n",
       "      <td>07/07/2018</td>\n",
       "      <td>23:50:00</td>\n",
       "      <td>4E</td>\n",
       "      <td>ST &amp; DIVISION ST</td>\n",
       "      <td>COMMON ASSAULT</td>\n",
       "      <td>O</td>\n",
       "      <td>NaN</td>\n",
       "      <td>131.0</td>\n",
       "      <td>CENTRAL</td>\n",
       "      <td>Druid Heights</td>\n",
       "      <td>-76.63936</td>\n",
       "      <td>39.30903</td>\n",
       "      <td>(39.30903, -76.63936)</td>\n",
       "      <td>STREET</td>\n",
       "      <td>NaN</td>\n",
       "      <td>1.0</td>\n",
       "    </tr>\n",
       "    <tr>\n",
       "      <th>2</th>\n",
       "      <td>07/07/2018</td>\n",
       "      <td>23:18:00</td>\n",
       "      <td>4C</td>\n",
       "      <td>2500 PERRING MANOR RD</td>\n",
       "      <td>AGG. ASSAULT</td>\n",
       "      <td>I</td>\n",
       "      <td>OTHER</td>\n",
       "      <td>423.0</td>\n",
       "      <td>NORTHEASTERN</td>\n",
       "      <td>Hamilton Hills</td>\n",
       "      <td>-76.56094</td>\n",
       "      <td>39.37189</td>\n",
       "      <td>(39.37189, -76.56094)</td>\n",
       "      <td>ROW/TOWNHO</td>\n",
       "      <td>NaN</td>\n",
       "      <td>1.0</td>\n",
       "    </tr>\n",
       "    <tr>\n",
       "      <th>3</th>\n",
       "      <td>07/07/2018</td>\n",
       "      <td>22:41:00</td>\n",
       "      <td>9S</td>\n",
       "      <td>3700 S HANOVER ST</td>\n",
       "      <td>SHOOTING</td>\n",
       "      <td>NaN</td>\n",
       "      <td>FIREARM</td>\n",
       "      <td>913.0</td>\n",
       "      <td>SOUTHERN</td>\n",
       "      <td>Brooklyn</td>\n",
       "      <td>-76.61033</td>\n",
       "      <td>39.23703</td>\n",
       "      <td>(39.23703, -76.61033)</td>\n",
       "      <td>Common Bus</td>\n",
       "      <td>NaN</td>\n",
       "      <td>1.0</td>\n",
       "    </tr>\n",
       "    <tr>\n",
       "      <th>4</th>\n",
       "      <td>07/07/2018</td>\n",
       "      <td>22:55:00</td>\n",
       "      <td>4E</td>\n",
       "      <td>LOMBARD ST &amp; LIGHT ST</td>\n",
       "      <td>COMMON ASSAULT</td>\n",
       "      <td>I</td>\n",
       "      <td>NaN</td>\n",
       "      <td>111.0</td>\n",
       "      <td>CENTRAL</td>\n",
       "      <td>Inner Harbor</td>\n",
       "      <td>-76.61362</td>\n",
       "      <td>39.28775</td>\n",
       "      <td>(39.28775, -76.61362)</td>\n",
       "      <td>CONVENIENC</td>\n",
       "      <td>NaN</td>\n",
       "      <td>1.0</td>\n",
       "    </tr>\n",
       "    <tr>\n",
       "      <th>5</th>\n",
       "      <td>07/07/2018</td>\n",
       "      <td>22:18:00</td>\n",
       "      <td>4C</td>\n",
       "      <td>1800 W FRANKLIN ST</td>\n",
       "      <td>AGG. ASSAULT</td>\n",
       "      <td>I</td>\n",
       "      <td>OTHER</td>\n",
       "      <td>722.0</td>\n",
       "      <td>WESTERN</td>\n",
       "      <td>Harlem Park</td>\n",
       "      <td>-76.64652</td>\n",
       "      <td>39.29388</td>\n",
       "      <td>(39.29388, -76.64652)</td>\n",
       "      <td>ROW/TOWNHO</td>\n",
       "      <td>NaN</td>\n",
       "      <td>1.0</td>\n",
       "    </tr>\n",
       "    <tr>\n",
       "      <th>6</th>\n",
       "      <td>07/07/2018</td>\n",
       "      <td>21:40:00</td>\n",
       "      <td>3B</td>\n",
       "      <td>1000 SAINT PAUL ST</td>\n",
       "      <td>ROBBERY - STREET</td>\n",
       "      <td>NaN</td>\n",
       "      <td>NaN</td>\n",
       "      <td>141.0</td>\n",
       "      <td>CENTRAL</td>\n",
       "      <td>Mid-Town Belvedere</td>\n",
       "      <td>-76.61436</td>\n",
       "      <td>39.30165</td>\n",
       "      <td>(39.30165, -76.61436)</td>\n",
       "      <td>NaN</td>\n",
       "      <td>NaN</td>\n",
       "      <td>1.0</td>\n",
       "    </tr>\n",
       "    <tr>\n",
       "      <th>7</th>\n",
       "      <td>07/07/2018</td>\n",
       "      <td>21:16:00</td>\n",
       "      <td>4E</td>\n",
       "      <td>2000 E BALTIMORE ST</td>\n",
       "      <td>COMMON ASSAULT</td>\n",
       "      <td>I</td>\n",
       "      <td>NaN</td>\n",
       "      <td>212.0</td>\n",
       "      <td>SOUTHEASTERN</td>\n",
       "      <td>Butcher's Hill</td>\n",
       "      <td>-76.58809</td>\n",
       "      <td>39.29172</td>\n",
       "      <td>(39.29172, -76.58809)</td>\n",
       "      <td>ROW/TOWNHO</td>\n",
       "      <td>NaN</td>\n",
       "      <td>1.0</td>\n",
       "    </tr>\n",
       "    <tr>\n",
       "      <th>8</th>\n",
       "      <td>07/07/2018</td>\n",
       "      <td>21:08:00</td>\n",
       "      <td>6D</td>\n",
       "      <td>400 E 20TH ST</td>\n",
       "      <td>LARCENY FROM AUTO</td>\n",
       "      <td>I</td>\n",
       "      <td>NaN</td>\n",
       "      <td>341.0</td>\n",
       "      <td>EASTERN</td>\n",
       "      <td>Barclay</td>\n",
       "      <td>-76.61049</td>\n",
       "      <td>39.31244</td>\n",
       "      <td>(39.31244, -76.61049)</td>\n",
       "      <td>APT/CONDO</td>\n",
       "      <td>NaN</td>\n",
       "      <td>1.0</td>\n",
       "    </tr>\n",
       "    <tr>\n",
       "      <th>9</th>\n",
       "      <td>07/07/2018</td>\n",
       "      <td>20:19:00</td>\n",
       "      <td>9S</td>\n",
       "      <td>4900 SINCLAIR LA</td>\n",
       "      <td>SHOOTING</td>\n",
       "      <td>NaN</td>\n",
       "      <td>FIREARM</td>\n",
       "      <td>443.0</td>\n",
       "      <td>NORTHEASTERN</td>\n",
       "      <td>Frankford</td>\n",
       "      <td>-76.55088</td>\n",
       "      <td>39.32101</td>\n",
       "      <td>(39.32101, -76.55088)</td>\n",
       "      <td>Street</td>\n",
       "      <td>NaN</td>\n",
       "      <td>1.0</td>\n",
       "    </tr>\n",
       "  </tbody>\n",
       "</table>\n",
       "</div>"
      ],
      "text/plain": [
       "    CrimeDate CrimeTime CrimeCode               Location        Description  \\\n",
       "0  07/07/2018  23:53:00        1F       1600 PENTWOOD RD           HOMICIDE   \n",
       "1  07/07/2018  23:50:00        4E       ST & DIVISION ST     COMMON ASSAULT   \n",
       "2  07/07/2018  23:18:00        4C  2500 PERRING MANOR RD       AGG. ASSAULT   \n",
       "3  07/07/2018  22:41:00        9S      3700 S HANOVER ST           SHOOTING   \n",
       "4  07/07/2018  22:55:00        4E  LOMBARD ST & LIGHT ST     COMMON ASSAULT   \n",
       "5  07/07/2018  22:18:00        4C     1800 W FRANKLIN ST       AGG. ASSAULT   \n",
       "6  07/07/2018  21:40:00        3B     1000 SAINT PAUL ST   ROBBERY - STREET   \n",
       "7  07/07/2018  21:16:00        4E    2000 E BALTIMORE ST     COMMON ASSAULT   \n",
       "8  07/07/2018  21:08:00        6D          400 E 20TH ST  LARCENY FROM AUTO   \n",
       "9  07/07/2018  20:19:00        9S       4900 SINCLAIR LA           SHOOTING   \n",
       "\n",
       "  Inside/Outside   Weapon   Post      District               Neighborhood  \\\n",
       "0            NaN  FIREARM  413.0  NORTHEASTERN  Stonewood-Pentwood-Winsto   \n",
       "1              O      NaN  131.0       CENTRAL              Druid Heights   \n",
       "2              I    OTHER  423.0  NORTHEASTERN             Hamilton Hills   \n",
       "3            NaN  FIREARM  913.0      SOUTHERN                   Brooklyn   \n",
       "4              I      NaN  111.0       CENTRAL               Inner Harbor   \n",
       "5              I    OTHER  722.0       WESTERN                Harlem Park   \n",
       "6            NaN      NaN  141.0       CENTRAL         Mid-Town Belvedere   \n",
       "7              I      NaN  212.0  SOUTHEASTERN             Butcher's Hill   \n",
       "8              I      NaN  341.0       EASTERN                    Barclay   \n",
       "9            NaN  FIREARM  443.0  NORTHEASTERN                  Frankford   \n",
       "\n",
       "   Longitude  Latitude             Location 1     Premise  crimeCaseNumber  \\\n",
       "0  -76.58727  39.34782  (39.34782, -76.58727)       Alley              NaN   \n",
       "1  -76.63936  39.30903  (39.30903, -76.63936)      STREET              NaN   \n",
       "2  -76.56094  39.37189  (39.37189, -76.56094)  ROW/TOWNHO              NaN   \n",
       "3  -76.61033  39.23703  (39.23703, -76.61033)  Common Bus              NaN   \n",
       "4  -76.61362  39.28775  (39.28775, -76.61362)  CONVENIENC              NaN   \n",
       "5  -76.64652  39.29388  (39.29388, -76.64652)  ROW/TOWNHO              NaN   \n",
       "6  -76.61436  39.30165  (39.30165, -76.61436)         NaN              NaN   \n",
       "7  -76.58809  39.29172  (39.29172, -76.58809)  ROW/TOWNHO              NaN   \n",
       "8  -76.61049  39.31244  (39.31244, -76.61049)   APT/CONDO              NaN   \n",
       "9  -76.55088  39.32101  (39.32101, -76.55088)      Street              NaN   \n",
       "\n",
       "   Total Incidents  \n",
       "0              1.0  \n",
       "1              1.0  \n",
       "2              1.0  \n",
       "3              1.0  \n",
       "4              1.0  \n",
       "5              1.0  \n",
       "6              1.0  \n",
       "7              1.0  \n",
       "8              1.0  \n",
       "9              1.0  "
      ]
     },
     "execution_count": 28,
     "metadata": {},
     "output_type": "execute_result"
    }
   ],
   "source": [
    "df_crime.head(10)"
   ]
  },
  {
   "cell_type": "code",
   "execution_count": 29,
   "metadata": {},
   "outputs": [
    {
     "data": {
      "text/plain": [
       "CrimeDate               0\n",
       "CrimeTime               0\n",
       "CrimeCode               0\n",
       "Location             3971\n",
       "Description           248\n",
       "Inside/Outside      25566\n",
       "Weapon             261423\n",
       "Post                  295\n",
       "District              112\n",
       "Neighborhood         4213\n",
       "Longitude            3969\n",
       "Latitude             3969\n",
       "Location 1           4755\n",
       "Premise             21012\n",
       "crimeCaseNumber    335571\n",
       "Total Incidents       847\n",
       "dtype: int64"
      ]
     },
     "execution_count": 29,
     "metadata": {},
     "output_type": "execute_result"
    }
   ],
   "source": [
    "df_crime.isnull().sum(axis=0)"
   ]
  },
  {
   "cell_type": "markdown",
   "metadata": {},
   "source": [
    "There are many null values in the dataset. Restricting the cleaning part to required columns only."
   ]
  },
  {
   "cell_type": "code",
   "execution_count": 109,
   "metadata": {},
   "outputs": [
    {
     "data": {
      "text/plain": [
       "335571"
      ]
     },
     "execution_count": 109,
     "metadata": {},
     "output_type": "execute_result"
    }
   ],
   "source": [
    "len(df_crime)"
   ]
  },
  {
   "cell_type": "code",
   "execution_count": 31,
   "metadata": {},
   "outputs": [
    {
     "data": {
      "text/plain": [
       "array([ 1., nan])"
      ]
     },
     "execution_count": 31,
     "metadata": {},
     "output_type": "execute_result"
    }
   ],
   "source": [
    "df_crime['Total Incidents'].unique()"
   ]
  },
  {
   "cell_type": "code",
   "execution_count": 32,
   "metadata": {},
   "outputs": [],
   "source": [
    "df_crime =  df_crime.drop(columns=['crimeCaseNumber', 'Total Incidents'])"
   ]
  },
  {
   "cell_type": "code",
   "execution_count": 33,
   "metadata": {},
   "outputs": [],
   "source": [
    "df_crime['District'] = df_crime['District'].fillna(0)"
   ]
  },
  {
   "cell_type": "code",
   "execution_count": 34,
   "metadata": {},
   "outputs": [
    {
     "data": {
      "text/plain": [
       "array(['NORTHEASTERN', 'CENTRAL', 'SOUTHERN', 'WESTERN', 'SOUTHEASTERN',\n",
       "       'EASTERN', 'NORTHWESTERN', 'SOUTHWESTERN', 'NORTHERN', 0],\n",
       "      dtype=object)"
      ]
     },
     "execution_count": 34,
     "metadata": {},
     "output_type": "execute_result"
    }
   ],
   "source": [
    "df_crime['District'].unique()"
   ]
  },
  {
   "cell_type": "markdown",
   "metadata": {},
   "source": [
    "Even though Western district has highest number of vacant buildings, it has least crime rate. This goes completely opposite to our intuition. Reason for this has something to do be western district has more number of buildings automatically leading to more number of vacant buildings. To find the truth we must find percentage of vacant buildings in District rather than number of vacant buildings. Since vacant buildings dataset does not contain any information about non vacant buildings, we will use propery tax dataset to these details which contains buildings information. We consider these buildings as non-vacant and calculate percentage of vacant buildings."
   ]
  },
  {
   "cell_type": "code",
   "execution_count": 35,
   "metadata": {
    "scrolled": true
   },
   "outputs": [
    {
     "data": {
      "text/plain": [
       "<matplotlib.axes._subplots.AxesSubplot at 0x17fd56b6978>"
      ]
     },
     "execution_count": 35,
     "metadata": {},
     "output_type": "execute_result"
    },
    {
     "data": {
      "image/png": "[encoded data removed]",
      "text/plain": [
       "<Figure size 432x288 with 1 Axes>"
      ]
     },
     "metadata": {},
     "output_type": "display_data"
    }
   ],
   "source": [
    "df_crime[df_crime['District'] != 0].groupby(['District']).count()['Location'].plot(kind='bar',title='Crimecount groupedby Policedistrict')"
   ]
  },
  {
   "cell_type": "markdown",
   "metadata": {},
   "source": [
    "The Crime incidents in each police district is counted and plot for police district vs its count is created.<br>\n",
    "From the above plot we can see following insights.<br>\n",
    "1. Western and Easter districts havel east number of crime incidents.<br>\n",
    "2. Northeastern has highest number of crime incidents."
   ]
  },
  {
   "cell_type": "markdown",
   "metadata": {},
   "source": [
    "#### Now let's check an Property taxes dataset"
   ]
  },
  {
   "cell_type": "markdown",
   "metadata": {},
   "source": [
    "The reason why we wanted to use property dataset for the following <br>\n",
    "1) we can find non vacant buildings <br>\n",
    "2) we can find number of buildings in each police district <br>\n",
    "3) Can a build a model which will learn if a building is vacant or not <br>\n",
    "This is done by considering the buildings which are present in property tax dataset and not presnt in vacant building dataset as Non vacant buildings."
   ]
  },
  {
   "cell_type": "code",
   "execution_count": 36,
   "metadata": {},
   "outputs": [],
   "source": [
    "df_property = pd.read_csv(\"Real_Property_Taxes.csv\")"
   ]
  },
  {
   "cell_type": "code",
   "execution_count": 37,
   "metadata": {},
   "outputs": [
    {
     "data": {
      "text/html": [
       "<div>\n",
       "<style scoped>\n",
       "    .dataframe tbody tr th:only-of-type {\n",
       "        vertical-align: middle;\n",
       "    }\n",
       "\n",
       "    .dataframe tbody tr th {\n",
       "        vertical-align: top;\n",
       "    }\n",
       "\n",
       "    .dataframe thead th {\n",
       "        text-align: right;\n",
       "    }\n",
       "</style>\n",
       "<table border=\"1\" class=\"dataframe\">\n",
       "  <thead>\n",
       "    <tr style=\"text-align: right;\">\n",
       "      <th></th>\n",
       "      <th>PropertyID</th>\n",
       "      <th>Block</th>\n",
       "      <th>Lot</th>\n",
       "      <th>Ward</th>\n",
       "      <th>Sect</th>\n",
       "      <th>PropertyAddress</th>\n",
       "      <th>LotSize</th>\n",
       "      <th>CityTax</th>\n",
       "      <th>StateTax</th>\n",
       "      <th>ResCode</th>\n",
       "      <th>AmountDue</th>\n",
       "      <th>AsOfDate</th>\n",
       "      <th>Neighborhood</th>\n",
       "      <th>PoliceDistrict</th>\n",
       "      <th>CouncilDistrict</th>\n",
       "      <th>Location</th>\n",
       "    </tr>\n",
       "  </thead>\n",
       "  <tbody>\n",
       "    <tr>\n",
       "      <th>0</th>\n",
       "      <td>0001002</td>\n",
       "      <td>0001</td>\n",
       "      <td>002</td>\n",
       "      <td>15</td>\n",
       "      <td>370</td>\n",
       "      <td>2043 W NORTH AVE</td>\n",
       "      <td>14X83-10</td>\n",
       "      <td>1112.76</td>\n",
       "      <td>55.44</td>\n",
       "      <td>NOT A PRINCIPAL RESIDENCE</td>\n",
       "      <td>NaN</td>\n",
       "      <td>06/04/2018</td>\n",
       "      <td>Easterwood</td>\n",
       "      <td>Western</td>\n",
       "      <td>7.0</td>\n",
       "      <td>(39.30941619, -76.65109034)</td>\n",
       "    </tr>\n",
       "    <tr>\n",
       "      <th>1</th>\n",
       "      <td>5918064</td>\n",
       "      <td>5918</td>\n",
       "      <td>064</td>\n",
       "      <td>26</td>\n",
       "      <td>380</td>\n",
       "      <td>3429 SHANNON DR</td>\n",
       "      <td>18X91-9</td>\n",
       "      <td>2801.01</td>\n",
       "      <td>139.55</td>\n",
       "      <td>PRINCIPAL RESIDENCE</td>\n",
       "      <td>1356.50</td>\n",
       "      <td>09/29/2018</td>\n",
       "      <td>Belair-Edison</td>\n",
       "      <td>Notheastern</td>\n",
       "      <td>13.0</td>\n",
       "      <td>(39.3229146, -76.56235554)</td>\n",
       "    </tr>\n",
       "    <tr>\n",
       "      <th>2</th>\n",
       "      <td>0001004</td>\n",
       "      <td>0001</td>\n",
       "      <td>004</td>\n",
       "      <td>15</td>\n",
       "      <td>370</td>\n",
       "      <td>2039 W NORTH AVE</td>\n",
       "      <td>14X83-10</td>\n",
       "      <td>472.08</td>\n",
       "      <td>23.52</td>\n",
       "      <td>NOT A PRINCIPAL RESIDENCE</td>\n",
       "      <td>NaN</td>\n",
       "      <td>06/04/2018</td>\n",
       "      <td>Easterwood</td>\n",
       "      <td>Western</td>\n",
       "      <td>7.0</td>\n",
       "      <td>(39.30941951, -76.65099026)</td>\n",
       "    </tr>\n",
       "    <tr>\n",
       "      <th>3</th>\n",
       "      <td>0001005</td>\n",
       "      <td>0001</td>\n",
       "      <td>005</td>\n",
       "      <td>15</td>\n",
       "      <td>370</td>\n",
       "      <td>2037 W NORTH AVE</td>\n",
       "      <td>14X83-10</td>\n",
       "      <td>472.08</td>\n",
       "      <td>23.52</td>\n",
       "      <td>NOT A PRINCIPAL RESIDENCE</td>\n",
       "      <td>NaN</td>\n",
       "      <td>06/04/2018</td>\n",
       "      <td>Easterwood</td>\n",
       "      <td>Western</td>\n",
       "      <td>7.0</td>\n",
       "      <td>(39.30942111, -76.65094166)</td>\n",
       "    </tr>\n",
       "    <tr>\n",
       "      <th>4</th>\n",
       "      <td>0001006</td>\n",
       "      <td>0001</td>\n",
       "      <td>006</td>\n",
       "      <td>15</td>\n",
       "      <td>370</td>\n",
       "      <td>2035 W NORTH AVE</td>\n",
       "      <td>14X83-10</td>\n",
       "      <td>247.28</td>\n",
       "      <td>12.32</td>\n",
       "      <td>NOT A PRINCIPAL RESIDENCE</td>\n",
       "      <td>NaN</td>\n",
       "      <td>06/04/2018</td>\n",
       "      <td>Easterwood</td>\n",
       "      <td>Western</td>\n",
       "      <td>7.0</td>\n",
       "      <td>(39.30942277, -76.65089166)</td>\n",
       "    </tr>\n",
       "    <tr>\n",
       "      <th>5</th>\n",
       "      <td>4179P033</td>\n",
       "      <td>4179P</td>\n",
       "      <td>033</td>\n",
       "      <td>26</td>\n",
       "      <td>340</td>\n",
       "      <td>3811 LYNDALE AVE</td>\n",
       "      <td>14X100</td>\n",
       "      <td>2032.19</td>\n",
       "      <td>101.25</td>\n",
       "      <td>NOT A PRINCIPAL RESIDENCE</td>\n",
       "      <td>2123.28</td>\n",
       "      <td>07/01/2018</td>\n",
       "      <td>Belair-Edison</td>\n",
       "      <td>Notheastern</td>\n",
       "      <td>13.0</td>\n",
       "      <td>(39.31680208, -76.56505749)</td>\n",
       "    </tr>\n",
       "    <tr>\n",
       "      <th>6</th>\n",
       "      <td>0001009</td>\n",
       "      <td>0001</td>\n",
       "      <td>009</td>\n",
       "      <td>15</td>\n",
       "      <td>370</td>\n",
       "      <td>2029 W NORTH AVE</td>\n",
       "      <td>14X83-10</td>\n",
       "      <td>472.08</td>\n",
       "      <td>23.52</td>\n",
       "      <td>NOT A PRINCIPAL RESIDENCE</td>\n",
       "      <td>NaN</td>\n",
       "      <td>06/04/2018</td>\n",
       "      <td>Easterwood</td>\n",
       "      <td>Western</td>\n",
       "      <td>7.0</td>\n",
       "      <td>(39.30942756, -76.65074605)</td>\n",
       "    </tr>\n",
       "    <tr>\n",
       "      <th>7</th>\n",
       "      <td>0001010</td>\n",
       "      <td>0001</td>\n",
       "      <td>010</td>\n",
       "      <td>15</td>\n",
       "      <td>370</td>\n",
       "      <td>2027 W NORTH AVE</td>\n",
       "      <td>14X83-10</td>\n",
       "      <td>472.08</td>\n",
       "      <td>23.52</td>\n",
       "      <td>NOT A PRINCIPAL RESIDENCE</td>\n",
       "      <td>NaN</td>\n",
       "      <td>06/04/2018</td>\n",
       "      <td>Easterwood</td>\n",
       "      <td>Western</td>\n",
       "      <td>7.0</td>\n",
       "      <td>(39.30942925, -76.65069531)</td>\n",
       "    </tr>\n",
       "    <tr>\n",
       "      <th>8</th>\n",
       "      <td>0001011</td>\n",
       "      <td>0001</td>\n",
       "      <td>011</td>\n",
       "      <td>15</td>\n",
       "      <td>370</td>\n",
       "      <td>2025 W NORTH AVE</td>\n",
       "      <td>14X83-10</td>\n",
       "      <td>472.08</td>\n",
       "      <td>23.52</td>\n",
       "      <td>NOT A PRINCIPAL RESIDENCE</td>\n",
       "      <td>NaN</td>\n",
       "      <td>06/04/2018</td>\n",
       "      <td>Easterwood</td>\n",
       "      <td>Western</td>\n",
       "      <td>7.0</td>\n",
       "      <td>(39.30943089, -76.65064581)</td>\n",
       "    </tr>\n",
       "    <tr>\n",
       "      <th>9</th>\n",
       "      <td>0001012</td>\n",
       "      <td>0001</td>\n",
       "      <td>012</td>\n",
       "      <td>15</td>\n",
       "      <td>370</td>\n",
       "      <td>2023 W NORTH AVE</td>\n",
       "      <td>14X83-10</td>\n",
       "      <td>472.08</td>\n",
       "      <td>23.52</td>\n",
       "      <td>NOT A PRINCIPAL RESIDENCE</td>\n",
       "      <td>NaN</td>\n",
       "      <td>06/04/2018</td>\n",
       "      <td>Easterwood</td>\n",
       "      <td>Western</td>\n",
       "      <td>7.0</td>\n",
       "      <td>(39.30943253, -76.65059631)</td>\n",
       "    </tr>\n",
       "  </tbody>\n",
       "</table>\n",
       "</div>"
      ],
      "text/plain": [
       "  PropertyID  Block  Lot  Ward  Sect   PropertyAddress            LotSize  \\\n",
       "0    0001002   0001  002    15   370  2043 W NORTH AVE  14X83-10            \n",
       "1    5918064   5918  064    26   380   3429 SHANNON DR  18X91-9             \n",
       "2    0001004   0001  004    15   370  2039 W NORTH AVE  14X83-10            \n",
       "3    0001005   0001  005    15   370  2037 W NORTH AVE  14X83-10            \n",
       "4    0001006   0001  006    15   370  2035 W NORTH AVE  14X83-10            \n",
       "5   4179P033  4179P  033    26   340  3811 LYNDALE AVE  14X100              \n",
       "6    0001009   0001  009    15   370  2029 W NORTH AVE  14X83-10            \n",
       "7    0001010   0001  010    15   370  2027 W NORTH AVE  14X83-10            \n",
       "8    0001011   0001  011    15   370  2025 W NORTH AVE  14X83-10            \n",
       "9    0001012   0001  012    15   370  2023 W NORTH AVE  14X83-10            \n",
       "\n",
       "   CityTax  StateTax                    ResCode  AmountDue    AsOfDate  \\\n",
       "0  1112.76     55.44  NOT A PRINCIPAL RESIDENCE        NaN  06/04/2018   \n",
       "1  2801.01    139.55  PRINCIPAL RESIDENCE          1356.50  09/29/2018   \n",
       "2   472.08     23.52  NOT A PRINCIPAL RESIDENCE        NaN  06/04/2018   \n",
       "3   472.08     23.52  NOT A PRINCIPAL RESIDENCE        NaN  06/04/2018   \n",
       "4   247.28     12.32  NOT A PRINCIPAL RESIDENCE        NaN  06/04/2018   \n",
       "5  2032.19    101.25  NOT A PRINCIPAL RESIDENCE    2123.28  07/01/2018   \n",
       "6   472.08     23.52  NOT A PRINCIPAL RESIDENCE        NaN  06/04/2018   \n",
       "7   472.08     23.52  NOT A PRINCIPAL RESIDENCE        NaN  06/04/2018   \n",
       "8   472.08     23.52  NOT A PRINCIPAL RESIDENCE        NaN  06/04/2018   \n",
       "9   472.08     23.52  NOT A PRINCIPAL RESIDENCE        NaN  06/04/2018   \n",
       "\n",
       "    Neighborhood PoliceDistrict  CouncilDistrict                     Location  \n",
       "0     Easterwood        Western              7.0  (39.30941619, -76.65109034)  \n",
       "1  Belair-Edison    Notheastern             13.0   (39.3229146, -76.56235554)  \n",
       "2     Easterwood        Western              7.0  (39.30941951, -76.65099026)  \n",
       "3     Easterwood        Western              7.0  (39.30942111, -76.65094166)  \n",
       "4     Easterwood        Western              7.0  (39.30942277, -76.65089166)  \n",
       "5  Belair-Edison    Notheastern             13.0  (39.31680208, -76.56505749)  \n",
       "6     Easterwood        Western              7.0  (39.30942756, -76.65074605)  \n",
       "7     Easterwood        Western              7.0  (39.30942925, -76.65069531)  \n",
       "8     Easterwood        Western              7.0  (39.30943089, -76.65064581)  \n",
       "9     Easterwood        Western              7.0  (39.30943253, -76.65059631)  "
      ]
     },
     "execution_count": 37,
     "metadata": {},
     "output_type": "execute_result"
    }
   ],
   "source": [
    "df_property.head(10)"
   ]
  },
  {
   "cell_type": "code",
   "execution_count": 38,
   "metadata": {},
   "outputs": [
    {
     "data": {
      "text/plain": [
       "PropertyID             0\n",
       "Block                  0\n",
       "Lot                    0\n",
       "Ward                   0\n",
       "Sect                   0\n",
       "PropertyAddress        5\n",
       "LotSize                0\n",
       "CityTax            18976\n",
       "StateTax           18778\n",
       "ResCode                0\n",
       "AmountDue          98686\n",
       "AsOfDate               0\n",
       "Neighborhood       16122\n",
       "PoliceDistrict     16122\n",
       "CouncilDistrict    16094\n",
       "Location           16082\n",
       "dtype: int64"
      ]
     },
     "execution_count": 38,
     "metadata": {},
     "output_type": "execute_result"
    }
   ],
   "source": [
    "df_property.isnull().sum(axis=0)"
   ]
  },
  {
   "cell_type": "code",
   "execution_count": 39,
   "metadata": {},
   "outputs": [
    {
     "data": {
      "text/plain": [
       "PropertyID          object\n",
       "Block               object\n",
       "Lot                 object\n",
       "Ward                 int64\n",
       "Sect                 int64\n",
       "PropertyAddress     object\n",
       "LotSize             object\n",
       "CityTax            float64\n",
       "StateTax           float64\n",
       "ResCode             object\n",
       "AmountDue          float64\n",
       "AsOfDate            object\n",
       "Neighborhood        object\n",
       "PoliceDistrict      object\n",
       "CouncilDistrict    float64\n",
       "Location            object\n",
       "dtype: object"
      ]
     },
     "execution_count": 39,
     "metadata": {},
     "output_type": "execute_result"
    }
   ],
   "source": [
    "df_property.dtypes"
   ]
  },
  {
   "cell_type": "code",
   "execution_count": 40,
   "metadata": {},
   "outputs": [
    {
     "data": {
      "text/html": [
       "<div>\n",
       "<style scoped>\n",
       "    .dataframe tbody tr th:only-of-type {\n",
       "        vertical-align: middle;\n",
       "    }\n",
       "\n",
       "    .dataframe tbody tr th {\n",
       "        vertical-align: top;\n",
       "    }\n",
       "\n",
       "    .dataframe thead th {\n",
       "        text-align: right;\n",
       "    }\n",
       "</style>\n",
       "<table border=\"1\" class=\"dataframe\">\n",
       "  <thead>\n",
       "    <tr style=\"text-align: right;\">\n",
       "      <th></th>\n",
       "      <th>Ward</th>\n",
       "      <th>Sect</th>\n",
       "      <th>CityTax</th>\n",
       "      <th>StateTax</th>\n",
       "      <th>AmountDue</th>\n",
       "      <th>CouncilDistrict</th>\n",
       "    </tr>\n",
       "  </thead>\n",
       "  <tbody>\n",
       "    <tr>\n",
       "      <th>count</th>\n",
       "      <td>238509.000000</td>\n",
       "      <td>238509.000000</td>\n",
       "      <td>2.195330e+05</td>\n",
       "      <td>219731.000000</td>\n",
       "      <td>1.398230e+05</td>\n",
       "      <td>222415.000000</td>\n",
       "    </tr>\n",
       "    <tr>\n",
       "      <th>mean</th>\n",
       "      <td>18.661505</td>\n",
       "      <td>145.082534</td>\n",
       "      <td>4.056272e+03</td>\n",
       "      <td>205.074626</td>\n",
       "      <td>3.336122e+03</td>\n",
       "      <td>7.594290</td>\n",
       "    </tr>\n",
       "    <tr>\n",
       "      <th>std</th>\n",
       "      <td>8.197253</td>\n",
       "      <td>133.920428</td>\n",
       "      <td>3.532905e+04</td>\n",
       "      <td>1817.644405</td>\n",
       "      <td>2.882668e+04</td>\n",
       "      <td>4.043136</td>\n",
       "    </tr>\n",
       "    <tr>\n",
       "      <th>min</th>\n",
       "      <td>1.000000</td>\n",
       "      <td>0.000000</td>\n",
       "      <td>2.250000e+00</td>\n",
       "      <td>0.110000</td>\n",
       "      <td>1.000000e-02</td>\n",
       "      <td>1.000000</td>\n",
       "    </tr>\n",
       "    <tr>\n",
       "      <th>25%</th>\n",
       "      <td>12.000000</td>\n",
       "      <td>50.000000</td>\n",
       "      <td>8.092800e+02</td>\n",
       "      <td>40.320000</td>\n",
       "      <td>6.894200e+02</td>\n",
       "      <td>4.000000</td>\n",
       "    </tr>\n",
       "    <tr>\n",
       "      <th>50%</th>\n",
       "      <td>20.000000</td>\n",
       "      <td>110.000000</td>\n",
       "      <td>2.367140e+03</td>\n",
       "      <td>118.050000</td>\n",
       "      <td>1.539640e+03</td>\n",
       "      <td>8.000000</td>\n",
       "    </tr>\n",
       "    <tr>\n",
       "      <th>75%</th>\n",
       "      <td>27.000000</td>\n",
       "      <td>200.000000</td>\n",
       "      <td>3.635020e+03</td>\n",
       "      <td>181.100000</td>\n",
       "      <td>2.846385e+03</td>\n",
       "      <td>11.000000</td>\n",
       "    </tr>\n",
       "    <tr>\n",
       "      <th>max</th>\n",
       "      <td>50.000000</td>\n",
       "      <td>690.000000</td>\n",
       "      <td>6.276443e+06</td>\n",
       "      <td>312705.340000</td>\n",
       "      <td>3.983104e+06</td>\n",
       "      <td>14.000000</td>\n",
       "    </tr>\n",
       "  </tbody>\n",
       "</table>\n",
       "</div>"
      ],
      "text/plain": [
       "                Ward           Sect       CityTax       StateTax  \\\n",
       "count  238509.000000  238509.000000  2.195330e+05  219731.000000   \n",
       "mean       18.661505     145.082534  4.056272e+03     205.074626   \n",
       "std         8.197253     133.920428  3.532905e+04    1817.644405   \n",
       "min         1.000000       0.000000  2.250000e+00       0.110000   \n",
       "25%        12.000000      50.000000  8.092800e+02      40.320000   \n",
       "50%        20.000000     110.000000  2.367140e+03     118.050000   \n",
       "75%        27.000000     200.000000  3.635020e+03     181.100000   \n",
       "max        50.000000     690.000000  6.276443e+06  312705.340000   \n",
       "\n",
       "          AmountDue  CouncilDistrict  \n",
       "count  1.398230e+05    222415.000000  \n",
       "mean   3.336122e+03         7.594290  \n",
       "std    2.882668e+04         4.043136  \n",
       "min    1.000000e-02         1.000000  \n",
       "25%    6.894200e+02         4.000000  \n",
       "50%    1.539640e+03         8.000000  \n",
       "75%    2.846385e+03        11.000000  \n",
       "max    3.983104e+06        14.000000  "
      ]
     },
     "execution_count": 40,
     "metadata": {},
     "output_type": "execute_result"
    }
   ],
   "source": [
    "df_property.describe()"
   ]
  },
  {
   "cell_type": "markdown",
   "metadata": {},
   "source": [
    "Since only thing that is important for us is PropertyAddress, check for null values in that column and try to join with address in vacant buildings dataset."
   ]
  },
  {
   "cell_type": "code",
   "execution_count": 41,
   "metadata": {},
   "outputs": [],
   "source": [
    "df_property[df_property['PropertyAddress'].isnull()]\n",
    "df_property['PoliceDistrict'] = df_property['PoliceDistrict'].fillna(0)"
   ]
  },
  {
   "cell_type": "code",
   "execution_count": 42,
   "metadata": {},
   "outputs": [],
   "source": [
    "df_property = df_property[df_property['PropertyAddress'].notnull()]"
   ]
  },
  {
   "cell_type": "code",
   "execution_count": 43,
   "metadata": {},
   "outputs": [
    {
     "name": "stdout",
     "output_type": "stream",
     "text": [
      "238504\n"
     ]
    }
   ],
   "source": [
    "print(len(df_property))"
   ]
  },
  {
   "cell_type": "code",
   "execution_count": 44,
   "metadata": {},
   "outputs": [],
   "source": [
    "df_join = df_property.join(df_vacant, lsuffix='property', rsuffix='vacant', how='inner')"
   ]
  },
  {
   "cell_type": "code",
   "execution_count": 45,
   "metadata": {},
   "outputs": [
    {
     "data": {
      "text/plain": [
       "238504"
      ]
     },
     "execution_count": 45,
     "metadata": {},
     "output_type": "execute_result"
    }
   ],
   "source": [
    "len(df_property)"
   ]
  },
  {
   "cell_type": "code",
   "execution_count": 46,
   "metadata": {},
   "outputs": [
    {
     "data": {
      "text/plain": [
       "16691"
      ]
     },
     "execution_count": 46,
     "metadata": {},
     "output_type": "execute_result"
    }
   ],
   "source": [
    "len(df_vacant)"
   ]
  },
  {
   "cell_type": "code",
   "execution_count": 47,
   "metadata": {},
   "outputs": [
    {
     "data": {
      "text/plain": [
       "16691"
      ]
     },
     "execution_count": 47,
     "metadata": {},
     "output_type": "execute_result"
    }
   ],
   "source": [
    "len(df_join)"
   ]
  },
  {
   "cell_type": "code",
   "execution_count": 48,
   "metadata": {},
   "outputs": [
    {
     "data": {
      "text/plain": [
       "[16121, 8938, 19539, 30503, 23621, 42261, 27163, 25251, 25706, 19401]"
      ]
     },
     "execution_count": 48,
     "metadata": {},
     "output_type": "execute_result"
    }
   ],
   "source": [
    "list(df_property.groupby(['PoliceDistrict']).count()['Ward'])"
   ]
  },
  {
   "cell_type": "code",
   "execution_count": 49,
   "metadata": {},
   "outputs": [
    {
     "data": {
      "text/plain": [
       "PoliceDistrict\n",
       "0               16121\n",
       "Central          8938\n",
       "Eastern         19539\n",
       "Northern        30503\n",
       "Northwestern    23621\n",
       "Notheastern     42261\n",
       "Southeastern    27163\n",
       "Southern        25251\n",
       "Southwestern    25706\n",
       "Western         19401\n",
       "Name: Ward, dtype: int64"
      ]
     },
     "execution_count": 49,
     "metadata": {},
     "output_type": "execute_result"
    }
   ],
   "source": [
    "df_property.groupby(['PoliceDistrict']).count()['Ward']"
   ]
  },
  {
   "cell_type": "markdown",
   "metadata": {},
   "source": [
    "Again results are surprising. Number of buildings in Western district is low side(least but one). This means not only there few buildings in western district of baltimore, but most of them are vacant. Previously, we assumed that western district has many buildings is a wrong assumption. So that means there is a less crime rate in vacant neighboorhood."
   ]
  },
  {
   "cell_type": "markdown",
   "metadata": {},
   "source": [
    "#### If buidlings are vacant - No crimes! Voila"
   ]
  },
  {
   "cell_type": "code",
   "execution_count": 50,
   "metadata": {},
   "outputs": [
    {
     "data": {
      "text/plain": [
       "PoliceDistrict\n",
       "central          848\n",
       "eastern         3659\n",
       "northeastern       9\n",
       "northern         718\n",
       "northwestern    1613\n",
       "notheastern      945\n",
       "southeastern     656\n",
       "southern        1665\n",
       "southwestern    2263\n",
       "western         4315\n",
       "Name: Lot, dtype: int64"
      ]
     },
     "execution_count": 50,
     "metadata": {},
     "output_type": "execute_result"
    }
   ],
   "source": [
    "df_vacant.groupby(['PoliceDistrict']).count()['Lot']"
   ]
  },
  {
   "cell_type": "code",
   "execution_count": 51,
   "metadata": {},
   "outputs": [],
   "source": [
    "policeDistrict_property = dict(df_property.groupby(['PoliceDistrict']).count()['Ward'])"
   ]
  },
  {
   "cell_type": "code",
   "execution_count": 52,
   "metadata": {},
   "outputs": [],
   "source": [
    "policeDistrict_vacant = dict(df_vacant.groupby(['PoliceDistrict']).count()['Lot'])"
   ]
  },
  {
   "cell_type": "code",
   "execution_count": 53,
   "metadata": {},
   "outputs": [],
   "source": [
    "policeDistrict_vacant['northeastern'] = 954"
   ]
  },
  {
   "cell_type": "markdown",
   "metadata": {},
   "source": [
    "This loop is used to calculate relative vacancies in each police district."
   ]
  },
  {
   "cell_type": "code",
   "execution_count": 54,
   "metadata": {},
   "outputs": [],
   "source": [
    "relative_vacancy = {}\n",
    "for key in policeDistrict_property:\n",
    "    if key != 0:\n",
    "        relative_vacancy[key] = (policeDistrict_vacant[key.lower()] / policeDistrict_property[key]) * 100"
   ]
  },
  {
   "cell_type": "code",
   "execution_count": 55,
   "metadata": {},
   "outputs": [
    {
     "name": "stdout",
     "output_type": "stream",
     "text": [
      "{'Central': 9.487581114343254, 'Eastern': 18.72664926557142, 'Northern': 2.353866832770547, 'Northwestern': 6.828669404343593, 'Notheastern': 2.2361042095549086, 'Southeastern': 2.4150498840334276, 'Southern': 6.593798265415231, 'Southwestern': 8.803392204154672, 'Western': 22.24112159167053}\n"
     ]
    }
   ],
   "source": [
    "print(relative_vacancy)"
   ]
  },
  {
   "cell_type": "markdown",
   "metadata": {},
   "source": [
    "Western leads by large margin followed by Eastern just like in first bar graph. At this point big picture is starting to get clear. Western district has least number of crimes because there are not many non vacant buildings and more vacant buildings which means less population and less crimes."
   ]
  },
  {
   "cell_type": "markdown",
   "metadata": {},
   "source": [
    "Let's try to find if there is any relation between 311 requests and vacant buildings."
   ]
  },
  {
   "cell_type": "markdown",
   "metadata": {},
   "source": [
    "#### Customer Service Requests"
   ]
  },
  {
   "cell_type": "code",
   "execution_count": 56,
   "metadata": {},
   "outputs": [
    {
     "name": "stderr",
     "output_type": "stream",
     "text": [
      "C:\\ProgramData\\Anaconda3\\lib\\site-packages\\IPython\\core\\interactiveshell.py:2785: DtypeWarning: Columns (0,10,11,12,14,18) have mixed types. Specify dtype option on import or set low_memory=False.\n",
      "  interactivity=interactivity, compiler=compiler, result=result)\n"
     ]
    }
   ],
   "source": [
    "df_request = pd.read_csv(\"311_Customer_Service_Requests.csv\")"
   ]
  },
  {
   "cell_type": "code",
   "execution_count": 57,
   "metadata": {},
   "outputs": [
    {
     "data": {
      "text/html": [
       "<div>\n",
       "<style scoped>\n",
       "    .dataframe tbody tr th:only-of-type {\n",
       "        vertical-align: middle;\n",
       "    }\n",
       "\n",
       "    .dataframe tbody tr th {\n",
       "        vertical-align: top;\n",
       "    }\n",
       "\n",
       "    .dataframe thead th {\n",
       "        text-align: right;\n",
       "    }\n",
       "</style>\n",
       "<table border=\"1\" class=\"dataframe\">\n",
       "  <thead>\n",
       "    <tr style=\"text-align: right;\">\n",
       "      <th></th>\n",
       "      <th>SRRecordID</th>\n",
       "      <th>ServiceRequestNum</th>\n",
       "      <th>SRType</th>\n",
       "      <th>MethodReceived</th>\n",
       "      <th>CreatedDate</th>\n",
       "      <th>SRStatus</th>\n",
       "      <th>StatusDate</th>\n",
       "      <th>DueDate</th>\n",
       "      <th>CloseDate</th>\n",
       "      <th>Agency</th>\n",
       "      <th>...</th>\n",
       "      <th>Outcome</th>\n",
       "      <th>Address</th>\n",
       "      <th>ZipCode</th>\n",
       "      <th>Neighborhood</th>\n",
       "      <th>CouncilDistrict</th>\n",
       "      <th>PoliceDistrict</th>\n",
       "      <th>PolicePost</th>\n",
       "      <th>Latitude</th>\n",
       "      <th>Longitude</th>\n",
       "      <th>GeoLocation</th>\n",
       "    </tr>\n",
       "  </thead>\n",
       "  <tbody>\n",
       "    <tr>\n",
       "      <th>0</th>\n",
       "      <td>1065701056</td>\n",
       "      <td>14-00000008</td>\n",
       "      <td>TRS-Parking Complaint</td>\n",
       "      <td>API</td>\n",
       "      <td>01/01/2014 12:28:25 AM</td>\n",
       "      <td>Closed</td>\n",
       "      <td>01/01/2014 01:24:55 AM</td>\n",
       "      <td>01/02/2014 12:28:25 AM</td>\n",
       "      <td>01/01/2014 01:24:55 AM</td>\n",
       "      <td>Transportation</td>\n",
       "      <td>...</td>\n",
       "      <td>After parking control hours - contact the police.</td>\n",
       "      <td>16 W CROSS ST, BALTIMORE CITY, MD, 21230</td>\n",
       "      <td>21230</td>\n",
       "      <td>Federal Hill</td>\n",
       "      <td>11.0</td>\n",
       "      <td>SOUTHERN</td>\n",
       "      <td>942</td>\n",
       "      <td>39.276713</td>\n",
       "      <td>-76.615362</td>\n",
       "      <td>(39.2767132435659, -76.6153615433316)</td>\n",
       "    </tr>\n",
       "    <tr>\n",
       "      <th>1</th>\n",
       "      <td>1065701081</td>\n",
       "      <td>14-00000009</td>\n",
       "      <td>TRS-Parking Complaint</td>\n",
       "      <td>API</td>\n",
       "      <td>01/01/2014 12:28:31 AM</td>\n",
       "      <td>Closed</td>\n",
       "      <td>01/01/2014 01:25:33 AM</td>\n",
       "      <td>01/02/2014 12:28:31 AM</td>\n",
       "      <td>01/01/2014 01:25:33 AM</td>\n",
       "      <td>Transportation</td>\n",
       "      <td>...</td>\n",
       "      <td>After parking control hours - contact the police.</td>\n",
       "      <td>11 W CROSS ST, BALTIMORE CITY, MD, 21230</td>\n",
       "      <td>21230</td>\n",
       "      <td>Federal Hill</td>\n",
       "      <td>11.0</td>\n",
       "      <td>SOUTHERN</td>\n",
       "      <td>942</td>\n",
       "      <td>39.276759</td>\n",
       "      <td>-76.614955</td>\n",
       "      <td>(39.2767585857716, -76.6149550612581)</td>\n",
       "    </tr>\n",
       "  </tbody>\n",
       "</table>\n",
       "<p>2 rows × 22 columns</p>\n",
       "</div>"
      ],
      "text/plain": [
       "   SRRecordID ServiceRequestNum                 SRType MethodReceived  \\\n",
       "0  1065701056       14-00000008  TRS-Parking Complaint            API   \n",
       "1  1065701081       14-00000009  TRS-Parking Complaint            API   \n",
       "\n",
       "              CreatedDate SRStatus              StatusDate  \\\n",
       "0  01/01/2014 12:28:25 AM   Closed  01/01/2014 01:24:55 AM   \n",
       "1  01/01/2014 12:28:31 AM   Closed  01/01/2014 01:25:33 AM   \n",
       "\n",
       "                  DueDate               CloseDate          Agency  \\\n",
       "0  01/02/2014 12:28:25 AM  01/01/2014 01:24:55 AM  Transportation   \n",
       "1  01/02/2014 12:28:31 AM  01/01/2014 01:25:33 AM  Transportation   \n",
       "\n",
       "                   ...                    \\\n",
       "0                  ...                     \n",
       "1                  ...                     \n",
       "\n",
       "                                             Outcome  \\\n",
       "0  After parking control hours - contact the police.   \n",
       "1  After parking control hours - contact the police.   \n",
       "\n",
       "                                    Address ZipCode  Neighborhood  \\\n",
       "0  16 W CROSS ST, BALTIMORE CITY, MD, 21230   21230  Federal Hill   \n",
       "1  11 W CROSS ST, BALTIMORE CITY, MD, 21230   21230  Federal Hill   \n",
       "\n",
       "  CouncilDistrict PoliceDistrict  PolicePost   Latitude  Longitude  \\\n",
       "0            11.0       SOUTHERN         942  39.276713 -76.615362   \n",
       "1            11.0       SOUTHERN         942  39.276759 -76.614955   \n",
       "\n",
       "                             GeoLocation  \n",
       "0  (39.2767132435659, -76.6153615433316)  \n",
       "1  (39.2767585857716, -76.6149550612581)  \n",
       "\n",
       "[2 rows x 22 columns]"
      ]
     },
     "execution_count": 57,
     "metadata": {},
     "output_type": "execute_result"
    }
   ],
   "source": [
    "df_request.head(2)"
   ]
  },
  {
   "cell_type": "code",
   "execution_count": 58,
   "metadata": {},
   "outputs": [
    {
     "data": {
      "text/plain": [
       "array(['SOUTHERN', 'NORTHERN', 'EASTERN', 'NORTHWESTERN', 'SOUTHEASTERN',\n",
       "       nan, 'CENTRAL', 'NORTHEASTERN', 'WESTERN', 'SOUTHWESTERN', 'EAST',\n",
       "       'WEST', 'Northeastern', 'Southeastern', 'Central', 'Northern',\n",
       "       'Southern', 'Northwestern', 'Southwestern', 'Western', 'Eastern'],\n",
       "      dtype=object)"
      ]
     },
     "execution_count": 58,
     "metadata": {},
     "output_type": "execute_result"
    }
   ],
   "source": [
    "df_request[\"PoliceDistrict\"].unique()"
   ]
  },
  {
   "cell_type": "code",
   "execution_count": 59,
   "metadata": {},
   "outputs": [],
   "source": [
    "df_request_null = df_request.dropna()"
   ]
  },
  {
   "cell_type": "markdown",
   "metadata": {},
   "source": [
    "In the dataset even if we drop all null valued rows, we still are left with 2.5 million rows."
   ]
  },
  {
   "cell_type": "code",
   "execution_count": 60,
   "metadata": {},
   "outputs": [
    {
     "data": {
      "text/plain": [
       "747339"
      ]
     },
     "execution_count": 60,
     "metadata": {},
     "output_type": "execute_result"
    }
   ],
   "source": [
    "len(df_request) - len(df_request_null)"
   ]
  },
  {
   "cell_type": "code",
   "execution_count": 61,
   "metadata": {},
   "outputs": [
    {
     "data": {
      "text/plain": [
       "SRRecordID                0\n",
       "ServiceRequestNum         0\n",
       "SRType                   11\n",
       "MethodReceived            0\n",
       "CreatedDate               0\n",
       "SRStatus                  0\n",
       "StatusDate                0\n",
       "DueDate               86979\n",
       "CloseDate             78120\n",
       "Agency                    1\n",
       "LastActivity         466795\n",
       "LastActivityDate     473202\n",
       "Outcome              466795\n",
       "Address               84447\n",
       "ZipCode              171552\n",
       "Neighborhood         248836\n",
       "CouncilDistrict      277245\n",
       "PoliceDistrict       248648\n",
       "PolicePost           282081\n",
       "Latitude             182386\n",
       "Longitude            182386\n",
       "GeoLocation          182386\n",
       "dtype: int64"
      ]
     },
     "execution_count": 61,
     "metadata": {},
     "output_type": "execute_result"
    }
   ],
   "source": [
    "df_request.isnull().sum(axis=0)"
   ]
  },
  {
   "cell_type": "code",
   "execution_count": 62,
   "metadata": {},
   "outputs": [
    {
     "data": {
      "text/plain": [
       "SRRecordID           0\n",
       "ServiceRequestNum    0\n",
       "SRType               0\n",
       "MethodReceived       0\n",
       "CreatedDate          0\n",
       "SRStatus             0\n",
       "StatusDate           0\n",
       "DueDate              0\n",
       "CloseDate            0\n",
       "Agency               0\n",
       "LastActivity         0\n",
       "LastActivityDate     0\n",
       "Outcome              0\n",
       "Address              0\n",
       "ZipCode              0\n",
       "Neighborhood         0\n",
       "CouncilDistrict      0\n",
       "PoliceDistrict       0\n",
       "PolicePost           0\n",
       "Latitude             0\n",
       "Longitude            0\n",
       "GeoLocation          0\n",
       "dtype: int64"
      ]
     },
     "execution_count": 62,
     "metadata": {},
     "output_type": "execute_result"
    }
   ],
   "source": [
    "df_request_null.isnull().sum(axis=0)"
   ]
  },
  {
   "cell_type": "markdown",
   "metadata": {},
   "source": [
    "Dataset cleaned and we can use this for analysis."
   ]
  },
  {
   "cell_type": "code",
   "execution_count": 110,
   "metadata": {},
   "outputs": [],
   "source": [
    "df_request = df_request_null"
   ]
  },
  {
   "cell_type": "code",
   "execution_count": 64,
   "metadata": {},
   "outputs": [
    {
     "data": {
      "text/plain": [
       "0"
      ]
     },
     "execution_count": 64,
     "metadata": {},
     "output_type": "execute_result"
    }
   ],
   "source": [
    "len(df_request) - len(df_request_null)"
   ]
  },
  {
   "cell_type": "code",
   "execution_count": 65,
   "metadata": {},
   "outputs": [
    {
     "data": {
      "text/plain": [
       "<matplotlib.axes._subplots.AxesSubplot at 0x17ff23f5be0>"
      ]
     },
     "execution_count": 65,
     "metadata": {},
     "output_type": "execute_result"
    },
    {
     "data": {
      "image/png": "[encoded data removed]",
      "text/plain": [
       "<Figure size 432x288 with 1 Axes>"
      ]
     },
     "metadata": {},
     "output_type": "display_data"
    }
   ],
   "source": [
    "df_request.groupby(['PoliceDistrict']).count()['SRType'].plot(kind='bar', title = 'servicerequests grouped by policedistrict')"
   ]
  },
  {
   "cell_type": "markdown",
   "metadata": {},
   "source": [
    "The service requests in each police district is counted and plot for police district vs its count is created.<br>\n",
    "From the above plot we can see following insights.<br>\n",
    "1. Central and Western districts havel least number of service requests.<br>\n",
    "2. Northeastern has highest number of service requests.<br>\n",
    "\n",
    "The previously seen crime incidents also follow the same pattern."
   ]
  },
  {
   "cell_type": "code",
   "execution_count": 66,
   "metadata": {},
   "outputs": [],
   "source": [
    "service_request_list = list(df_request.groupby(['PoliceDistrict']).count()['SRType'])\n",
    "service_request_list_council = list(df_request.groupby(['CouncilDistrict']).count()['SRType'])"
   ]
  },
  {
   "cell_type": "code",
   "execution_count": 67,
   "metadata": {},
   "outputs": [],
   "source": [
    "vacant_list = list(df_vacant.groupby(['PoliceDistrict']).count()['Lot'])\n",
    "vacant_list_council = list(df_vacant.groupby(['CouncilDistrict']).count()['Lot'])"
   ]
  },
  {
   "cell_type": "code",
   "execution_count": 68,
   "metadata": {},
   "outputs": [],
   "source": [
    "crime_list = list(df_crime[df_crime['District'] != 0].groupby(['District']).count()['Location'])\n",
    "# crime_list_council = list(df_crime[df_crime['District'] != 0].groupby(['District']).count()['Location'])"
   ]
  },
  {
   "cell_type": "code",
   "execution_count": 70,
   "metadata": {},
   "outputs": [
    {
     "name": "stdout",
     "output_type": "stream",
     "text": [
      "[9.487581114343254, 18.72664926557142, 2.353866832770547, 6.828669404343593, 2.2361042095549086, 2.4150498840334276, 6.593798265415231, 8.803392204154672, 22.24112159167053]\n"
     ]
    }
   ],
   "source": [
    "relative_vacancy_list = list(relative_vacancy.values())\n",
    "print(relative_vacancy_list)"
   ]
  },
  {
   "cell_type": "code",
   "execution_count": 71,
   "metadata": {},
   "outputs": [
    {
     "ename": "ValueError",
     "evalue": "x and y must be the same size",
     "output_type": "error",
     "traceback": [
      "\u001b[1;31m---------------------------------------------------------------------------\u001b[0m",
      "\u001b[1;31mValueError\u001b[0m                                Traceback (most recent call last)",
      "\u001b[1;32m<ipython-input-71-bdaa22a15c97>\u001b[0m in \u001b[0;36m<module>\u001b[1;34m()\u001b[0m\n\u001b[1;32m----> 1\u001b[1;33m \u001b[0mplt\u001b[0m\u001b[1;33m.\u001b[0m\u001b[0mscatter\u001b[0m\u001b[1;33m(\u001b[0m\u001b[0mservice_request_list\u001b[0m\u001b[1;33m,\u001b[0m \u001b[0mvacant_list\u001b[0m\u001b[1;33m)\u001b[0m\u001b[1;33m\u001b[0m\u001b[0m\n\u001b[0m\u001b[0;32m      2\u001b[0m \u001b[1;33m\u001b[0m\u001b[0m\n\u001b[0;32m      3\u001b[0m \u001b[0mplt\u001b[0m\u001b[1;33m.\u001b[0m\u001b[0mtitle\u001b[0m\u001b[1;33m(\u001b[0m\u001b[1;34m'Relationship Between Temperature and Iced Coffee Sales'\u001b[0m\u001b[1;33m)\u001b[0m\u001b[1;33m\u001b[0m\u001b[0m\n\u001b[0;32m      4\u001b[0m \u001b[1;33m\u001b[0m\u001b[0m\n\u001b[0;32m      5\u001b[0m \u001b[0mplt\u001b[0m\u001b[1;33m.\u001b[0m\u001b[0mshow\u001b[0m\u001b[1;33m(\u001b[0m\u001b[1;33m)\u001b[0m\u001b[1;33m\u001b[0m\u001b[0m\n",
      "\u001b[1;32mC:\\ProgramData\\Anaconda3\\lib\\site-packages\\matplotlib\\pyplot.py\u001b[0m in \u001b[0;36mscatter\u001b[1;34m(x, y, s, c, marker, cmap, norm, vmin, vmax, alpha, linewidths, verts, edgecolors, hold, data, **kwargs)\u001b[0m\n\u001b[0;32m   3468\u001b[0m                          \u001b[0mvmin\u001b[0m\u001b[1;33m=\u001b[0m\u001b[0mvmin\u001b[0m\u001b[1;33m,\u001b[0m \u001b[0mvmax\u001b[0m\u001b[1;33m=\u001b[0m\u001b[0mvmax\u001b[0m\u001b[1;33m,\u001b[0m \u001b[0malpha\u001b[0m\u001b[1;33m=\u001b[0m\u001b[0malpha\u001b[0m\u001b[1;33m,\u001b[0m\u001b[1;33m\u001b[0m\u001b[0m\n\u001b[0;32m   3469\u001b[0m                          \u001b[0mlinewidths\u001b[0m\u001b[1;33m=\u001b[0m\u001b[0mlinewidths\u001b[0m\u001b[1;33m,\u001b[0m \u001b[0mverts\u001b[0m\u001b[1;33m=\u001b[0m\u001b[0mverts\u001b[0m\u001b[1;33m,\u001b[0m\u001b[1;33m\u001b[0m\u001b[0m\n\u001b[1;32m-> 3470\u001b[1;33m                          edgecolors=edgecolors, data=data, **kwargs)\n\u001b[0m\u001b[0;32m   3471\u001b[0m     \u001b[1;32mfinally\u001b[0m\u001b[1;33m:\u001b[0m\u001b[1;33m\u001b[0m\u001b[0m\n\u001b[0;32m   3472\u001b[0m         \u001b[0max\u001b[0m\u001b[1;33m.\u001b[0m\u001b[0m_hold\u001b[0m \u001b[1;33m=\u001b[0m \u001b[0mwashold\u001b[0m\u001b[1;33m\u001b[0m\u001b[0m\n",
      "\u001b[1;32mC:\\ProgramData\\Anaconda3\\lib\\site-packages\\matplotlib\\__init__.py\u001b[0m in \u001b[0;36minner\u001b[1;34m(ax, *args, **kwargs)\u001b[0m\n\u001b[0;32m   1853\u001b[0m                         \u001b[1;34m\"the Matplotlib list!)\"\u001b[0m \u001b[1;33m%\u001b[0m \u001b[1;33m(\u001b[0m\u001b[0mlabel_namer\u001b[0m\u001b[1;33m,\u001b[0m \u001b[0mfunc\u001b[0m\u001b[1;33m.\u001b[0m\u001b[0m__name__\u001b[0m\u001b[1;33m)\u001b[0m\u001b[1;33m,\u001b[0m\u001b[1;33m\u001b[0m\u001b[0m\n\u001b[0;32m   1854\u001b[0m                         RuntimeWarning, stacklevel=2)\n\u001b[1;32m-> 1855\u001b[1;33m             \u001b[1;32mreturn\u001b[0m \u001b[0mfunc\u001b[0m\u001b[1;33m(\u001b[0m\u001b[0max\u001b[0m\u001b[1;33m,\u001b[0m \u001b[1;33m*\u001b[0m\u001b[0margs\u001b[0m\u001b[1;33m,\u001b[0m \u001b[1;33m**\u001b[0m\u001b[0mkwargs\u001b[0m\u001b[1;33m)\u001b[0m\u001b[1;33m\u001b[0m\u001b[0m\n\u001b[0m\u001b[0;32m   1856\u001b[0m \u001b[1;33m\u001b[0m\u001b[0m\n\u001b[0;32m   1857\u001b[0m         inner.__doc__ = _add_data_doc(inner.__doc__,\n",
      "\u001b[1;32mC:\\ProgramData\\Anaconda3\\lib\\site-packages\\matplotlib\\axes\\_axes.py\u001b[0m in \u001b[0;36mscatter\u001b[1;34m(self, x, y, s, c, marker, cmap, norm, vmin, vmax, alpha, linewidths, verts, edgecolors, **kwargs)\u001b[0m\n\u001b[0;32m   4241\u001b[0m         \u001b[0my\u001b[0m \u001b[1;33m=\u001b[0m \u001b[0mnp\u001b[0m\u001b[1;33m.\u001b[0m\u001b[0mma\u001b[0m\u001b[1;33m.\u001b[0m\u001b[0mravel\u001b[0m\u001b[1;33m(\u001b[0m\u001b[0my\u001b[0m\u001b[1;33m)\u001b[0m\u001b[1;33m\u001b[0m\u001b[0m\n\u001b[0;32m   4242\u001b[0m         \u001b[1;32mif\u001b[0m \u001b[0mx\u001b[0m\u001b[1;33m.\u001b[0m\u001b[0msize\u001b[0m \u001b[1;33m!=\u001b[0m \u001b[0my\u001b[0m\u001b[1;33m.\u001b[0m\u001b[0msize\u001b[0m\u001b[1;33m:\u001b[0m\u001b[1;33m\u001b[0m\u001b[0m\n\u001b[1;32m-> 4243\u001b[1;33m             \u001b[1;32mraise\u001b[0m \u001b[0mValueError\u001b[0m\u001b[1;33m(\u001b[0m\u001b[1;34m\"x and y must be the same size\"\u001b[0m\u001b[1;33m)\u001b[0m\u001b[1;33m\u001b[0m\u001b[0m\n\u001b[0m\u001b[0;32m   4244\u001b[0m \u001b[1;33m\u001b[0m\u001b[0m\n\u001b[0;32m   4245\u001b[0m         \u001b[1;32mif\u001b[0m \u001b[0ms\u001b[0m \u001b[1;32mis\u001b[0m \u001b[1;32mNone\u001b[0m\u001b[1;33m:\u001b[0m\u001b[1;33m\u001b[0m\u001b[0m\n",
      "\u001b[1;31mValueError\u001b[0m: x and y must be the same size"
     ]
    },
    {
     "data": {
      "image/png": "[encoded data removed]",
      "text/plain": [
       "<Figure size 432x288 with 1 Axes>"
      ]
     },
     "metadata": {},
     "output_type": "display_data"
    }
   ],
   "source": [
    "plt.scatter(service_request_list, vacant_list)\n",
    "\n",
    "plt.title('Relationship between service request and vacant list')\n",
    "\n",
    "plt.show()"
   ]
  },
  {
   "cell_type": "markdown",
   "metadata": {},
   "source": [
    "After digging into this <b> error </b>, we found that one of the column had typo which resulted in duplicate column. Due to that vacant\n",
    "buildings has one extra value. The following code will fix this problem."
   ]
  },
  {
   "cell_type": "code",
   "execution_count": 72,
   "metadata": {},
   "outputs": [
    {
     "name": "stdout",
     "output_type": "stream",
     "text": [
      "9 10\n"
     ]
    }
   ],
   "source": [
    "print(len(service_request_list), len(vacant_list))"
   ]
  },
  {
   "cell_type": "code",
   "execution_count": 73,
   "metadata": {},
   "outputs": [
    {
     "name": "stdout",
     "output_type": "stream",
     "text": [
      "[848, 3659, 9, 718, 1613, 945, 656, 1665, 2263, 4315]\n"
     ]
    }
   ],
   "source": [
    "print(vacant_list)"
   ]
  },
  {
   "cell_type": "code",
   "execution_count": 74,
   "metadata": {},
   "outputs": [],
   "source": [
    "vacant_list[2] = vacant_list[2] + vacant_list[5]"
   ]
  },
  {
   "cell_type": "code",
   "execution_count": 75,
   "metadata": {},
   "outputs": [
    {
     "data": {
      "text/plain": [
       "945"
      ]
     },
     "execution_count": 75,
     "metadata": {},
     "output_type": "execute_result"
    }
   ],
   "source": [
    "vacant_list.pop(5)"
   ]
  },
  {
   "cell_type": "code",
   "execution_count": 76,
   "metadata": {},
   "outputs": [],
   "source": [
    "def sortMethod(l1, l2):\n",
    "    return_list = []\n",
    "    for i in range(len(l1)):\n",
    "        return_list.append([l1[i], l2[i]])\n",
    "    return_list = sorted(return_list)\n",
    "    listy = [[], []]\n",
    "    for i in range(len(return_list)):\n",
    "        listy[0].append(return_list[i][0])\n",
    "        listy[1].append(return_list[i][1])\n",
    "    return listy"
   ]
  },
  {
   "cell_type": "code",
   "execution_count": 77,
   "metadata": {},
   "outputs": [
    {
     "data": {
      "image/png": "[encoded data removed]",
      "text/plain": [
       "<Figure size 432x288 with 1 Axes>"
      ]
     },
     "metadata": {},
     "output_type": "display_data"
    }
   ],
   "source": [
    "#Now plotting to see if there is any relationship between vacancy and service requests\n",
    "\n",
    "plot_list = sortMethod(vacant_list, service_request_list)\n",
    "plt.plot(plot_list[0], plot_list[1])\n",
    "# plt.scatter(plot_list[0], plot_list[1])\n",
    "plt.title('Relationship Between vacant builings and service requests')\n",
    "\n",
    "plt.show()"
   ]
  },
  {
   "cell_type": "markdown",
   "metadata": {},
   "source": [
    "Even though there are few outliers for lower values of vacant builings, the graph in overall is decreasing. This means that with increase in vacant buildings there are less service requests."
   ]
  },
  {
   "cell_type": "code",
   "execution_count": 111,
   "metadata": {},
   "outputs": [
    {
     "data": {
      "image/png": "[encoded data removed]",
      "text/plain": [
       "<Figure size 432x288 with 1 Axes>"
      ]
     },
     "metadata": {},
     "output_type": "display_data"
    }
   ],
   "source": [
    "#Plot to see relation between vacancy and crime count\n",
    "plot_list = sortMethod(vacant_list, crime_list)\n",
    "plt.plot(plot_list[0], plot_list[1])\n",
    "# plt.scatter(plot_list[0], plot_list[1])\n",
    "\n",
    "plt.title('Relationship Between vacant builings and crime count')\n",
    "\n",
    "plt.show()"
   ]
  },
  {
   "cell_type": "markdown",
   "metadata": {},
   "source": [
    "From the above plot we can infer these things <br>\n",
    "1) Increase in vacancy buildings cause less crime rate in that neighborhood"
   ]
  },
  {
   "cell_type": "code",
   "execution_count": 79,
   "metadata": {},
   "outputs": [
    {
     "data": {
      "image/png": "[encoded data removed]",
      "text/plain": [
       "<Figure size 432x288 with 1 Axes>"
      ]
     },
     "metadata": {},
     "output_type": "display_data"
    }
   ],
   "source": [
    "#Plot to check if relation holds for relative vacancy and crime count\n",
    "plot_list = sortMethod(relative_vacancy_list, crime_list)\n",
    "plt.plot(plot_list[0], plot_list[1])\n",
    "# plt.scatter(plot_list[0], plot_list[1])\n",
    "\n",
    "plt.title('Relationship Between relative vacant builings and crime count')\n",
    "plt.show()"
   ]
  },
  {
   "cell_type": "code",
   "execution_count": 80,
   "metadata": {},
   "outputs": [
    {
     "data": {
      "image/png": "[encoded data removed]",
      "text/plain": [
       "<Figure size 432x288 with 1 Axes>"
      ]
     },
     "metadata": {},
     "output_type": "display_data"
    }
   ],
   "source": [
    "#Plot to check if relation holds for relative vacancy and service requests\n",
    "plot_list = sortMethod(relative_vacancy_list, service_request_list)\n",
    "plt.plot(plot_list[0], plot_list[1])\n",
    "# plt.scatter(plot_list[0], plot_list[1])\n",
    "\n",
    "plt.title('Relationship Between realative vacant builings and service requests')\n",
    "plt.show()"
   ]
  },
  {
   "cell_type": "markdown",
   "metadata": {},
   "source": [
    "The above plots will strengthen our assumptions because the relative buildings list also follows the same pattern as the vacant buildings list."
   ]
  },
  {
   "cell_type": "markdown",
   "metadata": {},
   "source": [
    "## Building Knn and RandomForestClassifier Models"
   ]
  },
  {
   "cell_type": "code",
   "execution_count": 81,
   "metadata": {},
   "outputs": [],
   "source": [
    "df_vacant = df_vacant.drop(['Block','Lot','Neighborhood','PoliceDistrict','CouncilDistrict','Location'], axis=1)\n",
    "df_vacant.isnull().sum(axis=0)\n",
    "df_vacant['Status']=0"
   ]
  },
  {
   "cell_type": "markdown",
   "metadata": {},
   "source": [
    "The vacant buildings are marked with a status of 0 and non vacant buildings are marked with a status of 1 which are used as labels for the model."
   ]
  },
  {
   "cell_type": "code",
   "execution_count": 82,
   "metadata": {},
   "outputs": [],
   "source": [
    "df_property = df_property.rename(columns = {\"PropertyAddress\": \"BuildingAddress\"}) "
   ]
  },
  {
   "cell_type": "code",
   "execution_count": 83,
   "metadata": {},
   "outputs": [],
   "source": [
    "df_res = pd.merge(df_vacant, df_property, on='BuildingAddress', how='outer')"
   ]
  },
  {
   "cell_type": "markdown",
   "metadata": {},
   "source": [
    "Merging the vacant building and property taxes dataset by using Building address as the key for join operation."
   ]
  },
  {
   "cell_type": "code",
   "execution_count": 84,
   "metadata": {},
   "outputs": [
    {
     "data": {
      "text/plain": [
       "ReferenceID        222212\n",
       "BuildingAddress         0\n",
       "NoticeDate         222212\n",
       "Status             222212\n",
       "PropertyID            379\n",
       "Block                 379\n",
       "Lot                   379\n",
       "Ward                  379\n",
       "Sect                  379\n",
       "LotSize               379\n",
       "CityTax             19352\n",
       "StateTax            19154\n",
       "ResCode               379\n",
       "AmountDue           99070\n",
       "AsOfDate              379\n",
       "Neighborhood        16500\n",
       "PoliceDistrict        379\n",
       "CouncilDistrict     16472\n",
       "Location            16460\n",
       "dtype: int64"
      ]
     },
     "execution_count": 84,
     "metadata": {},
     "output_type": "execute_result"
    }
   ],
   "source": [
    "df_res.isnull().sum(axis=0)"
   ]
  },
  {
   "cell_type": "code",
   "execution_count": 85,
   "metadata": {},
   "outputs": [],
   "source": [
    "df_res['Status']=df_res['Status'].fillna(1)"
   ]
  },
  {
   "cell_type": "code",
   "execution_count": 86,
   "metadata": {},
   "outputs": [
    {
     "data": {
      "text/html": [
       "<div>\n",
       "<style scoped>\n",
       "    .dataframe tbody tr th:only-of-type {\n",
       "        vertical-align: middle;\n",
       "    }\n",
       "\n",
       "    .dataframe tbody tr th {\n",
       "        vertical-align: top;\n",
       "    }\n",
       "\n",
       "    .dataframe thead th {\n",
       "        text-align: right;\n",
       "    }\n",
       "</style>\n",
       "<table border=\"1\" class=\"dataframe\">\n",
       "  <thead>\n",
       "    <tr style=\"text-align: right;\">\n",
       "      <th></th>\n",
       "      <th>ReferenceID</th>\n",
       "      <th>BuildingAddress</th>\n",
       "      <th>NoticeDate</th>\n",
       "      <th>Status</th>\n",
       "      <th>PropertyID</th>\n",
       "      <th>Block</th>\n",
       "      <th>Lot</th>\n",
       "      <th>Ward</th>\n",
       "      <th>Sect</th>\n",
       "      <th>LotSize</th>\n",
       "      <th>CityTax</th>\n",
       "      <th>StateTax</th>\n",
       "      <th>ResCode</th>\n",
       "      <th>AmountDue</th>\n",
       "      <th>AsOfDate</th>\n",
       "      <th>Neighborhood</th>\n",
       "      <th>PoliceDistrict</th>\n",
       "      <th>CouncilDistrict</th>\n",
       "      <th>Location</th>\n",
       "    </tr>\n",
       "  </thead>\n",
       "  <tbody>\n",
       "    <tr>\n",
       "      <th>0</th>\n",
       "      <td>0002 019 031016</td>\n",
       "      <td>1909 W NORTH AVE</td>\n",
       "      <td>03/10/2016</td>\n",
       "      <td>0.0</td>\n",
       "      <td>0002019</td>\n",
       "      <td>0002</td>\n",
       "      <td>019</td>\n",
       "      <td>15.0</td>\n",
       "      <td>160.0</td>\n",
       "      <td>14X85</td>\n",
       "      <td>472.08</td>\n",
       "      <td>23.52</td>\n",
       "      <td>NOT A PRINCIPAL RESIDENCE</td>\n",
       "      <td>524.64</td>\n",
       "      <td>11/30/2018</td>\n",
       "      <td>Easterwood</td>\n",
       "      <td>Western</td>\n",
       "      <td>7.0</td>\n",
       "      <td>(39.30952602, -76.64848892)</td>\n",
       "    </tr>\n",
       "    <tr>\n",
       "      <th>1</th>\n",
       "      <td>0007 057 031116</td>\n",
       "      <td>1734 APPLETON ST</td>\n",
       "      <td>03/11/2016</td>\n",
       "      <td>0.0</td>\n",
       "      <td>0007057</td>\n",
       "      <td>0007</td>\n",
       "      <td>057</td>\n",
       "      <td>15.0</td>\n",
       "      <td>160.0</td>\n",
       "      <td>13-7X86</td>\n",
       "      <td>97.41</td>\n",
       "      <td>4.85</td>\n",
       "      <td>NOT A PRINCIPAL RESIDENCE</td>\n",
       "      <td>108.26</td>\n",
       "      <td>11/30/2018</td>\n",
       "      <td>Easterwood</td>\n",
       "      <td>Western</td>\n",
       "      <td>7.0</td>\n",
       "      <td>(39.30856758, -76.64921158)</td>\n",
       "    </tr>\n",
       "    <tr>\n",
       "      <th>2</th>\n",
       "      <td>0125 012 030816</td>\n",
       "      <td>522 N CAREY ST</td>\n",
       "      <td>03/08/2016</td>\n",
       "      <td>0.0</td>\n",
       "      <td>0125012</td>\n",
       "      <td>0125</td>\n",
       "      <td>012</td>\n",
       "      <td>19.0</td>\n",
       "      <td>10.0</td>\n",
       "      <td>17X104</td>\n",
       "      <td>67.44</td>\n",
       "      <td>3.36</td>\n",
       "      <td>NOT A PRINCIPAL RESIDENCE</td>\n",
       "      <td>74.94</td>\n",
       "      <td>11/30/2018</td>\n",
       "      <td>Harlem Park</td>\n",
       "      <td>Western</td>\n",
       "      <td>9.0</td>\n",
       "      <td>(39.29482153, -76.63877572)</td>\n",
       "    </tr>\n",
       "    <tr>\n",
       "      <th>3</th>\n",
       "      <td>0151 009 030716</td>\n",
       "      <td>317 N GILMOR ST</td>\n",
       "      <td>03/07/2016</td>\n",
       "      <td>0.0</td>\n",
       "      <td>0151009</td>\n",
       "      <td>0151</td>\n",
       "      <td>009</td>\n",
       "      <td>19.0</td>\n",
       "      <td>40.0</td>\n",
       "      <td>16X100</td>\n",
       "      <td>97.41</td>\n",
       "      <td>4.85</td>\n",
       "      <td>NOT A PRINCIPAL RESIDENCE</td>\n",
       "      <td>108.26</td>\n",
       "      <td>11/30/2018</td>\n",
       "      <td>Franklin Square</td>\n",
       "      <td>Western</td>\n",
       "      <td>9.0</td>\n",
       "      <td>(39.29261889, -76.64231679)</td>\n",
       "    </tr>\n",
       "    <tr>\n",
       "      <th>4</th>\n",
       "      <td>0151 009 100413</td>\n",
       "      <td>317 N GILMOR ST</td>\n",
       "      <td>10/04/2013</td>\n",
       "      <td>0.0</td>\n",
       "      <td>0151009</td>\n",
       "      <td>0151</td>\n",
       "      <td>009</td>\n",
       "      <td>19.0</td>\n",
       "      <td>40.0</td>\n",
       "      <td>16X100</td>\n",
       "      <td>97.41</td>\n",
       "      <td>4.85</td>\n",
       "      <td>NOT A PRINCIPAL RESIDENCE</td>\n",
       "      <td>108.26</td>\n",
       "      <td>11/30/2018</td>\n",
       "      <td>Franklin Square</td>\n",
       "      <td>Western</td>\n",
       "      <td>9.0</td>\n",
       "      <td>(39.29261889, -76.64231679)</td>\n",
       "    </tr>\n",
       "  </tbody>\n",
       "</table>\n",
       "</div>"
      ],
      "text/plain": [
       "       ReferenceID   BuildingAddress  NoticeDate  Status PropertyID Block  \\\n",
       "0  0002 019 031016  1909 W NORTH AVE  03/10/2016     0.0    0002019  0002   \n",
       "1  0007 057 031116  1734 APPLETON ST  03/11/2016     0.0    0007057  0007   \n",
       "2  0125 012 030816    522 N CAREY ST  03/08/2016     0.0    0125012  0125   \n",
       "3  0151 009 030716   317 N GILMOR ST  03/07/2016     0.0    0151009  0151   \n",
       "4  0151 009 100413   317 N GILMOR ST  10/04/2013     0.0    0151009  0151   \n",
       "\n",
       "   Lot  Ward   Sect            LotSize  CityTax  StateTax  \\\n",
       "0  019  15.0  160.0  14X85               472.08     23.52   \n",
       "1  057  15.0  160.0  13-7X86              97.41      4.85   \n",
       "2  012  19.0   10.0  17X104               67.44      3.36   \n",
       "3  009  19.0   40.0  16X100               97.41      4.85   \n",
       "4  009  19.0   40.0  16X100               97.41      4.85   \n",
       "\n",
       "                     ResCode  AmountDue    AsOfDate     Neighborhood  \\\n",
       "0  NOT A PRINCIPAL RESIDENCE     524.64  11/30/2018       Easterwood   \n",
       "1  NOT A PRINCIPAL RESIDENCE     108.26  11/30/2018       Easterwood   \n",
       "2  NOT A PRINCIPAL RESIDENCE      74.94  11/30/2018      Harlem Park   \n",
       "3  NOT A PRINCIPAL RESIDENCE     108.26  11/30/2018  Franklin Square   \n",
       "4  NOT A PRINCIPAL RESIDENCE     108.26  11/30/2018  Franklin Square   \n",
       "\n",
       "  PoliceDistrict  CouncilDistrict                     Location  \n",
       "0        Western              7.0  (39.30952602, -76.64848892)  \n",
       "1        Western              7.0  (39.30856758, -76.64921158)  \n",
       "2        Western              9.0  (39.29482153, -76.63877572)  \n",
       "3        Western              9.0  (39.29261889, -76.64231679)  \n",
       "4        Western              9.0  (39.29261889, -76.64231679)  "
      ]
     },
     "execution_count": 86,
     "metadata": {},
     "output_type": "execute_result"
    }
   ],
   "source": [
    "df_res.head()"
   ]
  },
  {
   "cell_type": "code",
   "execution_count": 87,
   "metadata": {},
   "outputs": [],
   "source": [
    "df_res = df_res.drop(['ReferenceID','BuildingAddress','NoticeDate','LotSize','Location'], axis=1)\n",
    "df_res = pd.concat([df_res,pd.get_dummies(df_res['ResCode'],prefix='ResCode')],axis=1)\n",
    "df_res = df_res.drop(['AsOfDate','ResCode'], axis=1)\n",
    "df_res = df_res.drop(['Neighborhood'], axis=1)\n",
    "df_res = pd.concat([df_res,pd.get_dummies(df_res['PoliceDistrict'],prefix='PoliceDistrict')],axis=1)\n",
    "df_res = df_res.drop(['PoliceDistrict'], axis=1)\n",
    "df_res = df_res.drop(['PropertyID','Block','Lot'], axis=1)\n",
    "df_res = df_res.dropna()"
   ]
  },
  {
   "cell_type": "markdown",
   "metadata": {},
   "source": [
    "Dropping unnecessary attritbutes like PropertyId, Block, Lot etc from the datasets."
   ]
  },
  {
   "cell_type": "code",
   "execution_count": 88,
   "metadata": {},
   "outputs": [],
   "source": [
    "#Data Segregation into training and testing\n",
    "from sklearn.model_selection import train_test_split\n",
    "labels = df_res.pop('Status')"
   ]
  },
  {
   "cell_type": "code",
   "execution_count": 89,
   "metadata": {},
   "outputs": [],
   "source": [
    "TrainData, TestData, TrainLabel, TestLabel = train_test_split(df_res, labels, test_size = 0.1, random_state = 10)"
   ]
  },
  {
   "cell_type": "code",
   "execution_count": 104,
   "metadata": {},
   "outputs": [
    {
     "data": {
      "image/png": "[encoded data removed]",
      "text/plain": [
       "<Figure size 720x720 with 2 Axes>"
      ]
     },
     "metadata": {},
     "output_type": "display_data"
    }
   ],
   "source": [
    "corr = df_res.corr()\n",
    "fig, ax = plt.subplots(figsize=(10, 10))\n",
    "colormap = sns.diverging_palette(220, 10, as_cmap=True)\n",
    "sns.heatmap(corr, cmap=colormap, annot=True, fmt=\".2f\")\n",
    "plt.xticks(range(len(corr.columns)), corr.columns);\n",
    "plt.yticks(range(len(corr.columns)), corr.columns)\n",
    "plt.show()"
   ]
  },
  {
   "cell_type": "markdown",
   "metadata": {},
   "source": [
    "The above heat map shows corelation between two columns. The only attributes with good corelation are <br>\n",
    " - City tax\n",
    " - State tax\n",
    " - Amount Due"
   ]
  },
  {
   "cell_type": "code",
   "execution_count": 94,
   "metadata": {},
   "outputs": [
    {
     "name": "stdout",
     "output_type": "stream",
     "text": [
      "Accuracy for Vacant train Data : 97.72538351091967\n",
      "Accuracy for vacant test data : 95.28487229862476\n"
     ]
    }
   ],
   "source": [
    "from  sklearn.ensemble import RandomForestClassifier\n",
    "RFC = RandomForestClassifier()\n",
    "RFmodel = RFC.fit(TrainData,TrainLabel)\n",
    "AccuracyTrain=RFmodel.score(TrainData,TrainLabel)\n",
    "AccuracyTest=RFmodel.score(TestData,TestLabel)\n",
    "print(\"Accuracy for Vacant train Data :\",AccuracyTrain*100)\n",
    "print(\"Accuracy for vacant test data :\",AccuracyTest*100)\n",
    "f = list(RFmodel.feature_importances_)"
   ]
  },
  {
   "cell_type": "code",
   "execution_count": null,
   "metadata": {},
   "outputs": [],
   "source": [
    "from sklearn.neighbors import KNeighborsClassifier\n",
    "KnnModel = KNeighborsClassifier()\n",
    "KnnModel.fit(TrainData, TrainLabel)\n",
    "KnnTrainAccuracy = KnnModel.score(TrainData, TrainLabel)\n",
    "print(\"Accuracy of HR Training Data for KNN Algorithm is: \",KnnTrainAccuracy*100)\n",
    "KnnTestAccuracy = KnnModel.score(TestData, TestLabel)\n",
    "print(\"Accuracy of HR Testing Data for KNN Algorithm is: \",KnnTestAccuracy*100)"
   ]
  },
  {
   "cell_type": "markdown",
   "metadata": {},
   "source": [
    "- The dataset when trained with Random forest classifer has a accuracy of 97% on the validation data and 95% on the test data\n",
    "- When trained with Knn the acccuracies are about 95% for both the cases"
   ]
  },
  {
   "cell_type": "code",
   "execution_count": 95,
   "metadata": {},
   "outputs": [],
   "source": [
    "importanceList = []\n",
    "for key in f:\n",
    "    importanceList.append(key*100)"
   ]
  },
  {
   "cell_type": "code",
   "execution_count": 96,
   "metadata": {},
   "outputs": [
    {
     "data": {
      "text/plain": [
       "Index(['Ward', 'Sect', 'CityTax', 'StateTax', 'AmountDue', 'CouncilDistrict',\n",
       "       'ResCode_NOT A PRINCIPAL RESIDENCE',\n",
       "       'ResCode_PRINCIPAL RESIDENCE      ', 'PoliceDistrict_0',\n",
       "       'PoliceDistrict_Central', 'PoliceDistrict_Eastern',\n",
       "       'PoliceDistrict_Northern', 'PoliceDistrict_Northwestern',\n",
       "       'PoliceDistrict_Notheastern', 'PoliceDistrict_Southeastern',\n",
       "       'PoliceDistrict_Southern', 'PoliceDistrict_Southwestern',\n",
       "       'PoliceDistrict_Western'],\n",
       "      dtype='object')"
      ]
     },
     "execution_count": 96,
     "metadata": {},
     "output_type": "execute_result"
    }
   ],
   "source": [
    "df_res.columns"
   ]
  },
  {
   "cell_type": "code",
   "execution_count": 97,
   "metadata": {},
   "outputs": [],
   "source": [
    "columnsList = list(df_res.columns)"
   ]
  },
  {
   "cell_type": "code",
   "execution_count": 98,
   "metadata": {},
   "outputs": [
    {
     "name": "stdout",
     "output_type": "stream",
     "text": [
      "Ward ---> 4.322874588473496\n",
      "Sect ---> 7.7262465263923525\n",
      "CityTax ---> 24.33784019062489\n",
      "StateTax ---> 30.611299282635635\n",
      "AmountDue ---> 20.412379331688733\n",
      "CouncilDistrict ---> 3.3071283552871025\n",
      "ResCode_NOT A PRINCIPAL RESIDENCE ---> 2.830741742828997\n",
      "ResCode_PRINCIPAL RESIDENCE       ---> 2.5885429379510567\n",
      "PoliceDistrict_0 ---> 2.0928479339436864e-06\n",
      "PoliceDistrict_Central ---> 0.21666048925451747\n",
      "PoliceDistrict_Eastern ---> 0.19729841819597554\n",
      "PoliceDistrict_Northern ---> 0.3682500025443614\n",
      "PoliceDistrict_Northwestern ---> 0.23161108176382147\n",
      "PoliceDistrict_Notheastern ---> 0.19345876641263712\n",
      "PoliceDistrict_Southeastern ---> 0.22161454101800837\n",
      "PoliceDistrict_Southern ---> 0.44611462284803327\n",
      "PoliceDistrict_Southwestern ---> 0.3504654958147314\n",
      "PoliceDistrict_Western ---> 1.6374715334177157\n"
     ]
    }
   ],
   "source": [
    "for i in range(len(columnsList)):\n",
    "    print(columnsList[i] + \" ---> \" + str(importanceList[i]))"
   ]
  },
  {
   "cell_type": "markdown",
   "metadata": {},
   "source": [
    "Here we have checked the feature importance for each column in the dataset and the inferred these <br>\n",
    "1) City tax, state tax, amount due has a major impact in classifying the data <br>\n",
    "2) Policedistrict columns is not so useful in classifying <br>\n",
    "3) Principal residence did not have much impact on classifying the data <br>"
   ]
  },
  {
   "cell_type": "code",
   "execution_count": 100,
   "metadata": {},
   "outputs": [],
   "source": [
    "df_vacant = pd.read_csv('Vacant_Buildings.csv') # Reading the data into the dataframe df\n",
    "df_vacant = df_vacant[df_vacant['BuildingAddress'].notnull()]\n",
    "df_vacant.isnull().sum(axis=0)\n",
    "df_vacant['PoliceDistrict']=df_vacant['PoliceDistrict'].str.lower()\n",
    "df_location = pd.DataFrame(columns=['ReferenceID','Latitude', 'Longitude'])\n",
    "\n",
    "\n",
    "for i in range(0,len(df_vacant)):\n",
    "    location = df_vacant.iloc[i]['Location'].split(',')\n",
    "    Latitude = float(location[0][1:])\n",
    "    Longitude = float(location[1][:-1])\n",
    "    df_location.loc[i] = [df_vacant.iloc[i]['ReferenceID'],Latitude,Longitude]"
   ]
  },
  {
   "cell_type": "code",
   "execution_count": 101,
   "metadata": {},
   "outputs": [
    {
     "data": {
      "text/html": [
       "<div>\n",
       "<style scoped>\n",
       "    .dataframe tbody tr th:only-of-type {\n",
       "        vertical-align: middle;\n",
       "    }\n",
       "\n",
       "    .dataframe tbody tr th {\n",
       "        vertical-align: top;\n",
       "    }\n",
       "\n",
       "    .dataframe thead th {\n",
       "        text-align: right;\n",
       "    }\n",
       "</style>\n",
       "<table border=\"1\" class=\"dataframe\">\n",
       "  <thead>\n",
       "    <tr style=\"text-align: right;\">\n",
       "      <th></th>\n",
       "      <th>ReferenceID</th>\n",
       "      <th>Block</th>\n",
       "      <th>Lot</th>\n",
       "      <th>BuildingAddress</th>\n",
       "      <th>NoticeDate</th>\n",
       "      <th>Neighborhood</th>\n",
       "      <th>PoliceDistrict</th>\n",
       "      <th>CouncilDistrict</th>\n",
       "      <th>Location</th>\n",
       "      <th>ReferenceID</th>\n",
       "      <th>Latitude</th>\n",
       "      <th>Longitude</th>\n",
       "    </tr>\n",
       "  </thead>\n",
       "  <tbody>\n",
       "    <tr>\n",
       "      <th>0</th>\n",
       "      <td>0002 019 031016</td>\n",
       "      <td>0002</td>\n",
       "      <td>019</td>\n",
       "      <td>1909 W NORTH AVE</td>\n",
       "      <td>03/10/2016</td>\n",
       "      <td>EASTERWOOD</td>\n",
       "      <td>western</td>\n",
       "      <td>7</td>\n",
       "      <td>(39.30952601, -76.64848892)</td>\n",
       "      <td>0002 019 031016</td>\n",
       "      <td>39.309526</td>\n",
       "      <td>-76.648489</td>\n",
       "    </tr>\n",
       "    <tr>\n",
       "      <th>1</th>\n",
       "      <td>0007 057 031116</td>\n",
       "      <td>0007</td>\n",
       "      <td>057</td>\n",
       "      <td>1734 APPLETON ST</td>\n",
       "      <td>03/11/2016</td>\n",
       "      <td>EASTERWOOD</td>\n",
       "      <td>western</td>\n",
       "      <td>7</td>\n",
       "      <td>(39.30856758, -76.64921157)</td>\n",
       "      <td>0007 057 031116</td>\n",
       "      <td>39.308568</td>\n",
       "      <td>-76.649212</td>\n",
       "    </tr>\n",
       "    <tr>\n",
       "      <th>2</th>\n",
       "      <td>0125 012 030816</td>\n",
       "      <td>0125</td>\n",
       "      <td>012</td>\n",
       "      <td>522 N CAREY ST</td>\n",
       "      <td>03/08/2016</td>\n",
       "      <td>HARLEM PARK</td>\n",
       "      <td>western</td>\n",
       "      <td>9</td>\n",
       "      <td>(39.29482152, -76.63877572)</td>\n",
       "      <td>0125 012 030816</td>\n",
       "      <td>39.294822</td>\n",
       "      <td>-76.638776</td>\n",
       "    </tr>\n",
       "    <tr>\n",
       "      <th>3</th>\n",
       "      <td>0151 009 030716</td>\n",
       "      <td>0151</td>\n",
       "      <td>009</td>\n",
       "      <td>317 N GILMOR ST</td>\n",
       "      <td>03/07/2016</td>\n",
       "      <td>FRANKLIN SQUARE</td>\n",
       "      <td>western</td>\n",
       "      <td>9</td>\n",
       "      <td>(39.29261888, -76.64231678)</td>\n",
       "      <td>0151 009 030716</td>\n",
       "      <td>39.292619</td>\n",
       "      <td>-76.642317</td>\n",
       "    </tr>\n",
       "    <tr>\n",
       "      <th>4</th>\n",
       "      <td>0074 010 030918</td>\n",
       "      <td>0074</td>\n",
       "      <td>010</td>\n",
       "      <td>945 N MOUNT ST</td>\n",
       "      <td>03/09/2018</td>\n",
       "      <td>Sandtown-Winchester</td>\n",
       "      <td>western</td>\n",
       "      <td>9</td>\n",
       "      <td>(39.29975212, -76.64415784)</td>\n",
       "      <td>0074 010 030918</td>\n",
       "      <td>39.299752</td>\n",
       "      <td>-76.644158</td>\n",
       "    </tr>\n",
       "    <tr>\n",
       "      <th>5</th>\n",
       "      <td>0275 060 030716</td>\n",
       "      <td>0275</td>\n",
       "      <td>060</td>\n",
       "      <td>319 S MONROE ST</td>\n",
       "      <td>03/07/2016</td>\n",
       "      <td>CARROLLTON RIDGE</td>\n",
       "      <td>southern</td>\n",
       "      <td>9</td>\n",
       "      <td>(39.28383911, -76.64647246)</td>\n",
       "      <td>0275 060 030716</td>\n",
       "      <td>39.283839</td>\n",
       "      <td>-76.646472</td>\n",
       "    </tr>\n",
       "    <tr>\n",
       "      <th>6</th>\n",
       "      <td>0206 035 031418</td>\n",
       "      <td>0206</td>\n",
       "      <td>035</td>\n",
       "      <td>2023 W BALTIMORE ST</td>\n",
       "      <td>03/14/2018</td>\n",
       "      <td>Boyd-Booth</td>\n",
       "      <td>southwestern</td>\n",
       "      <td>9</td>\n",
       "      <td>(39.28783131, -76.64939781)</td>\n",
       "      <td>0206 035 031418</td>\n",
       "      <td>39.287831</td>\n",
       "      <td>-76.649398</td>\n",
       "    </tr>\n",
       "    <tr>\n",
       "      <th>7</th>\n",
       "      <td>0599 008 031116</td>\n",
       "      <td>0599</td>\n",
       "      <td>008</td>\n",
       "      <td>235 PARK AVE</td>\n",
       "      <td>03/11/2016</td>\n",
       "      <td>DOWNTOWN</td>\n",
       "      <td>central</td>\n",
       "      <td>11</td>\n",
       "      <td>(39.29280154, -76.6178644)</td>\n",
       "      <td>0599 008 031116</td>\n",
       "      <td>39.292802</td>\n",
       "      <td>-76.617864</td>\n",
       "    </tr>\n",
       "    <tr>\n",
       "      <th>8</th>\n",
       "      <td>0767 117 030816</td>\n",
       "      <td>0767</td>\n",
       "      <td>117</td>\n",
       "      <td>1329 SARGEANT ST</td>\n",
       "      <td>03/08/2016</td>\n",
       "      <td>WASHINGTON VILLAGE/PIGTOWN</td>\n",
       "      <td>southern</td>\n",
       "      <td>10</td>\n",
       "      <td>(39.28035426, -76.63645611)</td>\n",
       "      <td>0767 117 030816</td>\n",
       "      <td>39.280354</td>\n",
       "      <td>-76.636456</td>\n",
       "    </tr>\n",
       "    <tr>\n",
       "      <th>9</th>\n",
       "      <td>0206 049 031418</td>\n",
       "      <td>0206</td>\n",
       "      <td>049</td>\n",
       "      <td>8 S PAYSON ST</td>\n",
       "      <td>03/14/2018</td>\n",
       "      <td>Boyd-Booth</td>\n",
       "      <td>southwestern</td>\n",
       "      <td>9</td>\n",
       "      <td>(39.2875711, -76.64891445)</td>\n",
       "      <td>0206 049 031418</td>\n",
       "      <td>39.287571</td>\n",
       "      <td>-76.648914</td>\n",
       "    </tr>\n",
       "    <tr>\n",
       "      <th>10</th>\n",
       "      <td>0207 047 031418</td>\n",
       "      <td>0207</td>\n",
       "      <td>047</td>\n",
       "      <td>1905 W BALTIMORE ST</td>\n",
       "      <td>03/14/2018</td>\n",
       "      <td>Boyd-Booth</td>\n",
       "      <td>southwestern</td>\n",
       "      <td>9</td>\n",
       "      <td>(39.28789672, -76.64717506)</td>\n",
       "      <td>0207 047 031418</td>\n",
       "      <td>39.287897</td>\n",
       "      <td>-76.647175</td>\n",
       "    </tr>\n",
       "    <tr>\n",
       "      <th>11</th>\n",
       "      <td>0215 030 031418</td>\n",
       "      <td>0215</td>\n",
       "      <td>030</td>\n",
       "      <td>1326 HOLLINS ST</td>\n",
       "      <td>03/14/2018</td>\n",
       "      <td>Union Square</td>\n",
       "      <td>southern</td>\n",
       "      <td>9</td>\n",
       "      <td>(39.2878181, -76.63895877)</td>\n",
       "      <td>0215 030 031418</td>\n",
       "      <td>39.287818</td>\n",
       "      <td>-76.638959</td>\n",
       "    </tr>\n",
       "    <tr>\n",
       "      <th>12</th>\n",
       "      <td>0219 023 031418</td>\n",
       "      <td>0219</td>\n",
       "      <td>023</td>\n",
       "      <td>3 S SCHROEDER ST</td>\n",
       "      <td>03/14/2018</td>\n",
       "      <td>Hollins Market</td>\n",
       "      <td>southern</td>\n",
       "      <td>9</td>\n",
       "      <td>(39.28848956, -76.63356746)</td>\n",
       "      <td>0219 023 031418</td>\n",
       "      <td>39.288490</td>\n",
       "      <td>-76.633567</td>\n",
       "    </tr>\n",
       "    <tr>\n",
       "      <th>13</th>\n",
       "      <td>0855 008 030816</td>\n",
       "      <td>0855</td>\n",
       "      <td>008</td>\n",
       "      <td>622 ARCHER ST</td>\n",
       "      <td>03/08/2016</td>\n",
       "      <td>WASHINGTON VILLAGE/PIGTOWN</td>\n",
       "      <td>southern</td>\n",
       "      <td>10</td>\n",
       "      <td>(39.28160587, -76.63017981)</td>\n",
       "      <td>0855 008 030816</td>\n",
       "      <td>39.281606</td>\n",
       "      <td>-76.630180</td>\n",
       "    </tr>\n",
       "    <tr>\n",
       "      <th>14</th>\n",
       "      <td>0247 043 031518</td>\n",
       "      <td>0247</td>\n",
       "      <td>043</td>\n",
       "      <td>112 S CALHOUN ST</td>\n",
       "      <td>03/15/2018</td>\n",
       "      <td>Union Square</td>\n",
       "      <td>southern</td>\n",
       "      <td>9</td>\n",
       "      <td>(39.28598718, -76.63966474)</td>\n",
       "      <td>0247 043 031518</td>\n",
       "      <td>39.285987</td>\n",
       "      <td>-76.639665</td>\n",
       "    </tr>\n",
       "    <tr>\n",
       "      <th>15</th>\n",
       "      <td>1126 056 030716</td>\n",
       "      <td>1126</td>\n",
       "      <td>056</td>\n",
       "      <td>1532 N BOND ST</td>\n",
       "      <td>03/07/2016</td>\n",
       "      <td>OLIVER</td>\n",
       "      <td>eastern</td>\n",
       "      <td>12</td>\n",
       "      <td>(39.30815721, -76.59707552)</td>\n",
       "      <td>1126 056 030716</td>\n",
       "      <td>39.308157</td>\n",
       "      <td>-76.597076</td>\n",
       "    </tr>\n",
       "    <tr>\n",
       "      <th>16</th>\n",
       "      <td>1454 029 030716</td>\n",
       "      <td>1454</td>\n",
       "      <td>029</td>\n",
       "      <td>1816 N MILTON AVE</td>\n",
       "      <td>03/07/2016</td>\n",
       "      <td>BROADWAY EAST</td>\n",
       "      <td>eastern</td>\n",
       "      <td>13</td>\n",
       "      <td>(39.31174375, -76.58335172)</td>\n",
       "      <td>1454 029 030716</td>\n",
       "      <td>39.311744</td>\n",
       "      <td>-76.583352</td>\n",
       "    </tr>\n",
       "    <tr>\n",
       "      <th>17</th>\n",
       "      <td>1477 047 031116</td>\n",
       "      <td>1477</td>\n",
       "      <td>047</td>\n",
       "      <td>1516 RUTLAND AVE</td>\n",
       "      <td>03/11/2016</td>\n",
       "      <td>BROADWAY EAST</td>\n",
       "      <td>eastern</td>\n",
       "      <td>12</td>\n",
       "      <td>(39.30822909, -76.59304661)</td>\n",
       "      <td>1477 047 031116</td>\n",
       "      <td>39.308229</td>\n",
       "      <td>-76.593047</td>\n",
       "    </tr>\n",
       "    <tr>\n",
       "      <th>18</th>\n",
       "      <td>1500 011 030716</td>\n",
       "      <td>1500</td>\n",
       "      <td>011</td>\n",
       "      <td>2131 E OLIVER ST</td>\n",
       "      <td>03/07/2016</td>\n",
       "      <td>BROADWAY EAST</td>\n",
       "      <td>eastern</td>\n",
       "      <td>13</td>\n",
       "      <td>(39.30757991, -76.58751523)</td>\n",
       "      <td>1500 011 030716</td>\n",
       "      <td>39.307580</td>\n",
       "      <td>-76.587515</td>\n",
       "    </tr>\n",
       "    <tr>\n",
       "      <th>19</th>\n",
       "      <td>0264 040 031418</td>\n",
       "      <td>0264</td>\n",
       "      <td>040</td>\n",
       "      <td>1402 MCHENRY ST</td>\n",
       "      <td>03/14/2018</td>\n",
       "      <td>New Southwest/Mount Clare</td>\n",
       "      <td>southern</td>\n",
       "      <td>9</td>\n",
       "      <td>(39.28466697, -76.63975999)</td>\n",
       "      <td>0264 040 031418</td>\n",
       "      <td>39.284667</td>\n",
       "      <td>-76.639760</td>\n",
       "    </tr>\n",
       "    <tr>\n",
       "      <th>20</th>\n",
       "      <td>1658 069 030916</td>\n",
       "      <td>1658</td>\n",
       "      <td>069</td>\n",
       "      <td>530 N BELNORD AVE</td>\n",
       "      <td>03/09/2016</td>\n",
       "      <td>MCELDERRY PARK</td>\n",
       "      <td>southeastern</td>\n",
       "      <td>13</td>\n",
       "      <td>(39.29769466, -76.57887137)</td>\n",
       "      <td>1658 069 030916</td>\n",
       "      <td>39.297695</td>\n",
       "      <td>-76.578871</td>\n",
       "    </tr>\n",
       "    <tr>\n",
       "      <th>21</th>\n",
       "      <td>1661 009 030716</td>\n",
       "      <td>1661</td>\n",
       "      <td>009</td>\n",
       "      <td>3017 MCELDERRY ST</td>\n",
       "      <td>03/07/2016</td>\n",
       "      <td>ELLWOOD PARK/MONUMENT</td>\n",
       "      <td>southeastern</td>\n",
       "      <td>13</td>\n",
       "      <td>(39.29784806, -76.57460498)</td>\n",
       "      <td>1661 009 030716</td>\n",
       "      <td>39.297848</td>\n",
       "      <td>-76.574605</td>\n",
       "    </tr>\n",
       "    <tr>\n",
       "      <th>22</th>\n",
       "      <td>0001 003 012512</td>\n",
       "      <td>0001</td>\n",
       "      <td>003</td>\n",
       "      <td>2041 W NORTH AVE</td>\n",
       "      <td>01/25/2012</td>\n",
       "      <td>EASTERWOOD</td>\n",
       "      <td>western</td>\n",
       "      <td>7</td>\n",
       "      <td>(39.30941765, -76.65104057)</td>\n",
       "      <td>0001 003 012512</td>\n",
       "      <td>39.309418</td>\n",
       "      <td>-76.651041</td>\n",
       "    </tr>\n",
       "    <tr>\n",
       "      <th>23</th>\n",
       "      <td>0001 006 120214</td>\n",
       "      <td>0001</td>\n",
       "      <td>006</td>\n",
       "      <td>2035 W NORTH AVE</td>\n",
       "      <td>12/02/2014</td>\n",
       "      <td>EASTERWOOD</td>\n",
       "      <td>western</td>\n",
       "      <td>7</td>\n",
       "      <td>(39.30942276, -76.65089166)</td>\n",
       "      <td>0001 006 120214</td>\n",
       "      <td>39.309423</td>\n",
       "      <td>-76.650892</td>\n",
       "    </tr>\n",
       "    <tr>\n",
       "      <th>24</th>\n",
       "      <td>0001 007 020113</td>\n",
       "      <td>0001</td>\n",
       "      <td>007</td>\n",
       "      <td>2033 W NORTH AVE</td>\n",
       "      <td>02/01/2013</td>\n",
       "      <td>EASTERWOOD</td>\n",
       "      <td>western</td>\n",
       "      <td>7</td>\n",
       "      <td>(39.30942443, -76.65084103)</td>\n",
       "      <td>0001 007 020113</td>\n",
       "      <td>39.309424</td>\n",
       "      <td>-76.650841</td>\n",
       "    </tr>\n",
       "    <tr>\n",
       "      <th>25</th>\n",
       "      <td>0001 008 070115</td>\n",
       "      <td>0001</td>\n",
       "      <td>008</td>\n",
       "      <td>2031 W NORTH AVE</td>\n",
       "      <td>07/01/2015</td>\n",
       "      <td>EASTERWOOD</td>\n",
       "      <td>western</td>\n",
       "      <td>7</td>\n",
       "      <td>(39.30942603, -76.65079304)</td>\n",
       "      <td>0001 008 070115</td>\n",
       "      <td>39.309426</td>\n",
       "      <td>-76.650793</td>\n",
       "    </tr>\n",
       "    <tr>\n",
       "      <th>26</th>\n",
       "      <td>0001 015 012816</td>\n",
       "      <td>0001</td>\n",
       "      <td>015</td>\n",
       "      <td>2017 W NORTH AVE</td>\n",
       "      <td>01/28/2016</td>\n",
       "      <td>EASTERWOOD</td>\n",
       "      <td>western</td>\n",
       "      <td>7</td>\n",
       "      <td>(39.30943944, -76.65044524)</td>\n",
       "      <td>0001 015 012816</td>\n",
       "      <td>39.309439</td>\n",
       "      <td>-76.650445</td>\n",
       "    </tr>\n",
       "    <tr>\n",
       "      <th>27</th>\n",
       "      <td>0001 026 121410</td>\n",
       "      <td>0001</td>\n",
       "      <td>026</td>\n",
       "      <td>1810 N PAYSON ST</td>\n",
       "      <td>12/14/2010</td>\n",
       "      <td>EASTERWOOD</td>\n",
       "      <td>western</td>\n",
       "      <td>7</td>\n",
       "      <td>(39.30902061, -76.65010741)</td>\n",
       "      <td>0001 026 121410</td>\n",
       "      <td>39.309021</td>\n",
       "      <td>-76.650107</td>\n",
       "    </tr>\n",
       "    <tr>\n",
       "      <th>28</th>\n",
       "      <td>0001 028 020808</td>\n",
       "      <td>0001</td>\n",
       "      <td>028</td>\n",
       "      <td>1806 N PAYSON ST</td>\n",
       "      <td>02/08/2008</td>\n",
       "      <td>EASTERWOOD</td>\n",
       "      <td>western</td>\n",
       "      <td>7</td>\n",
       "      <td>(39.30894358, -76.65010312)</td>\n",
       "      <td>0001 028 020808</td>\n",
       "      <td>39.308944</td>\n",
       "      <td>-76.650103</td>\n",
       "    </tr>\n",
       "    <tr>\n",
       "      <th>29</th>\n",
       "      <td>0002 069 030918</td>\n",
       "      <td>0002</td>\n",
       "      <td>069</td>\n",
       "      <td>1825 APPLETON ST</td>\n",
       "      <td>03/09/2018</td>\n",
       "      <td>Easterwood</td>\n",
       "      <td>western</td>\n",
       "      <td>7</td>\n",
       "      <td>(39.30931305, -76.64874425)</td>\n",
       "      <td>0002 069 030918</td>\n",
       "      <td>39.309313</td>\n",
       "      <td>-76.648744</td>\n",
       "    </tr>\n",
       "    <tr>\n",
       "      <th>...</th>\n",
       "      <td>...</td>\n",
       "      <td>...</td>\n",
       "      <td>...</td>\n",
       "      <td>...</td>\n",
       "      <td>...</td>\n",
       "      <td>...</td>\n",
       "      <td>...</td>\n",
       "      <td>...</td>\n",
       "      <td>...</td>\n",
       "      <td>...</td>\n",
       "      <td>...</td>\n",
       "      <td>...</td>\n",
       "    </tr>\n",
       "    <tr>\n",
       "      <th>16662</th>\n",
       "      <td>7613 041 121715</td>\n",
       "      <td>7613</td>\n",
       "      <td>041</td>\n",
       "      <td>410 SWALE AVE</td>\n",
       "      <td>12/17/2015</td>\n",
       "      <td>CHERRY HILL</td>\n",
       "      <td>southern</td>\n",
       "      <td>10</td>\n",
       "      <td>(39.24980752, -76.61932506)</td>\n",
       "      <td>7614 002 100305</td>\n",
       "      <td>39.250627</td>\n",
       "      <td>-76.621040</td>\n",
       "    </tr>\n",
       "    <tr>\n",
       "      <th>16663</th>\n",
       "      <td>7614 002 100305</td>\n",
       "      <td>7614</td>\n",
       "      <td>002</td>\n",
       "      <td>503 CHERRY HILL ROAD</td>\n",
       "      <td>10/03/2005</td>\n",
       "      <td>CHERRY HILL</td>\n",
       "      <td>southern</td>\n",
       "      <td>10</td>\n",
       "      <td>(39.25062706, -76.62103964)</td>\n",
       "      <td>7614 009 041415</td>\n",
       "      <td>39.250321</td>\n",
       "      <td>-76.621513</td>\n",
       "    </tr>\n",
       "    <tr>\n",
       "      <th>16664</th>\n",
       "      <td>7614 009 041415</td>\n",
       "      <td>7614</td>\n",
       "      <td>009</td>\n",
       "      <td>517 CHERRY HILL ROAD</td>\n",
       "      <td>04/14/2015</td>\n",
       "      <td>CHERRY HILL</td>\n",
       "      <td>southern</td>\n",
       "      <td>10</td>\n",
       "      <td>(39.25032059, -76.62151326)</td>\n",
       "      <td>7614 014 012214</td>\n",
       "      <td>39.250343</td>\n",
       "      <td>-76.620595</td>\n",
       "    </tr>\n",
       "    <tr>\n",
       "      <th>16665</th>\n",
       "      <td>7614 014 012214</td>\n",
       "      <td>7614</td>\n",
       "      <td>014</td>\n",
       "      <td>500 BRIDGEVIEW ROAD</td>\n",
       "      <td>01/22/2014</td>\n",
       "      <td>CHERRY HILL</td>\n",
       "      <td>southern</td>\n",
       "      <td>10</td>\n",
       "      <td>(39.25034282, -76.62059497)</td>\n",
       "      <td>7614 017 083013</td>\n",
       "      <td>39.250279</td>\n",
       "      <td>-76.620761</td>\n",
       "    </tr>\n",
       "    <tr>\n",
       "      <th>16666</th>\n",
       "      <td>7614 017 083013</td>\n",
       "      <td>7614</td>\n",
       "      <td>017</td>\n",
       "      <td>506 BRIDGEVIEW ROAD</td>\n",
       "      <td>08/30/2013</td>\n",
       "      <td>CHERRY HILL</td>\n",
       "      <td>southern</td>\n",
       "      <td>10</td>\n",
       "      <td>(39.25027888, -76.62076128)</td>\n",
       "      <td>7615 013 102414</td>\n",
       "      <td>39.249838</td>\n",
       "      <td>-76.620350</td>\n",
       "    </tr>\n",
       "    <tr>\n",
       "      <th>16667</th>\n",
       "      <td>7615 013 102414</td>\n",
       "      <td>7615</td>\n",
       "      <td>013</td>\n",
       "      <td>446 ROUNDVIEW ROAD</td>\n",
       "      <td>10/24/2014</td>\n",
       "      <td>CHERRY HILL</td>\n",
       "      <td>southern</td>\n",
       "      <td>10</td>\n",
       "      <td>(39.24983767, -76.62034951)</td>\n",
       "      <td>7615 014 071814</td>\n",
       "      <td>39.249801</td>\n",
       "      <td>-76.620336</td>\n",
       "    </tr>\n",
       "    <tr>\n",
       "      <th>16668</th>\n",
       "      <td>7615 014 071814</td>\n",
       "      <td>7615</td>\n",
       "      <td>014</td>\n",
       "      <td>448 ROUNDVIEW ROAD</td>\n",
       "      <td>07/18/2014</td>\n",
       "      <td>CHERRY HILL</td>\n",
       "      <td>southern</td>\n",
       "      <td>10</td>\n",
       "      <td>(39.24980143, -76.62033606)</td>\n",
       "      <td>7615 017 052010</td>\n",
       "      <td>39.249599</td>\n",
       "      <td>-76.620262</td>\n",
       "    </tr>\n",
       "    <tr>\n",
       "      <th>16669</th>\n",
       "      <td>7615 017 052010</td>\n",
       "      <td>7615</td>\n",
       "      <td>017</td>\n",
       "      <td>454 ROUNDVIEW ROAD</td>\n",
       "      <td>05/20/2010</td>\n",
       "      <td>CHERRY HILL</td>\n",
       "      <td>southern</td>\n",
       "      <td>10</td>\n",
       "      <td>(39.24959948, -76.62026233)</td>\n",
       "      <td>7615 019 111015</td>\n",
       "      <td>39.249505</td>\n",
       "      <td>-76.620269</td>\n",
       "    </tr>\n",
       "    <tr>\n",
       "      <th>16670</th>\n",
       "      <td>7615 019 111015</td>\n",
       "      <td>7615</td>\n",
       "      <td>019</td>\n",
       "      <td>458 ROUNDVIEW ROAD</td>\n",
       "      <td>11/10/2015</td>\n",
       "      <td>CHERRY HILL</td>\n",
       "      <td>southern</td>\n",
       "      <td>10</td>\n",
       "      <td>(39.24950509, -76.62026893)</td>\n",
       "      <td>7616 042 111105</td>\n",
       "      <td>39.248195</td>\n",
       "      <td>-76.618234</td>\n",
       "    </tr>\n",
       "    <tr>\n",
       "      <th>16671</th>\n",
       "      <td>7616 042 111105</td>\n",
       "      <td>7616</td>\n",
       "      <td>042</td>\n",
       "      <td>512 SEAGULL AVE</td>\n",
       "      <td>11/11/2005</td>\n",
       "      <td>CHERRY HILL</td>\n",
       "      <td>southern</td>\n",
       "      <td>10</td>\n",
       "      <td>(39.24819518, -76.61823445)</td>\n",
       "      <td>7617 021 111015</td>\n",
       "      <td>39.248882</td>\n",
       "      <td>-76.618042</td>\n",
       "    </tr>\n",
       "    <tr>\n",
       "      <th>16672</th>\n",
       "      <td>7617 021 111015</td>\n",
       "      <td>7617</td>\n",
       "      <td>021</td>\n",
       "      <td>3053 ASCENSION ST</td>\n",
       "      <td>11/10/2015</td>\n",
       "      <td>CHERRY HILL</td>\n",
       "      <td>southern</td>\n",
       "      <td>10</td>\n",
       "      <td>(39.24888198, -76.61804168)</td>\n",
       "      <td>7779 002 081015</td>\n",
       "      <td>39.266331</td>\n",
       "      <td>-76.653296</td>\n",
       "    </tr>\n",
       "    <tr>\n",
       "      <th>16673</th>\n",
       "      <td>7779 002 081015</td>\n",
       "      <td>7779</td>\n",
       "      <td>002</td>\n",
       "      <td>2534 WASHINGTON BLVD</td>\n",
       "      <td>08/10/2015</td>\n",
       "      <td>MORRELL PARK</td>\n",
       "      <td>southwestern</td>\n",
       "      <td>10</td>\n",
       "      <td>(39.26633075, -76.65329643)</td>\n",
       "      <td>7779 006 022416</td>\n",
       "      <td>39.266539</td>\n",
       "      <td>-76.653056</td>\n",
       "    </tr>\n",
       "    <tr>\n",
       "      <th>16674</th>\n",
       "      <td>7779 006 022416</td>\n",
       "      <td>7779</td>\n",
       "      <td>006</td>\n",
       "      <td>2522 WASHINGTON BLVD</td>\n",
       "      <td>02/24/2016</td>\n",
       "      <td>MORRELL PARK</td>\n",
       "      <td>southwestern</td>\n",
       "      <td>10</td>\n",
       "      <td>(39.26653873, -76.65305597)</td>\n",
       "      <td>7779 006A 030714</td>\n",
       "      <td>39.266574</td>\n",
       "      <td>-76.653013</td>\n",
       "    </tr>\n",
       "    <tr>\n",
       "      <th>16675</th>\n",
       "      <td>7779 006A 030714</td>\n",
       "      <td>7779</td>\n",
       "      <td>006A</td>\n",
       "      <td>2518 WASHINGTON BLVD</td>\n",
       "      <td>03/07/2014</td>\n",
       "      <td>MORRELL PARK</td>\n",
       "      <td>southwestern</td>\n",
       "      <td>10</td>\n",
       "      <td>(39.26657385, -76.65301285)</td>\n",
       "      <td>7983 004 050407</td>\n",
       "      <td>39.297122</td>\n",
       "      <td>-76.691604</td>\n",
       "    </tr>\n",
       "    <tr>\n",
       "      <th>16676</th>\n",
       "      <td>7983 004 050407</td>\n",
       "      <td>7983</td>\n",
       "      <td>004</td>\n",
       "      <td>1107 WALNUT AVE</td>\n",
       "      <td>05/04/2007</td>\n",
       "      <td>ROGNEL HEIGHTS</td>\n",
       "      <td>southwestern</td>\n",
       "      <td>8</td>\n",
       "      <td>(39.29712221, -76.69160444)</td>\n",
       "      <td>7987 013 051110</td>\n",
       "      <td>39.296351</td>\n",
       "      <td>-76.689867</td>\n",
       "    </tr>\n",
       "    <tr>\n",
       "      <th>16677</th>\n",
       "      <td>7987 013 051110</td>\n",
       "      <td>7987</td>\n",
       "      <td>013</td>\n",
       "      <td>4315 FLOWERTON ROAD</td>\n",
       "      <td>05/11/2010</td>\n",
       "      <td>ROGNEL HEIGHTS</td>\n",
       "      <td>southwestern</td>\n",
       "      <td>8</td>\n",
       "      <td>(39.29635104, -76.68986713)</td>\n",
       "      <td>8017 011 032912</td>\n",
       "      <td>39.289890</td>\n",
       "      <td>-76.700262</td>\n",
       "    </tr>\n",
       "    <tr>\n",
       "      <th>16678</th>\n",
       "      <td>8017 011 032912</td>\n",
       "      <td>8017</td>\n",
       "      <td>011</td>\n",
       "      <td>520 OVERDALE ROAD</td>\n",
       "      <td>03/29/2012</td>\n",
       "      <td>TEN HILLS</td>\n",
       "      <td>southwestern</td>\n",
       "      <td>8</td>\n",
       "      <td>(39.28988999, -76.70026177)</td>\n",
       "      <td>8030 003 090407</td>\n",
       "      <td>39.282203</td>\n",
       "      <td>-76.697147</td>\n",
       "    </tr>\n",
       "    <tr>\n",
       "      <th>16679</th>\n",
       "      <td>8030 003 090407</td>\n",
       "      <td>8030</td>\n",
       "      <td>003</td>\n",
       "      <td>5002 FREDERICK AVE</td>\n",
       "      <td>09/04/2007</td>\n",
       "      <td>TEN HILLS</td>\n",
       "      <td>southwestern</td>\n",
       "      <td>8</td>\n",
       "      <td>(39.28220261, -76.69714693)</td>\n",
       "      <td>8030 005 050914</td>\n",
       "      <td>39.284254</td>\n",
       "      <td>-76.697728</td>\n",
       "    </tr>\n",
       "    <tr>\n",
       "      <th>16680</th>\n",
       "      <td>8030 005 050914</td>\n",
       "      <td>8030</td>\n",
       "      <td>005</td>\n",
       "      <td>2 N WICKHAM ROAD</td>\n",
       "      <td>05/09/2014</td>\n",
       "      <td>TEN HILLS</td>\n",
       "      <td>southwestern</td>\n",
       "      <td>8</td>\n",
       "      <td>(39.28425381, -76.69772777)</td>\n",
       "      <td>8298 004 123009</td>\n",
       "      <td>39.329946</td>\n",
       "      <td>-76.692362</td>\n",
       "    </tr>\n",
       "    <tr>\n",
       "      <th>16681</th>\n",
       "      <td>8298 004 123009</td>\n",
       "      <td>8298</td>\n",
       "      <td>004</td>\n",
       "      <td>4407 LIBERTY HEIGHTS AVE</td>\n",
       "      <td>12/30/2009</td>\n",
       "      <td>HOWARD PARK</td>\n",
       "      <td>northwestern</td>\n",
       "      <td>8</td>\n",
       "      <td>(39.32994573, -76.69236165)</td>\n",
       "      <td>8301 007 111315</td>\n",
       "      <td>39.329122</td>\n",
       "      <td>-76.691585</td>\n",
       "    </tr>\n",
       "    <tr>\n",
       "      <th>16682</th>\n",
       "      <td>8301 007 111315</td>\n",
       "      <td>8301</td>\n",
       "      <td>007</td>\n",
       "      <td>4312 MAINE AVE</td>\n",
       "      <td>11/13/2015</td>\n",
       "      <td>CENTRAL FOREST PARK</td>\n",
       "      <td>northwestern</td>\n",
       "      <td>8</td>\n",
       "      <td>(39.32912219, -76.69158499)</td>\n",
       "      <td>8301 014 090712</td>\n",
       "      <td>39.329250</td>\n",
       "      <td>-76.690111</td>\n",
       "    </tr>\n",
       "    <tr>\n",
       "      <th>16683</th>\n",
       "      <td>8301 014 090712</td>\n",
       "      <td>8301</td>\n",
       "      <td>014</td>\n",
       "      <td>4301 LIBERTY HEIGHTS AVE</td>\n",
       "      <td>09/07/2012</td>\n",
       "      <td>CENTRAL FOREST PARK</td>\n",
       "      <td>northwestern</td>\n",
       "      <td>8</td>\n",
       "      <td>(39.32925005, -76.69011071)</td>\n",
       "      <td>8318 001 073114</td>\n",
       "      <td>39.330594</td>\n",
       "      <td>-76.702116</td>\n",
       "    </tr>\n",
       "    <tr>\n",
       "      <th>16684</th>\n",
       "      <td>8318 001 073114</td>\n",
       "      <td>8318</td>\n",
       "      <td>001</td>\n",
       "      <td>5100 GWYNN OAK AVE</td>\n",
       "      <td>07/31/2014</td>\n",
       "      <td>HOWARD PARK</td>\n",
       "      <td>northwestern</td>\n",
       "      <td>8</td>\n",
       "      <td>(39.33059429, -76.7021156)</td>\n",
       "      <td>8319 003 083012</td>\n",
       "      <td>39.331984</td>\n",
       "      <td>-76.709873</td>\n",
       "    </tr>\n",
       "    <tr>\n",
       "      <th>16685</th>\n",
       "      <td>8319 003 083012</td>\n",
       "      <td>8319</td>\n",
       "      <td>003</td>\n",
       "      <td>5605 FERNPARK AVE</td>\n",
       "      <td>08/30/2012</td>\n",
       "      <td>HOWARD PARK</td>\n",
       "      <td>northwestern</td>\n",
       "      <td>8</td>\n",
       "      <td>(39.33198372, -76.70987321)</td>\n",
       "      <td>8328 007 070912</td>\n",
       "      <td>39.328933</td>\n",
       "      <td>-76.707378</td>\n",
       "    </tr>\n",
       "    <tr>\n",
       "      <th>16686</th>\n",
       "      <td>8328 007 070912</td>\n",
       "      <td>8328</td>\n",
       "      <td>007</td>\n",
       "      <td>5314 GWYNN OAK AVE</td>\n",
       "      <td>07/09/2012</td>\n",
       "      <td>HOWARD PARK</td>\n",
       "      <td>northwestern</td>\n",
       "      <td>8</td>\n",
       "      <td>(39.32893322, -76.70737763)</td>\n",
       "      <td>8333 002 072415</td>\n",
       "      <td>39.328173</td>\n",
       "      <td>-76.708050</td>\n",
       "    </tr>\n",
       "    <tr>\n",
       "      <th>16687</th>\n",
       "      <td>8333 002 072415</td>\n",
       "      <td>8333</td>\n",
       "      <td>002</td>\n",
       "      <td>5505 GWYNN OAK AVE</td>\n",
       "      <td>07/24/2015</td>\n",
       "      <td>HOWARD PARK</td>\n",
       "      <td>northwestern</td>\n",
       "      <td>8</td>\n",
       "      <td>(39.32817276, -76.70805038)</td>\n",
       "      <td>8358 001 022615</td>\n",
       "      <td>39.326279</td>\n",
       "      <td>-76.688917</td>\n",
       "    </tr>\n",
       "    <tr>\n",
       "      <th>16688</th>\n",
       "      <td>8358 001 022615</td>\n",
       "      <td>8358</td>\n",
       "      <td>001</td>\n",
       "      <td>4101 SPRINGDALE AVE</td>\n",
       "      <td>02/26/2015</td>\n",
       "      <td>CENTRAL FOREST PARK</td>\n",
       "      <td>northwestern</td>\n",
       "      <td>8</td>\n",
       "      <td>(39.3262788, -76.68891737)</td>\n",
       "      <td>8415 001F 041713</td>\n",
       "      <td>39.311706</td>\n",
       "      <td>-76.710871</td>\n",
       "    </tr>\n",
       "    <tr>\n",
       "      <th>16689</th>\n",
       "      <td>8415 001F 041713</td>\n",
       "      <td>8415</td>\n",
       "      <td>001F</td>\n",
       "      <td>2017 OAK DR</td>\n",
       "      <td>04/17/2013</td>\n",
       "      <td>FRANKLINTOWN</td>\n",
       "      <td>southwestern</td>\n",
       "      <td>8</td>\n",
       "      <td>(39.31170598, -76.71087117)</td>\n",
       "      <td>8422 031 081314</td>\n",
       "      <td>39.308747</td>\n",
       "      <td>-76.710774</td>\n",
       "    </tr>\n",
       "    <tr>\n",
       "      <th>16690</th>\n",
       "      <td>8422 031 081314</td>\n",
       "      <td>8422</td>\n",
       "      <td>031</td>\n",
       "      <td>5219 W NORTH AVE</td>\n",
       "      <td>08/13/2014</td>\n",
       "      <td>FRANKLINTOWN</td>\n",
       "      <td>southwestern</td>\n",
       "      <td>8</td>\n",
       "      <td>(39.3087471, -76.71077407)</td>\n",
       "      <td>8434F002 101411</td>\n",
       "      <td>39.303825</td>\n",
       "      <td>-76.709725</td>\n",
       "    </tr>\n",
       "    <tr>\n",
       "      <th>16691</th>\n",
       "      <td>8434F002 101411</td>\n",
       "      <td>8434F</td>\n",
       "      <td>002</td>\n",
       "      <td>5112 N FRANKLINTOWN ROAD</td>\n",
       "      <td>10/14/2011</td>\n",
       "      <td>FRANKLINTOWN</td>\n",
       "      <td>southwestern</td>\n",
       "      <td>8</td>\n",
       "      <td>(39.3038252, -76.70972528)</td>\n",
       "      <td>NaN</td>\n",
       "      <td>NaN</td>\n",
       "      <td>NaN</td>\n",
       "    </tr>\n",
       "  </tbody>\n",
       "</table>\n",
       "<p>16691 rows × 12 columns</p>\n",
       "</div>"
      ],
      "text/plain": [
       "            ReferenceID  Block   Lot           BuildingAddress  NoticeDate  \\\n",
       "0       0002 019 031016   0002   019          1909 W NORTH AVE  03/10/2016   \n",
       "1       0007 057 031116   0007   057          1734 APPLETON ST  03/11/2016   \n",
       "2       0125 012 030816   0125   012            522 N CAREY ST  03/08/2016   \n",
       "3       0151 009 030716   0151   009           317 N GILMOR ST  03/07/2016   \n",
       "4       0074 010 030918   0074   010            945 N MOUNT ST  03/09/2018   \n",
       "5       0275 060 030716   0275   060           319 S MONROE ST  03/07/2016   \n",
       "6       0206 035 031418   0206   035       2023 W BALTIMORE ST  03/14/2018   \n",
       "7       0599 008 031116   0599   008              235 PARK AVE  03/11/2016   \n",
       "8       0767 117 030816   0767   117          1329 SARGEANT ST  03/08/2016   \n",
       "9       0206 049 031418   0206   049             8 S PAYSON ST  03/14/2018   \n",
       "10      0207 047 031418   0207   047       1905 W BALTIMORE ST  03/14/2018   \n",
       "11      0215 030 031418   0215   030           1326 HOLLINS ST  03/14/2018   \n",
       "12      0219 023 031418   0219   023          3 S SCHROEDER ST  03/14/2018   \n",
       "13      0855 008 030816   0855   008             622 ARCHER ST  03/08/2016   \n",
       "14      0247 043 031518   0247   043          112 S CALHOUN ST  03/15/2018   \n",
       "15      1126 056 030716   1126   056            1532 N BOND ST  03/07/2016   \n",
       "16      1454 029 030716   1454   029         1816 N MILTON AVE  03/07/2016   \n",
       "17      1477 047 031116   1477   047          1516 RUTLAND AVE  03/11/2016   \n",
       "18      1500 011 030716   1500   011          2131 E OLIVER ST  03/07/2016   \n",
       "19      0264 040 031418   0264   040           1402 MCHENRY ST  03/14/2018   \n",
       "20      1658 069 030916   1658   069         530 N BELNORD AVE  03/09/2016   \n",
       "21      1661 009 030716   1661   009         3017 MCELDERRY ST  03/07/2016   \n",
       "22      0001 003 012512   0001   003          2041 W NORTH AVE  01/25/2012   \n",
       "23      0001 006 120214   0001   006          2035 W NORTH AVE  12/02/2014   \n",
       "24      0001 007 020113   0001   007          2033 W NORTH AVE  02/01/2013   \n",
       "25      0001 008 070115   0001   008          2031 W NORTH AVE  07/01/2015   \n",
       "26      0001 015 012816   0001   015          2017 W NORTH AVE  01/28/2016   \n",
       "27      0001 026 121410   0001   026          1810 N PAYSON ST  12/14/2010   \n",
       "28      0001 028 020808   0001   028          1806 N PAYSON ST  02/08/2008   \n",
       "29      0002 069 030918   0002   069          1825 APPLETON ST  03/09/2018   \n",
       "...                 ...    ...   ...                       ...         ...   \n",
       "16662   7613 041 121715   7613   041             410 SWALE AVE  12/17/2015   \n",
       "16663   7614 002 100305   7614   002      503 CHERRY HILL ROAD  10/03/2005   \n",
       "16664   7614 009 041415   7614   009      517 CHERRY HILL ROAD  04/14/2015   \n",
       "16665   7614 014 012214   7614   014       500 BRIDGEVIEW ROAD  01/22/2014   \n",
       "16666   7614 017 083013   7614   017       506 BRIDGEVIEW ROAD  08/30/2013   \n",
       "16667   7615 013 102414   7615   013        446 ROUNDVIEW ROAD  10/24/2014   \n",
       "16668   7615 014 071814   7615   014        448 ROUNDVIEW ROAD  07/18/2014   \n",
       "16669   7615 017 052010   7615   017        454 ROUNDVIEW ROAD  05/20/2010   \n",
       "16670   7615 019 111015   7615   019        458 ROUNDVIEW ROAD  11/10/2015   \n",
       "16671   7616 042 111105   7616   042           512 SEAGULL AVE  11/11/2005   \n",
       "16672   7617 021 111015   7617   021         3053 ASCENSION ST  11/10/2015   \n",
       "16673   7779 002 081015   7779   002      2534 WASHINGTON BLVD  08/10/2015   \n",
       "16674   7779 006 022416   7779   006      2522 WASHINGTON BLVD  02/24/2016   \n",
       "16675  7779 006A 030714   7779  006A      2518 WASHINGTON BLVD  03/07/2014   \n",
       "16676   7983 004 050407   7983   004           1107 WALNUT AVE  05/04/2007   \n",
       "16677   7987 013 051110   7987   013       4315 FLOWERTON ROAD  05/11/2010   \n",
       "16678   8017 011 032912   8017   011         520 OVERDALE ROAD  03/29/2012   \n",
       "16679   8030 003 090407   8030   003        5002 FREDERICK AVE  09/04/2007   \n",
       "16680   8030 005 050914   8030   005          2 N WICKHAM ROAD  05/09/2014   \n",
       "16681   8298 004 123009   8298   004  4407 LIBERTY HEIGHTS AVE  12/30/2009   \n",
       "16682   8301 007 111315   8301   007            4312 MAINE AVE  11/13/2015   \n",
       "16683   8301 014 090712   8301   014  4301 LIBERTY HEIGHTS AVE  09/07/2012   \n",
       "16684   8318 001 073114   8318   001        5100 GWYNN OAK AVE  07/31/2014   \n",
       "16685   8319 003 083012   8319   003         5605 FERNPARK AVE  08/30/2012   \n",
       "16686   8328 007 070912   8328   007        5314 GWYNN OAK AVE  07/09/2012   \n",
       "16687   8333 002 072415   8333   002        5505 GWYNN OAK AVE  07/24/2015   \n",
       "16688   8358 001 022615   8358   001       4101 SPRINGDALE AVE  02/26/2015   \n",
       "16689  8415 001F 041713   8415  001F               2017 OAK DR  04/17/2013   \n",
       "16690   8422 031 081314   8422   031          5219 W NORTH AVE  08/13/2014   \n",
       "16691   8434F002 101411  8434F   002  5112 N FRANKLINTOWN ROAD  10/14/2011   \n",
       "\n",
       "                     Neighborhood PoliceDistrict  CouncilDistrict  \\\n",
       "0                      EASTERWOOD        western                7   \n",
       "1                      EASTERWOOD        western                7   \n",
       "2                     HARLEM PARK        western                9   \n",
       "3                 FRANKLIN SQUARE        western                9   \n",
       "4             Sandtown-Winchester        western                9   \n",
       "5                CARROLLTON RIDGE       southern                9   \n",
       "6                      Boyd-Booth   southwestern                9   \n",
       "7                        DOWNTOWN        central               11   \n",
       "8      WASHINGTON VILLAGE/PIGTOWN       southern               10   \n",
       "9                      Boyd-Booth   southwestern                9   \n",
       "10                     Boyd-Booth   southwestern                9   \n",
       "11                   Union Square       southern                9   \n",
       "12                 Hollins Market       southern                9   \n",
       "13     WASHINGTON VILLAGE/PIGTOWN       southern               10   \n",
       "14                   Union Square       southern                9   \n",
       "15                         OLIVER        eastern               12   \n",
       "16                  BROADWAY EAST        eastern               13   \n",
       "17                  BROADWAY EAST        eastern               12   \n",
       "18                  BROADWAY EAST        eastern               13   \n",
       "19      New Southwest/Mount Clare       southern                9   \n",
       "20                 MCELDERRY PARK   southeastern               13   \n",
       "21          ELLWOOD PARK/MONUMENT   southeastern               13   \n",
       "22                     EASTERWOOD        western                7   \n",
       "23                     EASTERWOOD        western                7   \n",
       "24                     EASTERWOOD        western                7   \n",
       "25                     EASTERWOOD        western                7   \n",
       "26                     EASTERWOOD        western                7   \n",
       "27                     EASTERWOOD        western                7   \n",
       "28                     EASTERWOOD        western                7   \n",
       "29                     Easterwood        western                7   \n",
       "...                           ...            ...              ...   \n",
       "16662                 CHERRY HILL       southern               10   \n",
       "16663                 CHERRY HILL       southern               10   \n",
       "16664                 CHERRY HILL       southern               10   \n",
       "16665                 CHERRY HILL       southern               10   \n",
       "16666                 CHERRY HILL       southern               10   \n",
       "16667                 CHERRY HILL       southern               10   \n",
       "16668                 CHERRY HILL       southern               10   \n",
       "16669                 CHERRY HILL       southern               10   \n",
       "16670                 CHERRY HILL       southern               10   \n",
       "16671                 CHERRY HILL       southern               10   \n",
       "16672                 CHERRY HILL       southern               10   \n",
       "16673                MORRELL PARK   southwestern               10   \n",
       "16674                MORRELL PARK   southwestern               10   \n",
       "16675                MORRELL PARK   southwestern               10   \n",
       "16676              ROGNEL HEIGHTS   southwestern                8   \n",
       "16677              ROGNEL HEIGHTS   southwestern                8   \n",
       "16678                   TEN HILLS   southwestern                8   \n",
       "16679                   TEN HILLS   southwestern                8   \n",
       "16680                   TEN HILLS   southwestern                8   \n",
       "16681                 HOWARD PARK   northwestern                8   \n",
       "16682         CENTRAL FOREST PARK   northwestern                8   \n",
       "16683         CENTRAL FOREST PARK   northwestern                8   \n",
       "16684                 HOWARD PARK   northwestern                8   \n",
       "16685                 HOWARD PARK   northwestern                8   \n",
       "16686                 HOWARD PARK   northwestern                8   \n",
       "16687                 HOWARD PARK   northwestern                8   \n",
       "16688         CENTRAL FOREST PARK   northwestern                8   \n",
       "16689                FRANKLINTOWN   southwestern                8   \n",
       "16690                FRANKLINTOWN   southwestern                8   \n",
       "16691                FRANKLINTOWN   southwestern                8   \n",
       "\n",
       "                          Location       ReferenceID   Latitude  Longitude  \n",
       "0      (39.30952601, -76.64848892)   0002 019 031016  39.309526 -76.648489  \n",
       "1      (39.30856758, -76.64921157)   0007 057 031116  39.308568 -76.649212  \n",
       "2      (39.29482152, -76.63877572)   0125 012 030816  39.294822 -76.638776  \n",
       "3      (39.29261888, -76.64231678)   0151 009 030716  39.292619 -76.642317  \n",
       "4      (39.29975212, -76.64415784)   0074 010 030918  39.299752 -76.644158  \n",
       "5      (39.28383911, -76.64647246)   0275 060 030716  39.283839 -76.646472  \n",
       "6      (39.28783131, -76.64939781)   0206 035 031418  39.287831 -76.649398  \n",
       "7       (39.29280154, -76.6178644)   0599 008 031116  39.292802 -76.617864  \n",
       "8      (39.28035426, -76.63645611)   0767 117 030816  39.280354 -76.636456  \n",
       "9       (39.2875711, -76.64891445)   0206 049 031418  39.287571 -76.648914  \n",
       "10     (39.28789672, -76.64717506)   0207 047 031418  39.287897 -76.647175  \n",
       "11      (39.2878181, -76.63895877)   0215 030 031418  39.287818 -76.638959  \n",
       "12     (39.28848956, -76.63356746)   0219 023 031418  39.288490 -76.633567  \n",
       "13     (39.28160587, -76.63017981)   0855 008 030816  39.281606 -76.630180  \n",
       "14     (39.28598718, -76.63966474)   0247 043 031518  39.285987 -76.639665  \n",
       "15     (39.30815721, -76.59707552)   1126 056 030716  39.308157 -76.597076  \n",
       "16     (39.31174375, -76.58335172)   1454 029 030716  39.311744 -76.583352  \n",
       "17     (39.30822909, -76.59304661)   1477 047 031116  39.308229 -76.593047  \n",
       "18     (39.30757991, -76.58751523)   1500 011 030716  39.307580 -76.587515  \n",
       "19     (39.28466697, -76.63975999)   0264 040 031418  39.284667 -76.639760  \n",
       "20     (39.29769466, -76.57887137)   1658 069 030916  39.297695 -76.578871  \n",
       "21     (39.29784806, -76.57460498)   1661 009 030716  39.297848 -76.574605  \n",
       "22     (39.30941765, -76.65104057)   0001 003 012512  39.309418 -76.651041  \n",
       "23     (39.30942276, -76.65089166)   0001 006 120214  39.309423 -76.650892  \n",
       "24     (39.30942443, -76.65084103)   0001 007 020113  39.309424 -76.650841  \n",
       "25     (39.30942603, -76.65079304)   0001 008 070115  39.309426 -76.650793  \n",
       "26     (39.30943944, -76.65044524)   0001 015 012816  39.309439 -76.650445  \n",
       "27     (39.30902061, -76.65010741)   0001 026 121410  39.309021 -76.650107  \n",
       "28     (39.30894358, -76.65010312)   0001 028 020808  39.308944 -76.650103  \n",
       "29     (39.30931305, -76.64874425)   0002 069 030918  39.309313 -76.648744  \n",
       "...                            ...               ...        ...        ...  \n",
       "16662  (39.24980752, -76.61932506)   7614 002 100305  39.250627 -76.621040  \n",
       "16663  (39.25062706, -76.62103964)   7614 009 041415  39.250321 -76.621513  \n",
       "16664  (39.25032059, -76.62151326)   7614 014 012214  39.250343 -76.620595  \n",
       "16665  (39.25034282, -76.62059497)   7614 017 083013  39.250279 -76.620761  \n",
       "16666  (39.25027888, -76.62076128)   7615 013 102414  39.249838 -76.620350  \n",
       "16667  (39.24983767, -76.62034951)   7615 014 071814  39.249801 -76.620336  \n",
       "16668  (39.24980143, -76.62033606)   7615 017 052010  39.249599 -76.620262  \n",
       "16669  (39.24959948, -76.62026233)   7615 019 111015  39.249505 -76.620269  \n",
       "16670  (39.24950509, -76.62026893)   7616 042 111105  39.248195 -76.618234  \n",
       "16671  (39.24819518, -76.61823445)   7617 021 111015  39.248882 -76.618042  \n",
       "16672  (39.24888198, -76.61804168)   7779 002 081015  39.266331 -76.653296  \n",
       "16673  (39.26633075, -76.65329643)   7779 006 022416  39.266539 -76.653056  \n",
       "16674  (39.26653873, -76.65305597)  7779 006A 030714  39.266574 -76.653013  \n",
       "16675  (39.26657385, -76.65301285)   7983 004 050407  39.297122 -76.691604  \n",
       "16676  (39.29712221, -76.69160444)   7987 013 051110  39.296351 -76.689867  \n",
       "16677  (39.29635104, -76.68986713)   8017 011 032912  39.289890 -76.700262  \n",
       "16678  (39.28988999, -76.70026177)   8030 003 090407  39.282203 -76.697147  \n",
       "16679  (39.28220261, -76.69714693)   8030 005 050914  39.284254 -76.697728  \n",
       "16680  (39.28425381, -76.69772777)   8298 004 123009  39.329946 -76.692362  \n",
       "16681  (39.32994573, -76.69236165)   8301 007 111315  39.329122 -76.691585  \n",
       "16682  (39.32912219, -76.69158499)   8301 014 090712  39.329250 -76.690111  \n",
       "16683  (39.32925005, -76.69011071)   8318 001 073114  39.330594 -76.702116  \n",
       "16684   (39.33059429, -76.7021156)   8319 003 083012  39.331984 -76.709873  \n",
       "16685  (39.33198372, -76.70987321)   8328 007 070912  39.328933 -76.707378  \n",
       "16686  (39.32893322, -76.70737763)   8333 002 072415  39.328173 -76.708050  \n",
       "16687  (39.32817276, -76.70805038)   8358 001 022615  39.326279 -76.688917  \n",
       "16688   (39.3262788, -76.68891737)  8415 001F 041713  39.311706 -76.710871  \n",
       "16689  (39.31170598, -76.71087117)   8422 031 081314  39.308747 -76.710774  \n",
       "16690   (39.3087471, -76.71077407)   8434F002 101411  39.303825 -76.709725  \n",
       "16691   (39.3038252, -76.70972528)               NaN        NaN        NaN  \n",
       "\n",
       "[16691 rows x 12 columns]"
      ]
     },
     "execution_count": 101,
     "metadata": {},
     "output_type": "execute_result"
    }
   ],
   "source": [
    "result = pd.concat([df_vacant, df_location],axis=1, join_axes=[df_vacant.index])\n",
    "result"
   ]
  },
  {
   "cell_type": "code",
   "execution_count": 113,
   "metadata": {},
   "outputs": [
    {
     "ename": "ModuleNotFoundError",
     "evalue": "No module named 'shapely'",
     "output_type": "error",
     "traceback": [
      "\u001b[1;31m---------------------------------------------------------------------------\u001b[0m",
      "\u001b[1;31mModuleNotFoundError\u001b[0m                       Traceback (most recent call last)",
      "\u001b[1;32m<ipython-input-113-a3f01d71b2ca>\u001b[0m in \u001b[0;36m<module>\u001b[1;34m()\u001b[0m\n\u001b[1;32m----> 1\u001b[1;33m \u001b[1;32mfrom\u001b[0m \u001b[0mshapely\u001b[0m\u001b[1;33m.\u001b[0m\u001b[0mgeometry\u001b[0m \u001b[1;32mimport\u001b[0m \u001b[0mPoint\u001b[0m\u001b[1;33m\u001b[0m\u001b[0m\n\u001b[0m\u001b[0;32m      2\u001b[0m \u001b[0mresult\u001b[0m\u001b[1;33m[\u001b[0m\u001b[1;34m'Coordinates'\u001b[0m\u001b[1;33m]\u001b[0m \u001b[1;33m=\u001b[0m \u001b[0mlist\u001b[0m\u001b[1;33m(\u001b[0m\u001b[0mzip\u001b[0m\u001b[1;33m(\u001b[0m\u001b[0mresult\u001b[0m\u001b[1;33m.\u001b[0m\u001b[0mLongitude\u001b[0m\u001b[1;33m,\u001b[0m \u001b[0mresult\u001b[0m\u001b[1;33m.\u001b[0m\u001b[0mLatitude\u001b[0m\u001b[1;33m)\u001b[0m\u001b[1;33m)\u001b[0m\u001b[1;33m\u001b[0m\u001b[0m\n\u001b[0;32m      3\u001b[0m \u001b[0mresult\u001b[0m\u001b[1;33m[\u001b[0m\u001b[1;34m'Coordinates'\u001b[0m\u001b[1;33m]\u001b[0m \u001b[1;33m=\u001b[0m \u001b[0mresult\u001b[0m\u001b[1;33m[\u001b[0m\u001b[1;34m'Coordinates'\u001b[0m\u001b[1;33m]\u001b[0m\u001b[1;33m.\u001b[0m\u001b[0mapply\u001b[0m\u001b[1;33m(\u001b[0m\u001b[0mPoint\u001b[0m\u001b[1;33m)\u001b[0m\u001b[1;33m\u001b[0m\u001b[0m\n\u001b[0;32m      4\u001b[0m \u001b[0mgdf\u001b[0m \u001b[1;33m=\u001b[0m \u001b[0mgeopandas\u001b[0m\u001b[1;33m.\u001b[0m\u001b[0mGeoDataFrame\u001b[0m\u001b[1;33m(\u001b[0m\u001b[0mresult\u001b[0m\u001b[1;33m,\u001b[0m \u001b[0mgeometry\u001b[0m\u001b[1;33m=\u001b[0m\u001b[1;34m'Coordinates'\u001b[0m\u001b[1;33m)\u001b[0m\u001b[1;33m\u001b[0m\u001b[0m\n\u001b[0;32m      5\u001b[0m \u001b[0mgdf\u001b[0m\u001b[1;33m.\u001b[0m\u001b[0mplot\u001b[0m\u001b[1;33m(\u001b[0m\u001b[0mresult\u001b[0m\u001b[1;33m[\u001b[0m\u001b[1;34m'Coordinates'\u001b[0m\u001b[1;33m]\u001b[0m\u001b[1;33m,\u001b[0m \u001b[0mcolor\u001b[0m\u001b[1;33m=\u001b[0m\u001b[1;34m'red'\u001b[0m\u001b[1;33m)\u001b[0m\u001b[1;33m\u001b[0m\u001b[0m\n",
      "\u001b[1;31mModuleNotFoundError\u001b[0m: No module named 'shapely'"
     ]
    }
   ],
   "source": [
    "from shapely.geometry import Point\n",
    "result['Coordinates'] = list(zip(result.Longitude, result.Latitude))\n",
    "result['Coordinates'] = result['Coordinates'].apply(Point)\n",
    "gdf = geopandas.GeoDataFrame(result, geometry='Coordinates')\n",
    "gdf.plot(result['Coordinates'], color='red')\n",
    "plt.show()"
   ]
  },
  {
   "cell_type": "code",
   "execution_count": null,
   "metadata": {},
   "outputs": [],
   "source": []
  },
  {
   "cell_type": "code",
   "execution_count": null,
   "metadata": {},
   "outputs": [],
   "source": []
  }
 ],
 "metadata": {
  "kernelspec": {
   "display_name": "Python 3",
   "language": "python",
   "name": "python3"
  },
  "language_info": {
   "codemirror_mode": {
    "name": "ipython",
    "version": 3
   },
   "file_extension": ".py",
   "mimetype": "text/x-python",
   "name": "python",
   "nbconvert_exporter": "python",
   "pygments_lexer": "ipython3",
   "version": "3.6.5"
  }
 },
 "nbformat": 4,
 "nbformat_minor": 2
}
